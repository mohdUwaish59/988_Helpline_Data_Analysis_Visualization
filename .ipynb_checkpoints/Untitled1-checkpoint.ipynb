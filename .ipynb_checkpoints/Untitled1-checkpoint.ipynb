{
 "cells": [
  {
   "cell_type": "code",
   "execution_count": null,
   "id": "7a398cb1",
   "metadata": {},
   "outputs": [],
   "source": [
    "gdf = gpd.read_file('USA_SHP/cb_2018_us_state_500k.shp')\n",
    "#print(gdf)\n",
    "# Read your suicide data from an Excel file\n",
    "suicide_data = pd.read_excel('datasets/suicide_data_2021.xlsx')  # Replace 'your_suicide_data.xlsx' with your Excel file path\n",
    "\n",
    "# Merge the shapefile with your data based on a common key (e.g., State)\n",
    "merged_data = gdf.set_index('STUSPS').join(suicide_data.set_index('STATE'))\n",
    "\n",
    "# Create the choropleth map\n",
    "\n",
    "plt.figure(figsize=(8, 8))\n",
    "merged_data.plot(column='RATE', cmap='YlOrRd', linewidth=0.8, ax=plt.gca(), edgecolor='0.8', legend=True)\n",
    "\n",
    "# Set axis labels and title\n",
    "plt.title('State-wise Suicide Rates in the USA', fontsize=16)\n",
    "plt.xlabel('Longitude', fontsize=12)\n",
    "plt.ylabel('Latitude', fontsize=12)\n",
    "\n",
    "# Customize the legend (if needed)\n",
    "legend = plt.gca().get_legend()\n",
    "legend.set_title(\"Suicide Rate\")\n",
    "\n",
    "plt.show()"
   ]
  },
  {
   "cell_type": "code",
   "execution_count": null,
   "id": "e37ab218",
   "metadata": {},
   "outputs": [],
   "source": [
    "\n",
    "fig, ax = plt.subplots(figsize=(20, 4))  # Increase the figure size\n",
    "\n",
    "# Plot the choropleth map based on the \"SuicideRate\" column\n",
    "merged_data.plot(column='RATE', cmap='YlOrRd', linewidth=0.8, ax=ax, edgecolor='0.8', legend=True)\n",
    "\n",
    "# Add state labels with better spacing\n",
    "for x, y, label in zip(merged_data.geometry.centroid.x, merged_data.geometry.centroid.y, merged_data.index):\n",
    "    ax.text(x, y, label, fontsize=10, ha='center', va='center')\n",
    "\n",
    "# Add suicide rate labels with better spacing\n",
    "for x, y, rate in zip(merged_data.geometry.centroid.x, merged_data.geometry.centroid.y, merged_data['RATE']):\n",
    "    ax.text(x, y - 0.5, f'{rate:.2f}', fontsize=8, ha='center', va='center')\n",
    "\n",
    "# Set axis labels and title\n",
    "ax.set_title('State-wise Suicide Rates in the USA', fontsize=16)\n",
    "ax.set_xlabel('Longitude', fontsize=12)\n",
    "ax.set_ylabel('Latitude', fontsize=12)\n",
    "\n",
    "# Customize the legend (if needed)\n",
    "legend = ax.get_legend()\n",
    "legend.set_title(\"Suicide Rate\")\n",
    "\n",
    "# Show the map\n",
    "plt.show()"
   ]
  },
  {
   "cell_type": "code",
   "execution_count": null,
   "id": "2e1b064c",
   "metadata": {},
   "outputs": [],
   "source": [
    "# Create a larger plot\n",
    "fig, ax = plt.subplots(figsize=(30,6))  # Increase the figure size further\n",
    "\n",
    "# Plot the choropleth map based on the \"SuicideRate\" column\n",
    "merged_data.plot(column='RATE', cmap='YlOrRd', linewidth=0.8, ax=ax, edgecolor='0.8', legend=True)\n",
    "\n",
    "# Add state labels with better spacing\n",
    "for x, y, label in zip(merged_data.geometry.centroid.x, merged_data.geometry.centroid.y, merged_data.index):\n",
    "    ax.text(x, y, label, fontsize=12, ha='center', va='center')\n",
    "\n",
    "# Add suicide rate labels with better spacing\n",
    "'''for x, y, rate in zip(merged_data.geometry.centroid.x, merged_data.geometry.centroid.y, merged_data['RATE']):\n",
    "    ax.text(x, y - 0.5, f'{rate:.2f}', fontsize=10, ha='center', va='center')'''\n",
    "\n",
    "# Set axis labels and title\n",
    "ax.set_title('State-wise Suicide Rates in the USA', fontsize=20)\n",
    "ax.set_xlabel('Longitude', fontsize=16)\n",
    "ax.set_ylabel('Latitude', fontsize=16)\n",
    "\n",
    "# Customize the legend (if needed)\n",
    "legend = ax.get_legend()\n",
    "legend.set_title(\"Suicide Rate\")\n",
    "\n",
    "# Show the map\n",
    "plt.show()"
   ]
  },
  {
   "cell_type": "code",
   "execution_count": null,
   "id": "9812f70d",
   "metadata": {},
   "outputs": [],
   "source": [
    "# Reproject the GeoDataFrame to a projected CRS (e.g., UTM) for accurate centroid calculations\n",
    "# You'll need to specify the appropriate CRS for your region\n",
    "projected_crs = 'EPSG:32633'  # Example UTM Zone 33N, adjust as needed\n",
    "merged_data = merged_data.to_crs(projected_crs)\n",
    "\n",
    "# Create a plot with a larger size and resolution\n",
    "fig, ax = plt.subplots(figsize=(30, 20), dpi=300)  # Adjust the figure size and dpi as needed\n",
    "ax.set_aspect('auto')  # Set automatic aspect ratio\n",
    "\n",
    "# Plot the choropleth map based on the \"RATE\" column with a thicker linewidth\n",
    "choropleth = merged_data.plot(column='RATE', cmap='YlOrRd', linewidth=2.0, ax=ax, edgecolor='0.8', legend=False)\n",
    "\n",
    "# Add state labels with better spacing\n",
    "for x, y, label in zip(merged_data.geometry.centroid.x, merged_data.geometry.centroid.y, merged_data.index):\n",
    "    ax.text(x, y, label, fontsize=12, ha='center', va='center')\n",
    "\n",
    "# Add suicide rate labels with better spacing\n",
    "#for x, y, rate in zip(merged_data.geometry.centroid.x, merged_data.geometry.centroid.y, merged_data['RATE']):\n",
    "    #ax.text(x, y - 5000, f'{rate:.2f}', fontsize=10, ha='center', va='center')\n",
    "\n",
    "# Create a colorbar legend for the choropleth map\n",
    "sm = ScalarMappable(cmap='YlOrRd')\n",
    "sm.set_array(merged_data['RATE'])\n",
    "cbar = plt.colorbar(sm, ax=ax, orientation='vertical', shrink=0.5)\n",
    "cbar.set_label(\"RATE\")  # Set the legend label\n",
    "\n",
    "# Set axis labels and title\n",
    "ax.set_xlabel('Eastings (meters)', fontsize=16)\n",
    "ax.set_ylabel('Northings (meters)', fontsize=16)\n",
    "ax.set_title('State-wise Suicide Rates in the USA', fontsize=20)\n",
    "\n",
    "# Add a scale\n",
    "\n",
    "# Show the map\n",
    "plt.show()"
   ]
  },
  {
   "cell_type": "code",
   "execution_count": null,
   "id": "0c028af6",
   "metadata": {},
   "outputs": [],
   "source": []
  },
  {
   "cell_type": "code",
   "execution_count": null,
   "id": "a3780ba7",
   "metadata": {},
   "outputs": [],
   "source": []
  },
  {
   "cell_type": "code",
   "execution_count": null,
   "id": "08edeeec",
   "metadata": {},
   "outputs": [],
   "source": []
  },
  {
   "cell_type": "code",
   "execution_count": null,
   "id": "be55cd13",
   "metadata": {},
   "outputs": [],
   "source": []
  },
  {
   "cell_type": "code",
   "execution_count": null,
   "id": "4b125d16",
   "metadata": {},
   "outputs": [],
   "source": []
  },
  {
   "cell_type": "code",
   "execution_count": null,
   "id": "ddc0014f",
   "metadata": {},
   "outputs": [],
   "source": []
  },
  {
   "cell_type": "code",
   "execution_count": null,
   "id": "4eec872c",
   "metadata": {},
   "outputs": [],
   "source": []
  },
  {
   "cell_type": "code",
   "execution_count": null,
   "id": "ca8f5931",
   "metadata": {},
   "outputs": [],
   "source": []
  },
  {
   "cell_type": "code",
   "execution_count": null,
   "id": "e05b147d",
   "metadata": {},
   "outputs": [],
   "source": []
  },
  {
   "cell_type": "code",
   "execution_count": null,
   "id": "5d350c81",
   "metadata": {},
   "outputs": [],
   "source": []
  },
  {
   "cell_type": "code",
   "execution_count": null,
   "id": "30fc2c89",
   "metadata": {},
   "outputs": [],
   "source": []
  },
  {
   "cell_type": "code",
   "execution_count": null,
   "id": "50a1b11a",
   "metadata": {},
   "outputs": [],
   "source": []
  },
  {
   "cell_type": "code",
   "execution_count": null,
   "id": "35d842bd",
   "metadata": {},
   "outputs": [],
   "source": []
  },
  {
   "cell_type": "code",
   "execution_count": null,
   "id": "f8f223b3",
   "metadata": {},
   "outputs": [],
   "source": []
  },
  {
   "cell_type": "code",
   "execution_count": null,
   "id": "0ec9e78d",
   "metadata": {},
   "outputs": [],
   "source": []
  }
 ],
 "metadata": {
  "kernelspec": {
   "display_name": "Python 3 (ipykernel)",
   "language": "python",
   "name": "python3"
  },
  "language_info": {
   "codemirror_mode": {
    "name": "ipython",
    "version": 3
   },
   "file_extension": ".py",
   "mimetype": "text/x-python",
   "name": "python",
   "nbconvert_exporter": "python",
   "pygments_lexer": "ipython3",
   "version": "3.10.9"
  }
 },
 "nbformat": 4,
 "nbformat_minor": 5
}
