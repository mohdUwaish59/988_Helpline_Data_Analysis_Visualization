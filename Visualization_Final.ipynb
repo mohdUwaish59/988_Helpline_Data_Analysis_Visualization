{
 "cells": [
  {
   "cell_type": "markdown",
   "id": "9f034b53",
   "metadata": {
    "tags": []
   },
   "source": [
    "### Dialing Hope: Examining the 988 Suicide Helpline in the United States\n",
    "---------------------------------------------------------------------"
   ]
  },
  {
   "cell_type": "markdown",
   "id": "c5804051",
   "metadata": {},
   "source": [
    "###  By: Mohd Uwaish\n",
    "----------------------------------------------------------------------\n",
    "-  [Blog](https://www.digitaldankeschoen.com/)\n",
    "- [GitHub](https://github.com/mohdUwaish59/)\n",
    "-  [LinkedIn](https://www.linkedin.com/in/mohd-uwaish-72b779282/)  \n",
    "-  [Xing](https://www.xing.com/profile/Mohd_Uwaish/cv)\n",
    "\n"
   ]
  },
  {
   "cell_type": "markdown",
   "id": "02ebdb92",
   "metadata": {},
   "source": [
    "### Datasets:\n",
    "--------------------------------\n",
    "### (1) [988Lifeline](https://988lifeline.org/our-network/)\n",
    "### (2) [Global Data Lab](https://globaldatalab.org/shdi/table/shdi/USA/)"
   ]
  },
  {
   "cell_type": "markdown",
   "id": "4ca36470",
   "metadata": {},
   "source": [
    "**Mental health in the US and the 988 line**"
   ]
  },
  {
   "cell_type": "markdown",
   "id": "5692b59c-408f-4a4e-80a1-c48f586d509d",
   "metadata": {},
   "source": [
    "The USA is in the throes of a mental health crisis, and has been since the start of the 21st century.  With a 30% increase in the nationwide suicide rate since 1999, and steadily increasing rates the last decade in 49 out of the 50 states in the country, it is difficult to overstate the impact of declining mental health on American society. In a great many studies of the phenomenon across the last two decades, often overlooked is the disregard of mental health issues faced by BIPOC and LGBTQ+ people in particular. More recently however, decentralised, community-centric efforts have been made to address these inequities.  ",
    " ",
    "\n",
    "\n",
    "It did not help this cause that a pandemic that forced staying insular and made less human interactions public policy descended upon the whole world. COVID-19 aggravated the prevailing issue of inequities while addressing the mental health crisis; the above mentioned communities experienced heightened rates of suicide while the majority white Caucasian and older people saw lower rates as compared to the previous year. Young people aged between 5 and 24 also saw increased rates, with, again, people from marginalised communities seeing disproportionately higher deaths from suicide in 2021. ",
    " ",
    "\n",
    "\n",
    "In the midst of this fresh predicament, the US government unveiled a new suicide helpline, 988, with the aim of alleviating the country’s mental health struggles in the long term through timely, appropriate support and intervention. This 3-digit dialing code was proposed by Congress in 2020 in place of the then-existing National Suicide Prevention Lifeline. This new Suicide and Crisis Lifeline, a network of 200+ crisis centres across the 50 states and other US-held territories, promised 24/7 service via a toll-free hotline.  ",
    " ",
    "\n",
    "\n",
    "However, criticism followed shortly, with detractors pointing to lived experiences of those who had tried to utilise the service being redirected often to the police, followed by detainment and/or involuntary psychiatric treatment. The administrators of the helpline, Vibrant, along with government representatives, made it a point to draw attention to the fact that only 2% of all calls in 2021 were classified as those needing emergency intervention of any kind. ",
    " ",
    "\n",
    "\n",
    "The aim of this study is to draw out KPIs from the given call data from the month of July in 2021 till July 2022. Not withstanding the criticisms of such a support system, regardless of their validity, the need for it cannot be a matter of contention. In fact, analyses of this system and studying its pitfalls may also benefit decentralised efforts toward more intimate, community-based support in the long run. I wish to carry out this study to broaden our own understanding of the benefits and pitfalls of this system, and possibly serve as a cornerstone in any analyses of other similar crisis intervention systems across the world.  ",
    " ",
    "\n",
    "\n",
    "\n",
    "Finally, a note: I understand that the issue being discussed is of a sensitive nature, and frivolous and unnecessary comparisons have been sought out and avoided to the best of our abilities.\n"
   ]
  },
  {
   "cell_type": "markdown",
   "id": "851d8c83",
   "metadata": {},
   "source": [
    "---------------------------------------\n",
    "**Suicide rate for Year 2021 (Jul-Dec)**\n",
    "---------------------------------------\n",
    "---------------------------------------"
   ]
  },
  {
   "cell_type": "code",
   "execution_count": 52,
   "id": "48be8d31",
   "metadata": {
    "tags": []
   },
   "outputs": [
    {
     "data": {
      "application/vnd.plotly.v1+json": {
       "config": {
        "plotlyServerURL": "https://plot.ly"
       },
       "data": [
        {
         "coloraxis": "coloraxis",
         "customdata": [
          [
           2021,
           827,
           "/nchs/pressroom/states/alabama/al.htm"
          ],
          [
           2021,
           220,
           "/nchs/pressroom/states/alaska/ak.htm"
          ],
          [
           2021,
           1475,
           "/nchs/pressroom/states/arizona/az.htm"
          ],
          [
           2021,
           618,
           "/nchs/pressroom/states/arkansas/ar.htm"
          ],
          [
           2021,
           4148,
           "/nchs/pressroom/states/california/ca.htm"
          ],
          [
           2021,
           1384,
           "/nchs/pressroom/states/colorado/co.htm"
          ],
          [
           2021,
           401,
           "/nchs/pressroom/states/connecticut/ct.htm"
          ],
          [
           2021,
           137,
           "/nchs/pressroom/states/delaware/de.htm"
          ],
          [
           2021,
           3351,
           "/nchs/pressroom/states/florida/fl.htm"
          ],
          [
           2021,
           1676,
           "/nchs/pressroom/states/georgia/ga.htm"
          ],
          [
           2021,
           202,
           "/nchs/pressroom/states/hawaii/hi.htm"
          ],
          [
           2021,
           387,
           "/nchs/pressroom/states/idaho/id.htm"
          ],
          [
           2021,
           1454,
           "/nchs/pressroom/states/illinois/il.htm"
          ],
          [
           2021,
           1129,
           "/nchs/pressroom/states/indiana/in.htm"
          ],
          [
           2021,
           549,
           "/nchs/pressroom/states/iowa/ia.htm"
          ],
          [
           2021,
           560,
           "/nchs/pressroom/states/kansas/ks.htm"
          ],
          [
           2021,
           816,
           "/nchs/pressroom/states/kentucky/ky.htm"
          ],
          [
           2021,
           689,
           "/nchs/pressroom/states/louisiana/la.htm"
          ],
          [
           2021,
           277,
           "/nchs/pressroom/states/maine/me.htm"
          ],
          [
           2021,
           620,
           "/nchs/pressroom/states/maryland/md.htm"
          ],
          [
           2021,
           604,
           "/nchs/pressroom/states/massachusetts/ma.htm"
          ],
          [
           2021,
           1485,
           "/nchs/pressroom/states/michigan/mi.htm"
          ],
          [
           2021,
           808,
           "/nchs/pressroom/states/minnesota/mn.htm"
          ],
          [
           2021,
           480,
           "/nchs/pressroom/states/mississippi/ms.htm"
          ],
          [
           2021,
           1177,
           "/nchs/pressroom/states/missouri/mo.htm"
          ],
          [
           2021,
           350,
           "/nchs/pressroom/states/montana/mt.htm"
          ],
          [
           2021,
           288,
           "/nchs/pressroom/states/nebraska/ne.htm"
          ],
          [
           2021,
           691,
           "/nchs/pressroom/states/nevada/nv.htm"
          ],
          [
           2021,
           223,
           "/nchs/pressroom/states/newhampshire/nh.htm"
          ],
          [
           2021,
           688,
           "/nchs/pressroom/states/newjersey/nj.htm"
          ],
          [
           2021,
           533,
           "/nchs/pressroom/states/newmexico/nm.htm"
          ],
          [
           2021,
           1660,
           "/nchs/pressroom/states/newyork/ny.htm"
          ],
          [
           2021,
           1448,
           "/nchs/pressroom/states/northcarolina/nc.htm"
          ],
          [
           2021,
           156,
           "/nchs/pressroom/states/northdakota/nd.htm"
          ],
          [
           2021,
           1766,
           "/nchs/pressroom/states/ohio/oh.htm"
          ],
          [
           2021,
           877,
           "/nchs/pressroom/states/oklahoma/ok.htm"
          ],
          [
           2021,
           889,
           "/nchs/pressroom/states/oregon/or.htm"
          ],
          [
           2021,
           1885,
           "/nchs/pressroom/states/pennsylvania/pa.htm"
          ],
          [
           2021,
           117,
           "/nchs/pressroom/states/rhodeisland/ri.htm"
          ],
          [
           2021,
           802,
           "/nchs/pressroom/states/southcarolina/sc.htm"
          ],
          [
           2021,
           203,
           "/nchs/pressroom/states/southdakota/sd.htm"
          ],
          [
           2021,
           1222,
           "/nchs/pressroom/states/tennessee/tn.htm"
          ],
          [
           2021,
           4193,
           "/nchs/pressroom/states/texas/tx.htm"
          ],
          [
           2021,
           643,
           "/nchs/pressroom/states/utah/ut.htm"
          ],
          [
           2021,
           142,
           "/nchs/pressroom/states/vermont/vt.htm"
          ],
          [
           2021,
           1188,
           "/nchs/pressroom/states/virginia/va.htm"
          ],
          [
           2021,
           1229,
           "/nchs/pressroom/states/washington/wa.htm"
          ],
          [
           2021,
           375,
           "/nchs/pressroom/states/westvirginia/wv.htm"
          ],
          [
           2021,
           905,
           "/nchs/pressroom/states/wisconsin/wi.htm"
          ],
          [
           2021,
           190,
           "/nchs/pressroom/states/wyoming/wy.htm"
          ]
         ],
         "geo": "geo",
         "hovertemplate": "State=%{location}<br>YEAR=%{customdata[0]}<br>DEATHS=%{customdata[1]}<br>URL=%{customdata[2]}<br>RATE=%{z}<extra></extra>",
         "locationmode": "USA-states",
         "locations": [
          "AL",
          "AK",
          "AZ",
          "AR",
          "CA",
          "CO",
          "CT",
          "DE",
          "FL",
          "GA",
          "HI",
          "ID",
          "IL",
          "IN",
          "IA",
          "KS",
          "KY",
          "LA",
          "ME",
          "MD",
          "MA",
          "MI",
          "MN",
          "MS",
          "MO",
          "MT",
          "NE",
          "NV",
          "NH",
          "NJ",
          "NM",
          "NY",
          "NC",
          "ND",
          "OH",
          "OK",
          "OR",
          "PA",
          "RI",
          "SC",
          "SD",
          "TN",
          "TX",
          "UT",
          "VT",
          "VA",
          "WA",
          "WV",
          "WI",
          "WY"
         ],
         "name": "",
         "type": "choropleth",
         "z": [
          15.8,
          30.8,
          19.5,
          20.6,
          10.1,
          22.8,
          10,
          13.6,
          14,
          15.3,
          13.7,
          20.5,
          11.1,
          16.4,
          17.5,
          19.4,
          17.9,
          14.8,
          19.5,
          9.7,
          8,
          14.3,
          13.9,
          16.2,
          18.7,
          32,
          15,
          21.5,
          15.1,
          7.1,
          25,
          7.9,
          13.2,
          20.8,
          14.6,
          22.1,
          19.5,
          13.9,
          10.3,
          15.2,
          23.2,
          17,
          14.2,
          20.1,
          20.3,
          13.2,
          15.3,
          20.6,
          15.1,
          32.3
         ]
        },
        {
         "hoverinfo": "text",
         "locationmode": "USA-states",
         "locations": [
          "WY",
          "NJ"
         ],
         "marker": {
          "color": [
           "purple",
           "red"
          ],
          "line": {
           "color": "black",
           "width": 2
          },
          "opacity": 0.7,
          "size": [
           20,
           20
          ],
          "symbol": [
           "circle-x-open",
           "triangle-up"
          ]
         },
         "mode": "markers+text",
         "type": "scattergeo"
        },
        {
         "lat": [
          null
         ],
         "lon": [
          null
         ],
         "marker": {
          "color": "purple",
          "line": {
           "color": "black",
           "width": 2
          },
          "opacity": 1,
          "size": 10,
          "symbol": "circle-x-open"
         },
         "mode": "markers",
         "name": "WY - Highest Rate (32.3)",
         "type": "scattergeo"
        },
        {
         "lat": [
          null
         ],
         "lon": [
          null
         ],
         "marker": {
          "color": "red",
          "line": {
           "color": "black",
           "width": 2
          },
          "opacity": 1,
          "size": 10,
          "symbol": "triangle-up"
         },
         "mode": "markers",
         "name": "NJ - Lowest Rate (7.1)",
         "type": "scattergeo"
        }
       ],
       "layout": {
        "coloraxis": {
         "colorbar": {
          "title": {
           "text": "RATE"
          }
         },
         "colorscale": [
          [
           0,
           "#440154"
          ],
          [
           0.1111111111111111,
           "#482878"
          ],
          [
           0.2222222222222222,
           "#3e4989"
          ],
          [
           0.3333333333333333,
           "#31688e"
          ],
          [
           0.4444444444444444,
           "#26828e"
          ],
          [
           0.5555555555555556,
           "#1f9e89"
          ],
          [
           0.6666666666666666,
           "#35b779"
          ],
          [
           0.7777777777777778,
           "#6ece58"
          ],
          [
           0.8888888888888888,
           "#b5de2b"
          ],
          [
           1,
           "#fde725"
          ]
         ]
        },
        "geo": {
         "center": {},
         "domain": {
          "x": [
           0,
           1
          ],
          "y": [
           0,
           1
          ]
         },
         "scope": "usa"
        },
        "legend": {
         "tracegroupgap": 0,
         "traceorder": "normal",
         "x": -0.5,
         "y": 0.5
        },
        "template": {
         "data": {
          "bar": [
           {
            "error_x": {
             "color": "#2a3f5f"
            },
            "error_y": {
             "color": "#2a3f5f"
            },
            "marker": {
             "line": {
              "color": "#E5ECF6",
              "width": 0.5
             },
             "pattern": {
              "fillmode": "overlay",
              "size": 10,
              "solidity": 0.2
             }
            },
            "type": "bar"
           }
          ],
          "barpolar": [
           {
            "marker": {
             "line": {
              "color": "#E5ECF6",
              "width": 0.5
             },
             "pattern": {
              "fillmode": "overlay",
              "size": 10,
              "solidity": 0.2
             }
            },
            "type": "barpolar"
           }
          ],
          "carpet": [
           {
            "aaxis": {
             "endlinecolor": "#2a3f5f",
             "gridcolor": "white",
             "linecolor": "white",
             "minorgridcolor": "white",
             "startlinecolor": "#2a3f5f"
            },
            "baxis": {
             "endlinecolor": "#2a3f5f",
             "gridcolor": "white",
             "linecolor": "white",
             "minorgridcolor": "white",
             "startlinecolor": "#2a3f5f"
            },
            "type": "carpet"
           }
          ],
          "choropleth": [
           {
            "colorbar": {
             "outlinewidth": 0,
             "ticks": ""
            },
            "type": "choropleth"
           }
          ],
          "contour": [
           {
            "colorbar": {
             "outlinewidth": 0,
             "ticks": ""
            },
            "colorscale": [
             [
              0,
              "#0d0887"
             ],
             [
              0.1111111111111111,
              "#46039f"
             ],
             [
              0.2222222222222222,
              "#7201a8"
             ],
             [
              0.3333333333333333,
              "#9c179e"
             ],
             [
              0.4444444444444444,
              "#bd3786"
             ],
             [
              0.5555555555555556,
              "#d8576b"
             ],
             [
              0.6666666666666666,
              "#ed7953"
             ],
             [
              0.7777777777777778,
              "#fb9f3a"
             ],
             [
              0.8888888888888888,
              "#fdca26"
             ],
             [
              1,
              "#f0f921"
             ]
            ],
            "type": "contour"
           }
          ],
          "contourcarpet": [
           {
            "colorbar": {
             "outlinewidth": 0,
             "ticks": ""
            },
            "type": "contourcarpet"
           }
          ],
          "heatmap": [
           {
            "colorbar": {
             "outlinewidth": 0,
             "ticks": ""
            },
            "colorscale": [
             [
              0,
              "#0d0887"
             ],
             [
              0.1111111111111111,
              "#46039f"
             ],
             [
              0.2222222222222222,
              "#7201a8"
             ],
             [
              0.3333333333333333,
              "#9c179e"
             ],
             [
              0.4444444444444444,
              "#bd3786"
             ],
             [
              0.5555555555555556,
              "#d8576b"
             ],
             [
              0.6666666666666666,
              "#ed7953"
             ],
             [
              0.7777777777777778,
              "#fb9f3a"
             ],
             [
              0.8888888888888888,
              "#fdca26"
             ],
             [
              1,
              "#f0f921"
             ]
            ],
            "type": "heatmap"
           }
          ],
          "heatmapgl": [
           {
            "colorbar": {
             "outlinewidth": 0,
             "ticks": ""
            },
            "colorscale": [
             [
              0,
              "#0d0887"
             ],
             [
              0.1111111111111111,
              "#46039f"
             ],
             [
              0.2222222222222222,
              "#7201a8"
             ],
             [
              0.3333333333333333,
              "#9c179e"
             ],
             [
              0.4444444444444444,
              "#bd3786"
             ],
             [
              0.5555555555555556,
              "#d8576b"
             ],
             [
              0.6666666666666666,
              "#ed7953"
             ],
             [
              0.7777777777777778,
              "#fb9f3a"
             ],
             [
              0.8888888888888888,
              "#fdca26"
             ],
             [
              1,
              "#f0f921"
             ]
            ],
            "type": "heatmapgl"
           }
          ],
          "histogram": [
           {
            "marker": {
             "pattern": {
              "fillmode": "overlay",
              "size": 10,
              "solidity": 0.2
             }
            },
            "type": "histogram"
           }
          ],
          "histogram2d": [
           {
            "colorbar": {
             "outlinewidth": 0,
             "ticks": ""
            },
            "colorscale": [
             [
              0,
              "#0d0887"
             ],
             [
              0.1111111111111111,
              "#46039f"
             ],
             [
              0.2222222222222222,
              "#7201a8"
             ],
             [
              0.3333333333333333,
              "#9c179e"
             ],
             [
              0.4444444444444444,
              "#bd3786"
             ],
             [
              0.5555555555555556,
              "#d8576b"
             ],
             [
              0.6666666666666666,
              "#ed7953"
             ],
             [
              0.7777777777777778,
              "#fb9f3a"
             ],
             [
              0.8888888888888888,
              "#fdca26"
             ],
             [
              1,
              "#f0f921"
             ]
            ],
            "type": "histogram2d"
           }
          ],
          "histogram2dcontour": [
           {
            "colorbar": {
             "outlinewidth": 0,
             "ticks": ""
            },
            "colorscale": [
             [
              0,
              "#0d0887"
             ],
             [
              0.1111111111111111,
              "#46039f"
             ],
             [
              0.2222222222222222,
              "#7201a8"
             ],
             [
              0.3333333333333333,
              "#9c179e"
             ],
             [
              0.4444444444444444,
              "#bd3786"
             ],
             [
              0.5555555555555556,
              "#d8576b"
             ],
             [
              0.6666666666666666,
              "#ed7953"
             ],
             [
              0.7777777777777778,
              "#fb9f3a"
             ],
             [
              0.8888888888888888,
              "#fdca26"
             ],
             [
              1,
              "#f0f921"
             ]
            ],
            "type": "histogram2dcontour"
           }
          ],
          "mesh3d": [
           {
            "colorbar": {
             "outlinewidth": 0,
             "ticks": ""
            },
            "type": "mesh3d"
           }
          ],
          "parcoords": [
           {
            "line": {
             "colorbar": {
              "outlinewidth": 0,
              "ticks": ""
             }
            },
            "type": "parcoords"
           }
          ],
          "pie": [
           {
            "automargin": true,
            "type": "pie"
           }
          ],
          "scatter": [
           {
            "fillpattern": {
             "fillmode": "overlay",
             "size": 10,
             "solidity": 0.2
            },
            "type": "scatter"
           }
          ],
          "scatter3d": [
           {
            "line": {
             "colorbar": {
              "outlinewidth": 0,
              "ticks": ""
             }
            },
            "marker": {
             "colorbar": {
              "outlinewidth": 0,
              "ticks": ""
             }
            },
            "type": "scatter3d"
           }
          ],
          "scattercarpet": [
           {
            "marker": {
             "colorbar": {
              "outlinewidth": 0,
              "ticks": ""
             }
            },
            "type": "scattercarpet"
           }
          ],
          "scattergeo": [
           {
            "marker": {
             "colorbar": {
              "outlinewidth": 0,
              "ticks": ""
             }
            },
            "type": "scattergeo"
           }
          ],
          "scattergl": [
           {
            "marker": {
             "colorbar": {
              "outlinewidth": 0,
              "ticks": ""
             }
            },
            "type": "scattergl"
           }
          ],
          "scattermapbox": [
           {
            "marker": {
             "colorbar": {
              "outlinewidth": 0,
              "ticks": ""
             }
            },
            "type": "scattermapbox"
           }
          ],
          "scatterpolar": [
           {
            "marker": {
             "colorbar": {
              "outlinewidth": 0,
              "ticks": ""
             }
            },
            "type": "scatterpolar"
           }
          ],
          "scatterpolargl": [
           {
            "marker": {
             "colorbar": {
              "outlinewidth": 0,
              "ticks": ""
             }
            },
            "type": "scatterpolargl"
           }
          ],
          "scatterternary": [
           {
            "marker": {
             "colorbar": {
              "outlinewidth": 0,
              "ticks": ""
             }
            },
            "type": "scatterternary"
           }
          ],
          "surface": [
           {
            "colorbar": {
             "outlinewidth": 0,
             "ticks": ""
            },
            "colorscale": [
             [
              0,
              "#0d0887"
             ],
             [
              0.1111111111111111,
              "#46039f"
             ],
             [
              0.2222222222222222,
              "#7201a8"
             ],
             [
              0.3333333333333333,
              "#9c179e"
             ],
             [
              0.4444444444444444,
              "#bd3786"
             ],
             [
              0.5555555555555556,
              "#d8576b"
             ],
             [
              0.6666666666666666,
              "#ed7953"
             ],
             [
              0.7777777777777778,
              "#fb9f3a"
             ],
             [
              0.8888888888888888,
              "#fdca26"
             ],
             [
              1,
              "#f0f921"
             ]
            ],
            "type": "surface"
           }
          ],
          "table": [
           {
            "cells": {
             "fill": {
              "color": "#EBF0F8"
             },
             "line": {
              "color": "white"
             }
            },
            "header": {
             "fill": {
              "color": "#C8D4E3"
             },
             "line": {
              "color": "white"
             }
            },
            "type": "table"
           }
          ]
         },
         "layout": {
          "annotationdefaults": {
           "arrowcolor": "#2a3f5f",
           "arrowhead": 0,
           "arrowwidth": 1
          },
          "autotypenumbers": "strict",
          "coloraxis": {
           "colorbar": {
            "outlinewidth": 0,
            "ticks": ""
           }
          },
          "colorscale": {
           "diverging": [
            [
             0,
             "#8e0152"
            ],
            [
             0.1,
             "#c51b7d"
            ],
            [
             0.2,
             "#de77ae"
            ],
            [
             0.3,
             "#f1b6da"
            ],
            [
             0.4,
             "#fde0ef"
            ],
            [
             0.5,
             "#f7f7f7"
            ],
            [
             0.6,
             "#e6f5d0"
            ],
            [
             0.7,
             "#b8e186"
            ],
            [
             0.8,
             "#7fbc41"
            ],
            [
             0.9,
             "#4d9221"
            ],
            [
             1,
             "#276419"
            ]
           ],
           "sequential": [
            [
             0,
             "#0d0887"
            ],
            [
             0.1111111111111111,
             "#46039f"
            ],
            [
             0.2222222222222222,
             "#7201a8"
            ],
            [
             0.3333333333333333,
             "#9c179e"
            ],
            [
             0.4444444444444444,
             "#bd3786"
            ],
            [
             0.5555555555555556,
             "#d8576b"
            ],
            [
             0.6666666666666666,
             "#ed7953"
            ],
            [
             0.7777777777777778,
             "#fb9f3a"
            ],
            [
             0.8888888888888888,
             "#fdca26"
            ],
            [
             1,
             "#f0f921"
            ]
           ],
           "sequentialminus": [
            [
             0,
             "#0d0887"
            ],
            [
             0.1111111111111111,
             "#46039f"
            ],
            [
             0.2222222222222222,
             "#7201a8"
            ],
            [
             0.3333333333333333,
             "#9c179e"
            ],
            [
             0.4444444444444444,
             "#bd3786"
            ],
            [
             0.5555555555555556,
             "#d8576b"
            ],
            [
             0.6666666666666666,
             "#ed7953"
            ],
            [
             0.7777777777777778,
             "#fb9f3a"
            ],
            [
             0.8888888888888888,
             "#fdca26"
            ],
            [
             1,
             "#f0f921"
            ]
           ]
          },
          "colorway": [
           "#636efa",
           "#EF553B",
           "#00cc96",
           "#ab63fa",
           "#FFA15A",
           "#19d3f3",
           "#FF6692",
           "#B6E880",
           "#FF97FF",
           "#FECB52"
          ],
          "font": {
           "color": "#2a3f5f"
          },
          "geo": {
           "bgcolor": "white",
           "lakecolor": "white",
           "landcolor": "#E5ECF6",
           "showlakes": true,
           "showland": true,
           "subunitcolor": "white"
          },
          "hoverlabel": {
           "align": "left"
          },
          "hovermode": "closest",
          "mapbox": {
           "style": "light"
          },
          "paper_bgcolor": "white",
          "plot_bgcolor": "#E5ECF6",
          "polar": {
           "angularaxis": {
            "gridcolor": "white",
            "linecolor": "white",
            "ticks": ""
           },
           "bgcolor": "#E5ECF6",
           "radialaxis": {
            "gridcolor": "white",
            "linecolor": "white",
            "ticks": ""
           }
          },
          "scene": {
           "xaxis": {
            "backgroundcolor": "#E5ECF6",
            "gridcolor": "white",
            "gridwidth": 2,
            "linecolor": "white",
            "showbackground": true,
            "ticks": "",
            "zerolinecolor": "white"
           },
           "yaxis": {
            "backgroundcolor": "#E5ECF6",
            "gridcolor": "white",
            "gridwidth": 2,
            "linecolor": "white",
            "showbackground": true,
            "ticks": "",
            "zerolinecolor": "white"
           },
           "zaxis": {
            "backgroundcolor": "#E5ECF6",
            "gridcolor": "white",
            "gridwidth": 2,
            "linecolor": "white",
            "showbackground": true,
            "ticks": "",
            "zerolinecolor": "white"
           }
          },
          "shapedefaults": {
           "line": {
            "color": "#2a3f5f"
           }
          },
          "ternary": {
           "aaxis": {
            "gridcolor": "white",
            "linecolor": "white",
            "ticks": ""
           },
           "baxis": {
            "gridcolor": "white",
            "linecolor": "white",
            "ticks": ""
           },
           "bgcolor": "#E5ECF6",
           "caxis": {
            "gridcolor": "white",
            "linecolor": "white",
            "ticks": ""
           }
          },
          "title": {
           "x": 0.05
          },
          "xaxis": {
           "automargin": true,
           "gridcolor": "white",
           "linecolor": "white",
           "ticks": "",
           "title": {
            "standoff": 15
           },
           "zerolinecolor": "white",
           "zerolinewidth": 2
          },
          "yaxis": {
           "automargin": true,
           "gridcolor": "white",
           "linecolor": "white",
           "ticks": "",
           "title": {
            "standoff": 15
           },
           "zerolinecolor": "white",
           "zerolinewidth": 2
          }
         }
        },
        "title": {
         "text": "Suicide Rates by State in the USA (Jul 2021 - Dec 2021)"
        }
       }
      },
      "text/html": [
       "<div>                            <div id=\"094ead14-16fe-4fe4-9a31-7efb386ae117\" class=\"plotly-graph-div\" style=\"height:525px; width:100%;\"></div>            <script type=\"text/javascript\">                require([\"plotly\"], function(Plotly) {                    window.PLOTLYENV=window.PLOTLYENV || {};                                    if (document.getElementById(\"094ead14-16fe-4fe4-9a31-7efb386ae117\")) {                    Plotly.newPlot(                        \"094ead14-16fe-4fe4-9a31-7efb386ae117\",                        [{\"coloraxis\":\"coloraxis\",\"customdata\":[[2021,827,\"/nchs/pressroom/states/alabama/al.htm\"],[2021,220,\"/nchs/pressroom/states/alaska/ak.htm\"],[2021,1475,\"/nchs/pressroom/states/arizona/az.htm\"],[2021,618,\"/nchs/pressroom/states/arkansas/ar.htm\"],[2021,4148,\"/nchs/pressroom/states/california/ca.htm\"],[2021,1384,\"/nchs/pressroom/states/colorado/co.htm\"],[2021,401,\"/nchs/pressroom/states/connecticut/ct.htm\"],[2021,137,\"/nchs/pressroom/states/delaware/de.htm\"],[2021,3351,\"/nchs/pressroom/states/florida/fl.htm\"],[2021,1676,\"/nchs/pressroom/states/georgia/ga.htm\"],[2021,202,\"/nchs/pressroom/states/hawaii/hi.htm\"],[2021,387,\"/nchs/pressroom/states/idaho/id.htm\"],[2021,1454,\"/nchs/pressroom/states/illinois/il.htm\"],[2021,1129,\"/nchs/pressroom/states/indiana/in.htm\"],[2021,549,\"/nchs/pressroom/states/iowa/ia.htm\"],[2021,560,\"/nchs/pressroom/states/kansas/ks.htm\"],[2021,816,\"/nchs/pressroom/states/kentucky/ky.htm\"],[2021,689,\"/nchs/pressroom/states/louisiana/la.htm\"],[2021,277,\"/nchs/pressroom/states/maine/me.htm\"],[2021,620,\"/nchs/pressroom/states/maryland/md.htm\"],[2021,604,\"/nchs/pressroom/states/massachusetts/ma.htm\"],[2021,1485,\"/nchs/pressroom/states/michigan/mi.htm\"],[2021,808,\"/nchs/pressroom/states/minnesota/mn.htm\"],[2021,480,\"/nchs/pressroom/states/mississippi/ms.htm\"],[2021,1177,\"/nchs/pressroom/states/missouri/mo.htm\"],[2021,350,\"/nchs/pressroom/states/montana/mt.htm\"],[2021,288,\"/nchs/pressroom/states/nebraska/ne.htm\"],[2021,691,\"/nchs/pressroom/states/nevada/nv.htm\"],[2021,223,\"/nchs/pressroom/states/newhampshire/nh.htm\"],[2021,688,\"/nchs/pressroom/states/newjersey/nj.htm\"],[2021,533,\"/nchs/pressroom/states/newmexico/nm.htm\"],[2021,1660,\"/nchs/pressroom/states/newyork/ny.htm\"],[2021,1448,\"/nchs/pressroom/states/northcarolina/nc.htm\"],[2021,156,\"/nchs/pressroom/states/northdakota/nd.htm\"],[2021,1766,\"/nchs/pressroom/states/ohio/oh.htm\"],[2021,877,\"/nchs/pressroom/states/oklahoma/ok.htm\"],[2021,889,\"/nchs/pressroom/states/oregon/or.htm\"],[2021,1885,\"/nchs/pressroom/states/pennsylvania/pa.htm\"],[2021,117,\"/nchs/pressroom/states/rhodeisland/ri.htm\"],[2021,802,\"/nchs/pressroom/states/southcarolina/sc.htm\"],[2021,203,\"/nchs/pressroom/states/southdakota/sd.htm\"],[2021,1222,\"/nchs/pressroom/states/tennessee/tn.htm\"],[2021,4193,\"/nchs/pressroom/states/texas/tx.htm\"],[2021,643,\"/nchs/pressroom/states/utah/ut.htm\"],[2021,142,\"/nchs/pressroom/states/vermont/vt.htm\"],[2021,1188,\"/nchs/pressroom/states/virginia/va.htm\"],[2021,1229,\"/nchs/pressroom/states/washington/wa.htm\"],[2021,375,\"/nchs/pressroom/states/westvirginia/wv.htm\"],[2021,905,\"/nchs/pressroom/states/wisconsin/wi.htm\"],[2021,190,\"/nchs/pressroom/states/wyoming/wy.htm\"]],\"geo\":\"geo\",\"hovertemplate\":\"State=%{location}<br>YEAR=%{customdata[0]}<br>DEATHS=%{customdata[1]}<br>URL=%{customdata[2]}<br>RATE=%{z}<extra></extra>\",\"locationmode\":\"USA-states\",\"locations\":[\"AL\",\"AK\",\"AZ\",\"AR\",\"CA\",\"CO\",\"CT\",\"DE\",\"FL\",\"GA\",\"HI\",\"ID\",\"IL\",\"IN\",\"IA\",\"KS\",\"KY\",\"LA\",\"ME\",\"MD\",\"MA\",\"MI\",\"MN\",\"MS\",\"MO\",\"MT\",\"NE\",\"NV\",\"NH\",\"NJ\",\"NM\",\"NY\",\"NC\",\"ND\",\"OH\",\"OK\",\"OR\",\"PA\",\"RI\",\"SC\",\"SD\",\"TN\",\"TX\",\"UT\",\"VT\",\"VA\",\"WA\",\"WV\",\"WI\",\"WY\"],\"name\":\"\",\"z\":[15.8,30.8,19.5,20.6,10.1,22.8,10.0,13.6,14.0,15.3,13.7,20.5,11.1,16.4,17.5,19.4,17.9,14.8,19.5,9.7,8.0,14.3,13.9,16.2,18.7,32.0,15.0,21.5,15.1,7.1,25.0,7.9,13.2,20.8,14.6,22.1,19.5,13.9,10.3,15.2,23.2,17.0,14.2,20.1,20.3,13.2,15.3,20.6,15.1,32.3],\"type\":\"choropleth\"},{\"hoverinfo\":\"text\",\"locationmode\":\"USA-states\",\"locations\":[\"WY\",\"NJ\"],\"marker\":{\"color\":[\"purple\",\"red\"],\"line\":{\"color\":\"black\",\"width\":2},\"opacity\":0.7,\"size\":[20,20],\"symbol\":[\"circle-x-open\",\"triangle-up\"]},\"mode\":\"markers+text\",\"type\":\"scattergeo\"},{\"lat\":[null],\"lon\":[null],\"marker\":{\"color\":\"purple\",\"line\":{\"color\":\"black\",\"width\":2},\"opacity\":1,\"size\":10,\"symbol\":\"circle-x-open\"},\"mode\":\"markers\",\"name\":\"WY - Highest Rate (32.3)\",\"type\":\"scattergeo\"},{\"lat\":[null],\"lon\":[null],\"marker\":{\"color\":\"red\",\"line\":{\"color\":\"black\",\"width\":2},\"opacity\":1,\"size\":10,\"symbol\":\"triangle-up\"},\"mode\":\"markers\",\"name\":\"NJ - Lowest Rate (7.1)\",\"type\":\"scattergeo\"}],                        {\"template\":{\"data\":{\"histogram2dcontour\":[{\"type\":\"histogram2dcontour\",\"colorbar\":{\"outlinewidth\":0,\"ticks\":\"\"},\"colorscale\":[[0.0,\"#0d0887\"],[0.1111111111111111,\"#46039f\"],[0.2222222222222222,\"#7201a8\"],[0.3333333333333333,\"#9c179e\"],[0.4444444444444444,\"#bd3786\"],[0.5555555555555556,\"#d8576b\"],[0.6666666666666666,\"#ed7953\"],[0.7777777777777778,\"#fb9f3a\"],[0.8888888888888888,\"#fdca26\"],[1.0,\"#f0f921\"]]}],\"choropleth\":[{\"type\":\"choropleth\",\"colorbar\":{\"outlinewidth\":0,\"ticks\":\"\"}}],\"histogram2d\":[{\"type\":\"histogram2d\",\"colorbar\":{\"outlinewidth\":0,\"ticks\":\"\"},\"colorscale\":[[0.0,\"#0d0887\"],[0.1111111111111111,\"#46039f\"],[0.2222222222222222,\"#7201a8\"],[0.3333333333333333,\"#9c179e\"],[0.4444444444444444,\"#bd3786\"],[0.5555555555555556,\"#d8576b\"],[0.6666666666666666,\"#ed7953\"],[0.7777777777777778,\"#fb9f3a\"],[0.8888888888888888,\"#fdca26\"],[1.0,\"#f0f921\"]]}],\"heatmap\":[{\"type\":\"heatmap\",\"colorbar\":{\"outlinewidth\":0,\"ticks\":\"\"},\"colorscale\":[[0.0,\"#0d0887\"],[0.1111111111111111,\"#46039f\"],[0.2222222222222222,\"#7201a8\"],[0.3333333333333333,\"#9c179e\"],[0.4444444444444444,\"#bd3786\"],[0.5555555555555556,\"#d8576b\"],[0.6666666666666666,\"#ed7953\"],[0.7777777777777778,\"#fb9f3a\"],[0.8888888888888888,\"#fdca26\"],[1.0,\"#f0f921\"]]}],\"heatmapgl\":[{\"type\":\"heatmapgl\",\"colorbar\":{\"outlinewidth\":0,\"ticks\":\"\"},\"colorscale\":[[0.0,\"#0d0887\"],[0.1111111111111111,\"#46039f\"],[0.2222222222222222,\"#7201a8\"],[0.3333333333333333,\"#9c179e\"],[0.4444444444444444,\"#bd3786\"],[0.5555555555555556,\"#d8576b\"],[0.6666666666666666,\"#ed7953\"],[0.7777777777777778,\"#fb9f3a\"],[0.8888888888888888,\"#fdca26\"],[1.0,\"#f0f921\"]]}],\"contourcarpet\":[{\"type\":\"contourcarpet\",\"colorbar\":{\"outlinewidth\":0,\"ticks\":\"\"}}],\"contour\":[{\"type\":\"contour\",\"colorbar\":{\"outlinewidth\":0,\"ticks\":\"\"},\"colorscale\":[[0.0,\"#0d0887\"],[0.1111111111111111,\"#46039f\"],[0.2222222222222222,\"#7201a8\"],[0.3333333333333333,\"#9c179e\"],[0.4444444444444444,\"#bd3786\"],[0.5555555555555556,\"#d8576b\"],[0.6666666666666666,\"#ed7953\"],[0.7777777777777778,\"#fb9f3a\"],[0.8888888888888888,\"#fdca26\"],[1.0,\"#f0f921\"]]}],\"surface\":[{\"type\":\"surface\",\"colorbar\":{\"outlinewidth\":0,\"ticks\":\"\"},\"colorscale\":[[0.0,\"#0d0887\"],[0.1111111111111111,\"#46039f\"],[0.2222222222222222,\"#7201a8\"],[0.3333333333333333,\"#9c179e\"],[0.4444444444444444,\"#bd3786\"],[0.5555555555555556,\"#d8576b\"],[0.6666666666666666,\"#ed7953\"],[0.7777777777777778,\"#fb9f3a\"],[0.8888888888888888,\"#fdca26\"],[1.0,\"#f0f921\"]]}],\"mesh3d\":[{\"type\":\"mesh3d\",\"colorbar\":{\"outlinewidth\":0,\"ticks\":\"\"}}],\"scatter\":[{\"fillpattern\":{\"fillmode\":\"overlay\",\"size\":10,\"solidity\":0.2},\"type\":\"scatter\"}],\"parcoords\":[{\"type\":\"parcoords\",\"line\":{\"colorbar\":{\"outlinewidth\":0,\"ticks\":\"\"}}}],\"scatterpolargl\":[{\"type\":\"scatterpolargl\",\"marker\":{\"colorbar\":{\"outlinewidth\":0,\"ticks\":\"\"}}}],\"bar\":[{\"error_x\":{\"color\":\"#2a3f5f\"},\"error_y\":{\"color\":\"#2a3f5f\"},\"marker\":{\"line\":{\"color\":\"#E5ECF6\",\"width\":0.5},\"pattern\":{\"fillmode\":\"overlay\",\"size\":10,\"solidity\":0.2}},\"type\":\"bar\"}],\"scattergeo\":[{\"type\":\"scattergeo\",\"marker\":{\"colorbar\":{\"outlinewidth\":0,\"ticks\":\"\"}}}],\"scatterpolar\":[{\"type\":\"scatterpolar\",\"marker\":{\"colorbar\":{\"outlinewidth\":0,\"ticks\":\"\"}}}],\"histogram\":[{\"marker\":{\"pattern\":{\"fillmode\":\"overlay\",\"size\":10,\"solidity\":0.2}},\"type\":\"histogram\"}],\"scattergl\":[{\"type\":\"scattergl\",\"marker\":{\"colorbar\":{\"outlinewidth\":0,\"ticks\":\"\"}}}],\"scatter3d\":[{\"type\":\"scatter3d\",\"line\":{\"colorbar\":{\"outlinewidth\":0,\"ticks\":\"\"}},\"marker\":{\"colorbar\":{\"outlinewidth\":0,\"ticks\":\"\"}}}],\"scattermapbox\":[{\"type\":\"scattermapbox\",\"marker\":{\"colorbar\":{\"outlinewidth\":0,\"ticks\":\"\"}}}],\"scatterternary\":[{\"type\":\"scatterternary\",\"marker\":{\"colorbar\":{\"outlinewidth\":0,\"ticks\":\"\"}}}],\"scattercarpet\":[{\"type\":\"scattercarpet\",\"marker\":{\"colorbar\":{\"outlinewidth\":0,\"ticks\":\"\"}}}],\"carpet\":[{\"aaxis\":{\"endlinecolor\":\"#2a3f5f\",\"gridcolor\":\"white\",\"linecolor\":\"white\",\"minorgridcolor\":\"white\",\"startlinecolor\":\"#2a3f5f\"},\"baxis\":{\"endlinecolor\":\"#2a3f5f\",\"gridcolor\":\"white\",\"linecolor\":\"white\",\"minorgridcolor\":\"white\",\"startlinecolor\":\"#2a3f5f\"},\"type\":\"carpet\"}],\"table\":[{\"cells\":{\"fill\":{\"color\":\"#EBF0F8\"},\"line\":{\"color\":\"white\"}},\"header\":{\"fill\":{\"color\":\"#C8D4E3\"},\"line\":{\"color\":\"white\"}},\"type\":\"table\"}],\"barpolar\":[{\"marker\":{\"line\":{\"color\":\"#E5ECF6\",\"width\":0.5},\"pattern\":{\"fillmode\":\"overlay\",\"size\":10,\"solidity\":0.2}},\"type\":\"barpolar\"}],\"pie\":[{\"automargin\":true,\"type\":\"pie\"}]},\"layout\":{\"autotypenumbers\":\"strict\",\"colorway\":[\"#636efa\",\"#EF553B\",\"#00cc96\",\"#ab63fa\",\"#FFA15A\",\"#19d3f3\",\"#FF6692\",\"#B6E880\",\"#FF97FF\",\"#FECB52\"],\"font\":{\"color\":\"#2a3f5f\"},\"hovermode\":\"closest\",\"hoverlabel\":{\"align\":\"left\"},\"paper_bgcolor\":\"white\",\"plot_bgcolor\":\"#E5ECF6\",\"polar\":{\"bgcolor\":\"#E5ECF6\",\"angularaxis\":{\"gridcolor\":\"white\",\"linecolor\":\"white\",\"ticks\":\"\"},\"radialaxis\":{\"gridcolor\":\"white\",\"linecolor\":\"white\",\"ticks\":\"\"}},\"ternary\":{\"bgcolor\":\"#E5ECF6\",\"aaxis\":{\"gridcolor\":\"white\",\"linecolor\":\"white\",\"ticks\":\"\"},\"baxis\":{\"gridcolor\":\"white\",\"linecolor\":\"white\",\"ticks\":\"\"},\"caxis\":{\"gridcolor\":\"white\",\"linecolor\":\"white\",\"ticks\":\"\"}},\"coloraxis\":{\"colorbar\":{\"outlinewidth\":0,\"ticks\":\"\"}},\"colorscale\":{\"sequential\":[[0.0,\"#0d0887\"],[0.1111111111111111,\"#46039f\"],[0.2222222222222222,\"#7201a8\"],[0.3333333333333333,\"#9c179e\"],[0.4444444444444444,\"#bd3786\"],[0.5555555555555556,\"#d8576b\"],[0.6666666666666666,\"#ed7953\"],[0.7777777777777778,\"#fb9f3a\"],[0.8888888888888888,\"#fdca26\"],[1.0,\"#f0f921\"]],\"sequentialminus\":[[0.0,\"#0d0887\"],[0.1111111111111111,\"#46039f\"],[0.2222222222222222,\"#7201a8\"],[0.3333333333333333,\"#9c179e\"],[0.4444444444444444,\"#bd3786\"],[0.5555555555555556,\"#d8576b\"],[0.6666666666666666,\"#ed7953\"],[0.7777777777777778,\"#fb9f3a\"],[0.8888888888888888,\"#fdca26\"],[1.0,\"#f0f921\"]],\"diverging\":[[0,\"#8e0152\"],[0.1,\"#c51b7d\"],[0.2,\"#de77ae\"],[0.3,\"#f1b6da\"],[0.4,\"#fde0ef\"],[0.5,\"#f7f7f7\"],[0.6,\"#e6f5d0\"],[0.7,\"#b8e186\"],[0.8,\"#7fbc41\"],[0.9,\"#4d9221\"],[1,\"#276419\"]]},\"xaxis\":{\"gridcolor\":\"white\",\"linecolor\":\"white\",\"ticks\":\"\",\"title\":{\"standoff\":15},\"zerolinecolor\":\"white\",\"automargin\":true,\"zerolinewidth\":2},\"yaxis\":{\"gridcolor\":\"white\",\"linecolor\":\"white\",\"ticks\":\"\",\"title\":{\"standoff\":15},\"zerolinecolor\":\"white\",\"automargin\":true,\"zerolinewidth\":2},\"scene\":{\"xaxis\":{\"backgroundcolor\":\"#E5ECF6\",\"gridcolor\":\"white\",\"linecolor\":\"white\",\"showbackground\":true,\"ticks\":\"\",\"zerolinecolor\":\"white\",\"gridwidth\":2},\"yaxis\":{\"backgroundcolor\":\"#E5ECF6\",\"gridcolor\":\"white\",\"linecolor\":\"white\",\"showbackground\":true,\"ticks\":\"\",\"zerolinecolor\":\"white\",\"gridwidth\":2},\"zaxis\":{\"backgroundcolor\":\"#E5ECF6\",\"gridcolor\":\"white\",\"linecolor\":\"white\",\"showbackground\":true,\"ticks\":\"\",\"zerolinecolor\":\"white\",\"gridwidth\":2}},\"shapedefaults\":{\"line\":{\"color\":\"#2a3f5f\"}},\"annotationdefaults\":{\"arrowcolor\":\"#2a3f5f\",\"arrowhead\":0,\"arrowwidth\":1},\"geo\":{\"bgcolor\":\"white\",\"landcolor\":\"#E5ECF6\",\"subunitcolor\":\"white\",\"showland\":true,\"showlakes\":true,\"lakecolor\":\"white\"},\"title\":{\"x\":0.05},\"mapbox\":{\"style\":\"light\"}}},\"geo\":{\"domain\":{\"x\":[0.0,1.0],\"y\":[0.0,1.0]},\"center\":{},\"scope\":\"usa\"},\"coloraxis\":{\"colorbar\":{\"title\":{\"text\":\"RATE\"}},\"colorscale\":[[0.0,\"#440154\"],[0.1111111111111111,\"#482878\"],[0.2222222222222222,\"#3e4989\"],[0.3333333333333333,\"#31688e\"],[0.4444444444444444,\"#26828e\"],[0.5555555555555556,\"#1f9e89\"],[0.6666666666666666,\"#35b779\"],[0.7777777777777778,\"#6ece58\"],[0.8888888888888888,\"#b5de2b\"],[1.0,\"#fde725\"]]},\"legend\":{\"tracegroupgap\":0,\"traceorder\":\"normal\",\"x\":-0.5,\"y\":0.5},\"title\":{\"text\":\"Suicide Rates by State in the USA (Jul 2021 - Dec 2021)\"}},                        {\"responsive\": true}                    ).then(function(){\n",
       "                            \n",
       "var gd = document.getElementById('094ead14-16fe-4fe4-9a31-7efb386ae117');\n",
       "var x = new MutationObserver(function (mutations, observer) {{\n",
       "        var display = window.getComputedStyle(gd).display;\n",
       "        if (!display || display === 'none') {{\n",
       "            console.log([gd, 'removed!']);\n",
       "            Plotly.purge(gd);\n",
       "            observer.disconnect();\n",
       "        }}\n",
       "}});\n",
       "\n",
       "// Listen for the removal of the full notebook cells\n",
       "var notebookContainer = gd.closest('#notebook-container');\n",
       "if (notebookContainer) {{\n",
       "    x.observe(notebookContainer, {childList: true});\n",
       "}}\n",
       "\n",
       "// Listen for the clearing of the current output cell\n",
       "var outputEl = gd.closest('.output');\n",
       "if (outputEl) {{\n",
       "    x.observe(outputEl, {childList: true});\n",
       "}}\n",
       "\n",
       "                        })                };                });            </script>        </div>"
      ]
     },
     "metadata": {},
     "output_type": "display_data"
    }
   ],
   "source": [
    "import pandas as pd\n",
    "import plotly.express as px\n",
    "import plotly.graph_objs as go\n",
    "\n",
    "\n",
    "data = pd.read_csv('CSV_DATA/SUICIDE/suicide_data_2021.csv',delimiter=';')\n",
    "\n",
    "# Find the state with the highest and lowest suicide rates\n",
    "state_with_highest_rate = data.loc[data['RATE'].idxmax()]\n",
    "state_with_lowest_rate = data.loc[data['RATE'].idxmin()]\n",
    "\n",
    "# Create the choropleth map without GeoJSON\n",
    "fig = px.choropleth(\n",
    "    data_frame=data,\n",
    "    locations='State',  # Assuming your state column is named 'State'\n",
    "    locationmode='USA-states',  # Specify the location mode for US states\n",
    "    color='RATE',  # Use the 'RATE' column for coloring\n",
    "    color_continuous_scale=\"viridis\",  # Choose your desired color scale\n",
    "    scope=\"usa\",  # Set the map scope to USA\n",
    "    title='Suicide Rates by State in the USA (Jul 2021 - Dec 2021)',\n",
    "    hover_data=['YEAR', 'DEATHS', 'URL']  # Columns to display in hover text\n",
    ")\n",
    "\n",
    "# Create custom 3D markers for the states with the highest and lowest rates\n",
    "marker_size = 20  # Adjust the marker size as needed\n",
    "fig.add_trace(go.Scattergeo(\n",
    "    locations=[state_with_highest_rate['State'], state_with_lowest_rate['State']],\n",
    "    locationmode='USA-states',\n",
    "    #text=[f\"Highest Rate ({state_with_highest_rate['RATE']})\",\n",
    "          #f\"Lowest Rate ({state_with_lowest_rate['RATE']})\"],\n",
    "    marker=dict(\n",
    "        size=[marker_size, marker_size],\n",
    "        symbol=['circle-x-open', 'triangle-up'],  # Choose custom marker symbols\n",
    "        color=['purple', 'red'],\n",
    "        opacity=0.7,  # Adjust marker opacity\n",
    "        line=dict(width=2, color='black'),  # Marker border\n",
    "    ),\n",
    "    mode='markers+text',\n",
    "    hoverinfo='text',\n",
    "))\n",
    "\n",
    "# Add a legend\n",
    "legend_title = 'Legend'\n",
    "custom_markers = [\n",
    "    {'label': f'{state_with_highest_rate[\"State\"]} - Highest Rate ({state_with_highest_rate[\"RATE\"]})', 'symbol': 'circle-x-open', 'color': 'purple'},\n",
    "    {'label': f'{state_with_lowest_rate[\"State\"]} - Lowest Rate ({state_with_lowest_rate[\"RATE\"]})', 'symbol': 'triangle-up', 'color': 'red'}\n",
    "]\n",
    "\n",
    "# Create the legend items and add them to the figure\n",
    "for marker_info in custom_markers:\n",
    "    legend_marker = go.Scattergeo(\n",
    "        lon=[None],  # Set the longitude to None for a legend item\n",
    "        lat=[None],  # Set the latitude to None for a legend item\n",
    "        mode='markers',\n",
    "        marker=dict(\n",
    "            size=10,\n",
    "            symbol=marker_info['symbol'],\n",
    "            color=marker_info['color'],\n",
    "            opacity=1,\n",
    "            line=dict(width=2, color='black'),\n",
    "        ),\n",
    "        name=marker_info['label'],  # Legend label\n",
    "    )\n",
    "    fig.add_trace(legend_marker)\n",
    "\n",
    "# Set legend title and labels, and position the legend to the left\n",
    "fig.update_layout(\n",
    "    legend=dict(\n",
    "        #title_text=legend_title,\n",
    "        traceorder='normal',\n",
    "        x=-0.5,  # Set x to 0 to move the legend to the left\n",
    "        y=0.5,  # Adjust y to position the legend vertically\n",
    "    ),\n",
    ")\n",
    "\n",
    "fig.show()\n"
   ]
  },
  {
   "cell_type": "markdown",
   "id": "a6600dcc-ce72-4e4b-a094-c90da82b7ca3",
   "metadata": {},
   "source": [
    "The analysis of suicide rates reveals a stark contrast between states, with Montana and Wyoming standing out as having the highest rates, while New York, Illinois and California report the lowest rates. \n",
    "This disparity underscores the regional variations in suicide risk within the United States. Montana and Wyoming, both characterized by vast rural areas, face unique challenges related to mental health access, isolation, and economic factors, which may contribute to their elevated rates. Conversely, New York, New Jersey and California, with their more densely populated urban centers and robust healthcare systems, appear to exhibit lower suicide rates.\n"
   ]
  },
  {
   "cell_type": "markdown",
   "id": "2a97e7bc",
   "metadata": {},
   "source": [
    "---------------------------------------\n",
    "**Suicide rate for Year 2022 (Jan-Jul)**\n",
    "---------------------------------------\n",
    "---------------------------------------\n"
   ]
  },
  {
   "cell_type": "code",
   "execution_count": 53,
   "id": "1506b5ba",
   "metadata": {
    "tags": []
   },
   "outputs": [
    {
     "data": {
      "application/vnd.plotly.v1+json": {
       "config": {
        "plotlyServerURL": "https://plot.ly"
       },
       "data": [
        {
         "marker": {
          "color": [
           "skyblue",
           "green",
           "skyblue",
           "skyblue",
           "yellow",
           "skyblue",
           "skyblue"
          ]
         },
         "name": "2022.0",
         "text": [
          "8.39",
          "7.70",
          "8.30",
          "8.13",
          "8.85",
          "8.64",
          "8.83"
         ],
         "textposition": "outside",
         "type": "bar",
         "x": [
          "January",
          "February",
          "March",
          "April",
          "May",
          "June",
          "July"
         ],
         "y": [
          8.3874360374573,
          7.7038205610501,
          8.2964221426693,
          8.1346196630463,
          8.8465505733875,
          8.6382298808729,
          8.8263252634347
         ]
        }
       ],
       "layout": {
        "barmode": "stack",
        "showlegend": true,
        "template": {
         "data": {
          "bar": [
           {
            "error_x": {
             "color": "#2a3f5f"
            },
            "error_y": {
             "color": "#2a3f5f"
            },
            "marker": {
             "line": {
              "color": "#E5ECF6",
              "width": 0.5
             },
             "pattern": {
              "fillmode": "overlay",
              "size": 10,
              "solidity": 0.2
             }
            },
            "type": "bar"
           }
          ],
          "barpolar": [
           {
            "marker": {
             "line": {
              "color": "#E5ECF6",
              "width": 0.5
             },
             "pattern": {
              "fillmode": "overlay",
              "size": 10,
              "solidity": 0.2
             }
            },
            "type": "barpolar"
           }
          ],
          "carpet": [
           {
            "aaxis": {
             "endlinecolor": "#2a3f5f",
             "gridcolor": "white",
             "linecolor": "white",
             "minorgridcolor": "white",
             "startlinecolor": "#2a3f5f"
            },
            "baxis": {
             "endlinecolor": "#2a3f5f",
             "gridcolor": "white",
             "linecolor": "white",
             "minorgridcolor": "white",
             "startlinecolor": "#2a3f5f"
            },
            "type": "carpet"
           }
          ],
          "choropleth": [
           {
            "colorbar": {
             "outlinewidth": 0,
             "ticks": ""
            },
            "type": "choropleth"
           }
          ],
          "contour": [
           {
            "colorbar": {
             "outlinewidth": 0,
             "ticks": ""
            },
            "colorscale": [
             [
              0,
              "#0d0887"
             ],
             [
              0.1111111111111111,
              "#46039f"
             ],
             [
              0.2222222222222222,
              "#7201a8"
             ],
             [
              0.3333333333333333,
              "#9c179e"
             ],
             [
              0.4444444444444444,
              "#bd3786"
             ],
             [
              0.5555555555555556,
              "#d8576b"
             ],
             [
              0.6666666666666666,
              "#ed7953"
             ],
             [
              0.7777777777777778,
              "#fb9f3a"
             ],
             [
              0.8888888888888888,
              "#fdca26"
             ],
             [
              1,
              "#f0f921"
             ]
            ],
            "type": "contour"
           }
          ],
          "contourcarpet": [
           {
            "colorbar": {
             "outlinewidth": 0,
             "ticks": ""
            },
            "type": "contourcarpet"
           }
          ],
          "heatmap": [
           {
            "colorbar": {
             "outlinewidth": 0,
             "ticks": ""
            },
            "colorscale": [
             [
              0,
              "#0d0887"
             ],
             [
              0.1111111111111111,
              "#46039f"
             ],
             [
              0.2222222222222222,
              "#7201a8"
             ],
             [
              0.3333333333333333,
              "#9c179e"
             ],
             [
              0.4444444444444444,
              "#bd3786"
             ],
             [
              0.5555555555555556,
              "#d8576b"
             ],
             [
              0.6666666666666666,
              "#ed7953"
             ],
             [
              0.7777777777777778,
              "#fb9f3a"
             ],
             [
              0.8888888888888888,
              "#fdca26"
             ],
             [
              1,
              "#f0f921"
             ]
            ],
            "type": "heatmap"
           }
          ],
          "heatmapgl": [
           {
            "colorbar": {
             "outlinewidth": 0,
             "ticks": ""
            },
            "colorscale": [
             [
              0,
              "#0d0887"
             ],
             [
              0.1111111111111111,
              "#46039f"
             ],
             [
              0.2222222222222222,
              "#7201a8"
             ],
             [
              0.3333333333333333,
              "#9c179e"
             ],
             [
              0.4444444444444444,
              "#bd3786"
             ],
             [
              0.5555555555555556,
              "#d8576b"
             ],
             [
              0.6666666666666666,
              "#ed7953"
             ],
             [
              0.7777777777777778,
              "#fb9f3a"
             ],
             [
              0.8888888888888888,
              "#fdca26"
             ],
             [
              1,
              "#f0f921"
             ]
            ],
            "type": "heatmapgl"
           }
          ],
          "histogram": [
           {
            "marker": {
             "pattern": {
              "fillmode": "overlay",
              "size": 10,
              "solidity": 0.2
             }
            },
            "type": "histogram"
           }
          ],
          "histogram2d": [
           {
            "colorbar": {
             "outlinewidth": 0,
             "ticks": ""
            },
            "colorscale": [
             [
              0,
              "#0d0887"
             ],
             [
              0.1111111111111111,
              "#46039f"
             ],
             [
              0.2222222222222222,
              "#7201a8"
             ],
             [
              0.3333333333333333,
              "#9c179e"
             ],
             [
              0.4444444444444444,
              "#bd3786"
             ],
             [
              0.5555555555555556,
              "#d8576b"
             ],
             [
              0.6666666666666666,
              "#ed7953"
             ],
             [
              0.7777777777777778,
              "#fb9f3a"
             ],
             [
              0.8888888888888888,
              "#fdca26"
             ],
             [
              1,
              "#f0f921"
             ]
            ],
            "type": "histogram2d"
           }
          ],
          "histogram2dcontour": [
           {
            "colorbar": {
             "outlinewidth": 0,
             "ticks": ""
            },
            "colorscale": [
             [
              0,
              "#0d0887"
             ],
             [
              0.1111111111111111,
              "#46039f"
             ],
             [
              0.2222222222222222,
              "#7201a8"
             ],
             [
              0.3333333333333333,
              "#9c179e"
             ],
             [
              0.4444444444444444,
              "#bd3786"
             ],
             [
              0.5555555555555556,
              "#d8576b"
             ],
             [
              0.6666666666666666,
              "#ed7953"
             ],
             [
              0.7777777777777778,
              "#fb9f3a"
             ],
             [
              0.8888888888888888,
              "#fdca26"
             ],
             [
              1,
              "#f0f921"
             ]
            ],
            "type": "histogram2dcontour"
           }
          ],
          "mesh3d": [
           {
            "colorbar": {
             "outlinewidth": 0,
             "ticks": ""
            },
            "type": "mesh3d"
           }
          ],
          "parcoords": [
           {
            "line": {
             "colorbar": {
              "outlinewidth": 0,
              "ticks": ""
             }
            },
            "type": "parcoords"
           }
          ],
          "pie": [
           {
            "automargin": true,
            "type": "pie"
           }
          ],
          "scatter": [
           {
            "fillpattern": {
             "fillmode": "overlay",
             "size": 10,
             "solidity": 0.2
            },
            "type": "scatter"
           }
          ],
          "scatter3d": [
           {
            "line": {
             "colorbar": {
              "outlinewidth": 0,
              "ticks": ""
             }
            },
            "marker": {
             "colorbar": {
              "outlinewidth": 0,
              "ticks": ""
             }
            },
            "type": "scatter3d"
           }
          ],
          "scattercarpet": [
           {
            "marker": {
             "colorbar": {
              "outlinewidth": 0,
              "ticks": ""
             }
            },
            "type": "scattercarpet"
           }
          ],
          "scattergeo": [
           {
            "marker": {
             "colorbar": {
              "outlinewidth": 0,
              "ticks": ""
             }
            },
            "type": "scattergeo"
           }
          ],
          "scattergl": [
           {
            "marker": {
             "colorbar": {
              "outlinewidth": 0,
              "ticks": ""
             }
            },
            "type": "scattergl"
           }
          ],
          "scattermapbox": [
           {
            "marker": {
             "colorbar": {
              "outlinewidth": 0,
              "ticks": ""
             }
            },
            "type": "scattermapbox"
           }
          ],
          "scatterpolar": [
           {
            "marker": {
             "colorbar": {
              "outlinewidth": 0,
              "ticks": ""
             }
            },
            "type": "scatterpolar"
           }
          ],
          "scatterpolargl": [
           {
            "marker": {
             "colorbar": {
              "outlinewidth": 0,
              "ticks": ""
             }
            },
            "type": "scatterpolargl"
           }
          ],
          "scatterternary": [
           {
            "marker": {
             "colorbar": {
              "outlinewidth": 0,
              "ticks": ""
             }
            },
            "type": "scatterternary"
           }
          ],
          "surface": [
           {
            "colorbar": {
             "outlinewidth": 0,
             "ticks": ""
            },
            "colorscale": [
             [
              0,
              "#0d0887"
             ],
             [
              0.1111111111111111,
              "#46039f"
             ],
             [
              0.2222222222222222,
              "#7201a8"
             ],
             [
              0.3333333333333333,
              "#9c179e"
             ],
             [
              0.4444444444444444,
              "#bd3786"
             ],
             [
              0.5555555555555556,
              "#d8576b"
             ],
             [
              0.6666666666666666,
              "#ed7953"
             ],
             [
              0.7777777777777778,
              "#fb9f3a"
             ],
             [
              0.8888888888888888,
              "#fdca26"
             ],
             [
              1,
              "#f0f921"
             ]
            ],
            "type": "surface"
           }
          ],
          "table": [
           {
            "cells": {
             "fill": {
              "color": "#EBF0F8"
             },
             "line": {
              "color": "white"
             }
            },
            "header": {
             "fill": {
              "color": "#C8D4E3"
             },
             "line": {
              "color": "white"
             }
            },
            "type": "table"
           }
          ]
         },
         "layout": {
          "annotationdefaults": {
           "arrowcolor": "#2a3f5f",
           "arrowhead": 0,
           "arrowwidth": 1
          },
          "autotypenumbers": "strict",
          "coloraxis": {
           "colorbar": {
            "outlinewidth": 0,
            "ticks": ""
           }
          },
          "colorscale": {
           "diverging": [
            [
             0,
             "#8e0152"
            ],
            [
             0.1,
             "#c51b7d"
            ],
            [
             0.2,
             "#de77ae"
            ],
            [
             0.3,
             "#f1b6da"
            ],
            [
             0.4,
             "#fde0ef"
            ],
            [
             0.5,
             "#f7f7f7"
            ],
            [
             0.6,
             "#e6f5d0"
            ],
            [
             0.7,
             "#b8e186"
            ],
            [
             0.8,
             "#7fbc41"
            ],
            [
             0.9,
             "#4d9221"
            ],
            [
             1,
             "#276419"
            ]
           ],
           "sequential": [
            [
             0,
             "#0d0887"
            ],
            [
             0.1111111111111111,
             "#46039f"
            ],
            [
             0.2222222222222222,
             "#7201a8"
            ],
            [
             0.3333333333333333,
             "#9c179e"
            ],
            [
             0.4444444444444444,
             "#bd3786"
            ],
            [
             0.5555555555555556,
             "#d8576b"
            ],
            [
             0.6666666666666666,
             "#ed7953"
            ],
            [
             0.7777777777777778,
             "#fb9f3a"
            ],
            [
             0.8888888888888888,
             "#fdca26"
            ],
            [
             1,
             "#f0f921"
            ]
           ],
           "sequentialminus": [
            [
             0,
             "#0d0887"
            ],
            [
             0.1111111111111111,
             "#46039f"
            ],
            [
             0.2222222222222222,
             "#7201a8"
            ],
            [
             0.3333333333333333,
             "#9c179e"
            ],
            [
             0.4444444444444444,
             "#bd3786"
            ],
            [
             0.5555555555555556,
             "#d8576b"
            ],
            [
             0.6666666666666666,
             "#ed7953"
            ],
            [
             0.7777777777777778,
             "#fb9f3a"
            ],
            [
             0.8888888888888888,
             "#fdca26"
            ],
            [
             1,
             "#f0f921"
            ]
           ]
          },
          "colorway": [
           "#636efa",
           "#EF553B",
           "#00cc96",
           "#ab63fa",
           "#FFA15A",
           "#19d3f3",
           "#FF6692",
           "#B6E880",
           "#FF97FF",
           "#FECB52"
          ],
          "font": {
           "color": "#2a3f5f"
          },
          "geo": {
           "bgcolor": "white",
           "lakecolor": "white",
           "landcolor": "#E5ECF6",
           "showlakes": true,
           "showland": true,
           "subunitcolor": "white"
          },
          "hoverlabel": {
           "align": "left"
          },
          "hovermode": "closest",
          "mapbox": {
           "style": "light"
          },
          "paper_bgcolor": "white",
          "plot_bgcolor": "#E5ECF6",
          "polar": {
           "angularaxis": {
            "gridcolor": "white",
            "linecolor": "white",
            "ticks": ""
           },
           "bgcolor": "#E5ECF6",
           "radialaxis": {
            "gridcolor": "white",
            "linecolor": "white",
            "ticks": ""
           }
          },
          "scene": {
           "xaxis": {
            "backgroundcolor": "#E5ECF6",
            "gridcolor": "white",
            "gridwidth": 2,
            "linecolor": "white",
            "showbackground": true,
            "ticks": "",
            "zerolinecolor": "white"
           },
           "yaxis": {
            "backgroundcolor": "#E5ECF6",
            "gridcolor": "white",
            "gridwidth": 2,
            "linecolor": "white",
            "showbackground": true,
            "ticks": "",
            "zerolinecolor": "white"
           },
           "zaxis": {
            "backgroundcolor": "#E5ECF6",
            "gridcolor": "white",
            "gridwidth": 2,
            "linecolor": "white",
            "showbackground": true,
            "ticks": "",
            "zerolinecolor": "white"
           }
          },
          "shapedefaults": {
           "line": {
            "color": "#2a3f5f"
           }
          },
          "ternary": {
           "aaxis": {
            "gridcolor": "white",
            "linecolor": "white",
            "ticks": ""
           },
           "baxis": {
            "gridcolor": "white",
            "linecolor": "white",
            "ticks": ""
           },
           "bgcolor": "#E5ECF6",
           "caxis": {
            "gridcolor": "white",
            "linecolor": "white",
            "ticks": ""
           }
          },
          "title": {
           "x": 0.05
          },
          "xaxis": {
           "automargin": true,
           "gridcolor": "white",
           "linecolor": "white",
           "ticks": "",
           "title": {
            "standoff": 15
           },
           "zerolinecolor": "white",
           "zerolinewidth": 2
          },
          "yaxis": {
           "automargin": true,
           "gridcolor": "white",
           "linecolor": "white",
           "ticks": "",
           "title": {
            "standoff": 15
           },
           "zerolinecolor": "white",
           "zerolinewidth": 2
          }
         }
        },
        "title": {
         "text": "Stacked Bar Chart of Suicide Rates by Month (Jan to July, 2022)"
        },
        "xaxis": {
         "title": {
          "text": "Month"
         }
        },
        "yaxis": {
         "title": {
          "text": "Suicide Rate"
         }
        }
       }
      },
      "text/html": [
       "<div>                            <div id=\"c7140f7b-2cb7-4893-a4c8-1f1c0807c27b\" class=\"plotly-graph-div\" style=\"height:525px; width:100%;\"></div>            <script type=\"text/javascript\">                require([\"plotly\"], function(Plotly) {                    window.PLOTLYENV=window.PLOTLYENV || {};                                    if (document.getElementById(\"c7140f7b-2cb7-4893-a4c8-1f1c0807c27b\")) {                    Plotly.newPlot(                        \"c7140f7b-2cb7-4893-a4c8-1f1c0807c27b\",                        [{\"marker\":{\"color\":[\"skyblue\",\"green\",\"skyblue\",\"skyblue\",\"yellow\",\"skyblue\",\"skyblue\"]},\"name\":\"2022.0\",\"text\":[\"8.39\",\"7.70\",\"8.30\",\"8.13\",\"8.85\",\"8.64\",\"8.83\"],\"textposition\":\"outside\",\"x\":[\"January\",\"February\",\"March\",\"April\",\"May\",\"June\",\"July\"],\"y\":[8.3874360374573,7.7038205610501,8.2964221426693,8.1346196630463,8.8465505733875,8.6382298808729,8.8263252634347],\"type\":\"bar\"}],                        {\"template\":{\"data\":{\"histogram2dcontour\":[{\"type\":\"histogram2dcontour\",\"colorbar\":{\"outlinewidth\":0,\"ticks\":\"\"},\"colorscale\":[[0.0,\"#0d0887\"],[0.1111111111111111,\"#46039f\"],[0.2222222222222222,\"#7201a8\"],[0.3333333333333333,\"#9c179e\"],[0.4444444444444444,\"#bd3786\"],[0.5555555555555556,\"#d8576b\"],[0.6666666666666666,\"#ed7953\"],[0.7777777777777778,\"#fb9f3a\"],[0.8888888888888888,\"#fdca26\"],[1.0,\"#f0f921\"]]}],\"choropleth\":[{\"type\":\"choropleth\",\"colorbar\":{\"outlinewidth\":0,\"ticks\":\"\"}}],\"histogram2d\":[{\"type\":\"histogram2d\",\"colorbar\":{\"outlinewidth\":0,\"ticks\":\"\"},\"colorscale\":[[0.0,\"#0d0887\"],[0.1111111111111111,\"#46039f\"],[0.2222222222222222,\"#7201a8\"],[0.3333333333333333,\"#9c179e\"],[0.4444444444444444,\"#bd3786\"],[0.5555555555555556,\"#d8576b\"],[0.6666666666666666,\"#ed7953\"],[0.7777777777777778,\"#fb9f3a\"],[0.8888888888888888,\"#fdca26\"],[1.0,\"#f0f921\"]]}],\"heatmap\":[{\"type\":\"heatmap\",\"colorbar\":{\"outlinewidth\":0,\"ticks\":\"\"},\"colorscale\":[[0.0,\"#0d0887\"],[0.1111111111111111,\"#46039f\"],[0.2222222222222222,\"#7201a8\"],[0.3333333333333333,\"#9c179e\"],[0.4444444444444444,\"#bd3786\"],[0.5555555555555556,\"#d8576b\"],[0.6666666666666666,\"#ed7953\"],[0.7777777777777778,\"#fb9f3a\"],[0.8888888888888888,\"#fdca26\"],[1.0,\"#f0f921\"]]}],\"heatmapgl\":[{\"type\":\"heatmapgl\",\"colorbar\":{\"outlinewidth\":0,\"ticks\":\"\"},\"colorscale\":[[0.0,\"#0d0887\"],[0.1111111111111111,\"#46039f\"],[0.2222222222222222,\"#7201a8\"],[0.3333333333333333,\"#9c179e\"],[0.4444444444444444,\"#bd3786\"],[0.5555555555555556,\"#d8576b\"],[0.6666666666666666,\"#ed7953\"],[0.7777777777777778,\"#fb9f3a\"],[0.8888888888888888,\"#fdca26\"],[1.0,\"#f0f921\"]]}],\"contourcarpet\":[{\"type\":\"contourcarpet\",\"colorbar\":{\"outlinewidth\":0,\"ticks\":\"\"}}],\"contour\":[{\"type\":\"contour\",\"colorbar\":{\"outlinewidth\":0,\"ticks\":\"\"},\"colorscale\":[[0.0,\"#0d0887\"],[0.1111111111111111,\"#46039f\"],[0.2222222222222222,\"#7201a8\"],[0.3333333333333333,\"#9c179e\"],[0.4444444444444444,\"#bd3786\"],[0.5555555555555556,\"#d8576b\"],[0.6666666666666666,\"#ed7953\"],[0.7777777777777778,\"#fb9f3a\"],[0.8888888888888888,\"#fdca26\"],[1.0,\"#f0f921\"]]}],\"surface\":[{\"type\":\"surface\",\"colorbar\":{\"outlinewidth\":0,\"ticks\":\"\"},\"colorscale\":[[0.0,\"#0d0887\"],[0.1111111111111111,\"#46039f\"],[0.2222222222222222,\"#7201a8\"],[0.3333333333333333,\"#9c179e\"],[0.4444444444444444,\"#bd3786\"],[0.5555555555555556,\"#d8576b\"],[0.6666666666666666,\"#ed7953\"],[0.7777777777777778,\"#fb9f3a\"],[0.8888888888888888,\"#fdca26\"],[1.0,\"#f0f921\"]]}],\"mesh3d\":[{\"type\":\"mesh3d\",\"colorbar\":{\"outlinewidth\":0,\"ticks\":\"\"}}],\"scatter\":[{\"fillpattern\":{\"fillmode\":\"overlay\",\"size\":10,\"solidity\":0.2},\"type\":\"scatter\"}],\"parcoords\":[{\"type\":\"parcoords\",\"line\":{\"colorbar\":{\"outlinewidth\":0,\"ticks\":\"\"}}}],\"scatterpolargl\":[{\"type\":\"scatterpolargl\",\"marker\":{\"colorbar\":{\"outlinewidth\":0,\"ticks\":\"\"}}}],\"bar\":[{\"error_x\":{\"color\":\"#2a3f5f\"},\"error_y\":{\"color\":\"#2a3f5f\"},\"marker\":{\"line\":{\"color\":\"#E5ECF6\",\"width\":0.5},\"pattern\":{\"fillmode\":\"overlay\",\"size\":10,\"solidity\":0.2}},\"type\":\"bar\"}],\"scattergeo\":[{\"type\":\"scattergeo\",\"marker\":{\"colorbar\":{\"outlinewidth\":0,\"ticks\":\"\"}}}],\"scatterpolar\":[{\"type\":\"scatterpolar\",\"marker\":{\"colorbar\":{\"outlinewidth\":0,\"ticks\":\"\"}}}],\"histogram\":[{\"marker\":{\"pattern\":{\"fillmode\":\"overlay\",\"size\":10,\"solidity\":0.2}},\"type\":\"histogram\"}],\"scattergl\":[{\"type\":\"scattergl\",\"marker\":{\"colorbar\":{\"outlinewidth\":0,\"ticks\":\"\"}}}],\"scatter3d\":[{\"type\":\"scatter3d\",\"line\":{\"colorbar\":{\"outlinewidth\":0,\"ticks\":\"\"}},\"marker\":{\"colorbar\":{\"outlinewidth\":0,\"ticks\":\"\"}}}],\"scattermapbox\":[{\"type\":\"scattermapbox\",\"marker\":{\"colorbar\":{\"outlinewidth\":0,\"ticks\":\"\"}}}],\"scatterternary\":[{\"type\":\"scatterternary\",\"marker\":{\"colorbar\":{\"outlinewidth\":0,\"ticks\":\"\"}}}],\"scattercarpet\":[{\"type\":\"scattercarpet\",\"marker\":{\"colorbar\":{\"outlinewidth\":0,\"ticks\":\"\"}}}],\"carpet\":[{\"aaxis\":{\"endlinecolor\":\"#2a3f5f\",\"gridcolor\":\"white\",\"linecolor\":\"white\",\"minorgridcolor\":\"white\",\"startlinecolor\":\"#2a3f5f\"},\"baxis\":{\"endlinecolor\":\"#2a3f5f\",\"gridcolor\":\"white\",\"linecolor\":\"white\",\"minorgridcolor\":\"white\",\"startlinecolor\":\"#2a3f5f\"},\"type\":\"carpet\"}],\"table\":[{\"cells\":{\"fill\":{\"color\":\"#EBF0F8\"},\"line\":{\"color\":\"white\"}},\"header\":{\"fill\":{\"color\":\"#C8D4E3\"},\"line\":{\"color\":\"white\"}},\"type\":\"table\"}],\"barpolar\":[{\"marker\":{\"line\":{\"color\":\"#E5ECF6\",\"width\":0.5},\"pattern\":{\"fillmode\":\"overlay\",\"size\":10,\"solidity\":0.2}},\"type\":\"barpolar\"}],\"pie\":[{\"automargin\":true,\"type\":\"pie\"}]},\"layout\":{\"autotypenumbers\":\"strict\",\"colorway\":[\"#636efa\",\"#EF553B\",\"#00cc96\",\"#ab63fa\",\"#FFA15A\",\"#19d3f3\",\"#FF6692\",\"#B6E880\",\"#FF97FF\",\"#FECB52\"],\"font\":{\"color\":\"#2a3f5f\"},\"hovermode\":\"closest\",\"hoverlabel\":{\"align\":\"left\"},\"paper_bgcolor\":\"white\",\"plot_bgcolor\":\"#E5ECF6\",\"polar\":{\"bgcolor\":\"#E5ECF6\",\"angularaxis\":{\"gridcolor\":\"white\",\"linecolor\":\"white\",\"ticks\":\"\"},\"radialaxis\":{\"gridcolor\":\"white\",\"linecolor\":\"white\",\"ticks\":\"\"}},\"ternary\":{\"bgcolor\":\"#E5ECF6\",\"aaxis\":{\"gridcolor\":\"white\",\"linecolor\":\"white\",\"ticks\":\"\"},\"baxis\":{\"gridcolor\":\"white\",\"linecolor\":\"white\",\"ticks\":\"\"},\"caxis\":{\"gridcolor\":\"white\",\"linecolor\":\"white\",\"ticks\":\"\"}},\"coloraxis\":{\"colorbar\":{\"outlinewidth\":0,\"ticks\":\"\"}},\"colorscale\":{\"sequential\":[[0.0,\"#0d0887\"],[0.1111111111111111,\"#46039f\"],[0.2222222222222222,\"#7201a8\"],[0.3333333333333333,\"#9c179e\"],[0.4444444444444444,\"#bd3786\"],[0.5555555555555556,\"#d8576b\"],[0.6666666666666666,\"#ed7953\"],[0.7777777777777778,\"#fb9f3a\"],[0.8888888888888888,\"#fdca26\"],[1.0,\"#f0f921\"]],\"sequentialminus\":[[0.0,\"#0d0887\"],[0.1111111111111111,\"#46039f\"],[0.2222222222222222,\"#7201a8\"],[0.3333333333333333,\"#9c179e\"],[0.4444444444444444,\"#bd3786\"],[0.5555555555555556,\"#d8576b\"],[0.6666666666666666,\"#ed7953\"],[0.7777777777777778,\"#fb9f3a\"],[0.8888888888888888,\"#fdca26\"],[1.0,\"#f0f921\"]],\"diverging\":[[0,\"#8e0152\"],[0.1,\"#c51b7d\"],[0.2,\"#de77ae\"],[0.3,\"#f1b6da\"],[0.4,\"#fde0ef\"],[0.5,\"#f7f7f7\"],[0.6,\"#e6f5d0\"],[0.7,\"#b8e186\"],[0.8,\"#7fbc41\"],[0.9,\"#4d9221\"],[1,\"#276419\"]]},\"xaxis\":{\"gridcolor\":\"white\",\"linecolor\":\"white\",\"ticks\":\"\",\"title\":{\"standoff\":15},\"zerolinecolor\":\"white\",\"automargin\":true,\"zerolinewidth\":2},\"yaxis\":{\"gridcolor\":\"white\",\"linecolor\":\"white\",\"ticks\":\"\",\"title\":{\"standoff\":15},\"zerolinecolor\":\"white\",\"automargin\":true,\"zerolinewidth\":2},\"scene\":{\"xaxis\":{\"backgroundcolor\":\"#E5ECF6\",\"gridcolor\":\"white\",\"linecolor\":\"white\",\"showbackground\":true,\"ticks\":\"\",\"zerolinecolor\":\"white\",\"gridwidth\":2},\"yaxis\":{\"backgroundcolor\":\"#E5ECF6\",\"gridcolor\":\"white\",\"linecolor\":\"white\",\"showbackground\":true,\"ticks\":\"\",\"zerolinecolor\":\"white\",\"gridwidth\":2},\"zaxis\":{\"backgroundcolor\":\"#E5ECF6\",\"gridcolor\":\"white\",\"linecolor\":\"white\",\"showbackground\":true,\"ticks\":\"\",\"zerolinecolor\":\"white\",\"gridwidth\":2}},\"shapedefaults\":{\"line\":{\"color\":\"#2a3f5f\"}},\"annotationdefaults\":{\"arrowcolor\":\"#2a3f5f\",\"arrowhead\":0,\"arrowwidth\":1},\"geo\":{\"bgcolor\":\"white\",\"landcolor\":\"#E5ECF6\",\"subunitcolor\":\"white\",\"showland\":true,\"showlakes\":true,\"lakecolor\":\"white\"},\"title\":{\"x\":0.05},\"mapbox\":{\"style\":\"light\"}}},\"barmode\":\"stack\",\"title\":{\"text\":\"Stacked Bar Chart of Suicide Rates by Month (Jan to July, 2022)\"},\"xaxis\":{\"title\":{\"text\":\"Month\"}},\"yaxis\":{\"title\":{\"text\":\"Suicide Rate\"}},\"showlegend\":true},                        {\"responsive\": true}                    ).then(function(){\n",
       "                            \n",
       "var gd = document.getElementById('c7140f7b-2cb7-4893-a4c8-1f1c0807c27b');\n",
       "var x = new MutationObserver(function (mutations, observer) {{\n",
       "        var display = window.getComputedStyle(gd).display;\n",
       "        if (!display || display === 'none') {{\n",
       "            console.log([gd, 'removed!']);\n",
       "            Plotly.purge(gd);\n",
       "            observer.disconnect();\n",
       "        }}\n",
       "}});\n",
       "\n",
       "// Listen for the removal of the full notebook cells\n",
       "var notebookContainer = gd.closest('#notebook-container');\n",
       "if (notebookContainer) {{\n",
       "    x.observe(notebookContainer, {childList: true});\n",
       "}}\n",
       "\n",
       "// Listen for the clearing of the current output cell\n",
       "var outputEl = gd.closest('.output');\n",
       "if (outputEl) {{\n",
       "    x.observe(outputEl, {childList: true});\n",
       "}}\n",
       "\n",
       "                        })                };                });            </script>        </div>"
      ]
     },
     "metadata": {},
     "output_type": "display_data"
    }
   ],
   "source": [
    "import pandas as pd\n",
    "import plotly.graph_objects as go\n",
    "\n",
    "# Load the data from the Excel file\n",
    "excel_file = \"CSV_DATA/SUICIDE/suicide_data_2022.csv\"  # Replace with the actual path to your Excel file\n",
    "df = pd.read_csv(excel_file, delimiter=';')\n",
    "\n",
    "# Filter data for months from January to July\n",
    "months_to_include = [\"January\", \"February\", \"March\", \"April\", \"May\", \"June\", \"July\"]\n",
    "df = df[df[\"Month\"].isin(months_to_include)]\n",
    "\n",
    "# Find the month with the maximum and minimum rate\n",
    "max_rate_month = df[df[\"RATE\"] == df[\"RATE\"].max()][\"Month\"].iloc[0]\n",
    "min_rate_month = df[df[\"RATE\"] == df[\"RATE\"].min()][\"Month\"].iloc[0]\n",
    "\n",
    "# Create a stacked bar chart\n",
    "fig = go.Figure()\n",
    "\n",
    "# Create traces for each year\n",
    "for year in df[\"YEAR\"].unique():\n",
    "    year_data = df[df[\"YEAR\"] == year]\n",
    "    fig.add_trace(go.Bar(\n",
    "        x=year_data[\"Month\"],\n",
    "        y=year_data[\"RATE\"],\n",
    "        text=[f\"{rate:.2f}\" for rate in year_data[\"RATE\"]],  # Format as two decimal places\n",
    "        textposition=\"outside\",  # Display text outside the bars\n",
    "        name=str(year),\n",
    "        marker_color='blue'  # Default color\n",
    "    ))\n",
    "\n",
    "# Find the indices of max and min rate months\n",
    "max_rate_index = df[df[\"Month\"] == max_rate_month].index[0]\n",
    "min_rate_index = df[df[\"Month\"] == min_rate_month].index[0]\n",
    "\n",
    "# Change the color of max and min rate bars\n",
    "fig.data[0].marker.color = ['yellow' if i == max_rate_index else 'green' if i == min_rate_index else 'skyblue' for i in range(len(df))]\n",
    "\n",
    "# Update layout\n",
    "fig.update_layout(\n",
    "    barmode='stack',\n",
    "    title=\"Stacked Bar Chart of Suicide Rates by Month (Jan to July, 2022)\",\n",
    "    xaxis_title=\"Month\",\n",
    "    yaxis_title=\"Suicide Rate\",\n",
    "    showlegend=True\n",
    ")\n",
    "\n",
    "# Show the plot\n",
    "fig.show()\n"
   ]
  },
  {
   "cell_type": "markdown",
   "id": "c128c652",
   "metadata": {},
   "source": [
    "---------------------------------------\n",
    "**States-wise HDI vs suicide rates**\n",
    "---------------------------------------\n",
    "---------------------------------------"
   ]
  },
  {
   "cell_type": "markdown",
   "id": "923a42d4-e870-4c5d-b9f0-23606820b99b",
   "metadata": {},
   "source": [
    "The Human Development Index (HDI) is a widely recognized metric that serves as a measure of overall development and well-being in societies worldwide. It encompasses three key dimensions: health, education, and standard of living. \n",
    "By combining these components, the HDI offers a comprehensive snapshot of a nation's development status, making it a valuable tool for policymakers, researchers, and organizations seeking to assess and improve the well-being of populations around the world.\n",
    "\n",
    "Examining the relationship between the Human Development Index (HDI) and suicide rates is a crucial aspect of the research because it delves into the multifaceted dynamics of societal well-being and its impact on mental health outcomes. By investigating this relationship, I aim to uncover critical insights into the factors that contribute to suicide rates across different states. \n"
   ]
  },
  {
   "cell_type": "code",
   "execution_count": 54,
   "id": "c1713936",
   "metadata": {
    "tags": []
   },
   "outputs": [
    {
     "data": {
      "application/vnd.plotly.v1+json": {
       "config": {
        "plotlyServerURL": "https://plot.ly"
       },
       "data": [
        {
         "hovertemplate": "STATE=AL<br>HDI (Human Development Index)=%{x}<br>Suicide Rate=%{marker.size}<extra></extra>",
         "legendgroup": "AL",
         "marker": {
          "color": "#636efa",
          "opacity": 0.7,
          "size": [
           15.8
          ],
          "sizemode": "area",
          "sizeref": 0.08074999999999999,
          "symbol": "circle"
         },
         "mode": "markers",
         "name": "AL",
         "orientation": "v",
         "showlegend": true,
         "textposition": "top center",
         "type": "scatter",
         "x": [
          0.881
         ],
         "xaxis": "x",
         "y": [
          15.8
         ],
         "yaxis": "y"
        },
        {
         "hovertemplate": "STATE=AK<br>HDI (Human Development Index)=%{x}<br>Suicide Rate=%{marker.size}<extra></extra>",
         "legendgroup": "AK",
         "marker": {
          "color": "#EF553B",
          "opacity": 0.7,
          "size": [
           30.8
          ],
          "sizemode": "area",
          "sizeref": 0.08074999999999999,
          "symbol": "circle"
         },
         "mode": "markers",
         "name": "AK",
         "orientation": "v",
         "showlegend": true,
         "textposition": "top center",
         "type": "scatter",
         "x": [
          0.93
         ],
         "xaxis": "x",
         "y": [
          30.8
         ],
         "yaxis": "y"
        },
        {
         "hovertemplate": "STATE=AZ<br>HDI (Human Development Index)=%{x}<br>Suicide Rate=%{marker.size}<extra></extra>",
         "legendgroup": "AZ",
         "marker": {
          "color": "#00cc96",
          "opacity": 0.7,
          "size": [
           19.5
          ],
          "sizemode": "area",
          "sizeref": 0.08074999999999999,
          "symbol": "circle"
         },
         "mode": "markers",
         "name": "AZ",
         "orientation": "v",
         "showlegend": true,
         "textposition": "top center",
         "type": "scatter",
         "x": [
          0.908
         ],
         "xaxis": "x",
         "y": [
          19.5
         ],
         "yaxis": "y"
        },
        {
         "hovertemplate": "STATE=AR<br>HDI (Human Development Index)=%{x}<br>Suicide Rate=%{marker.size}<extra></extra>",
         "legendgroup": "AR",
         "marker": {
          "color": "#ab63fa",
          "opacity": 0.7,
          "size": [
           20.6
          ],
          "sizemode": "area",
          "sizeref": 0.08074999999999999,
          "symbol": "circle"
         },
         "mode": "markers",
         "name": "AR",
         "orientation": "v",
         "showlegend": true,
         "textposition": "top center",
         "type": "scatter",
         "x": [
          0.881
         ],
         "xaxis": "x",
         "y": [
          20.6
         ],
         "yaxis": "y"
        },
        {
         "hovertemplate": "STATE=CA<br>HDI (Human Development Index)=%{x}<br>Suicide Rate=%{marker.size}<extra></extra>",
         "legendgroup": "CA",
         "marker": {
          "color": "#FFA15A",
          "opacity": 0.7,
          "size": [
           10.1
          ],
          "sizemode": "area",
          "sizeref": 0.08074999999999999,
          "symbol": "circle"
         },
         "mode": "markers",
         "name": "CA",
         "orientation": "v",
         "showlegend": true,
         "textposition": "top center",
         "type": "scatter",
         "x": [
          0.931
         ],
         "xaxis": "x",
         "y": [
          10.1
         ],
         "yaxis": "y"
        },
        {
         "hovertemplate": "STATE=CO<br>HDI (Human Development Index)=%{x}<br>Suicide Rate=%{marker.size}<extra></extra>",
         "legendgroup": "CO",
         "marker": {
          "color": "#19d3f3",
          "opacity": 0.7,
          "size": [
           22.8
          ],
          "sizemode": "area",
          "sizeref": 0.08074999999999999,
          "symbol": "circle"
         },
         "mode": "markers",
         "name": "CO",
         "orientation": "v",
         "showlegend": true,
         "textposition": "top center",
         "type": "scatter",
         "x": [
          0.942
         ],
         "xaxis": "x",
         "y": [
          22.8
         ],
         "yaxis": "y"
        },
        {
         "hovertemplate": "STATE=CT<br>HDI (Human Development Index)=%{x}<br>Suicide Rate=%{marker.size}<extra></extra>",
         "legendgroup": "CT",
         "marker": {
          "color": "#FF6692",
          "opacity": 0.7,
          "size": [
           10
          ],
          "sizemode": "area",
          "sizeref": 0.08074999999999999,
          "symbol": "circle"
         },
         "mode": "markers",
         "name": "CT",
         "orientation": "v",
         "showlegend": true,
         "textposition": "top center",
         "type": "scatter",
         "x": [
          0.948
         ],
         "xaxis": "x",
         "y": [
          10
         ],
         "yaxis": "y"
        },
        {
         "hovertemplate": "STATE=DE<br>HDI (Human Development Index)=%{x}<br>Suicide Rate=%{marker.size}<extra></extra>",
         "legendgroup": "DE",
         "marker": {
          "color": "#B6E880",
          "opacity": 0.7,
          "size": [
           13.6
          ],
          "sizemode": "area",
          "sizeref": 0.08074999999999999,
          "symbol": "circle"
         },
         "mode": "markers",
         "name": "DE",
         "orientation": "v",
         "showlegend": true,
         "textposition": "top center",
         "type": "scatter",
         "x": [
          0.929
         ],
         "xaxis": "x",
         "y": [
          13.6
         ],
         "yaxis": "y"
        },
        {
         "hovertemplate": "STATE=FL<br>HDI (Human Development Index)=%{x}<br>Suicide Rate=%{marker.size}<extra></extra>",
         "legendgroup": "FL",
         "marker": {
          "color": "#FF97FF",
          "opacity": 0.7,
          "size": [
           14
          ],
          "sizemode": "area",
          "sizeref": 0.08074999999999999,
          "symbol": "circle"
         },
         "mode": "markers",
         "name": "FL",
         "orientation": "v",
         "showlegend": true,
         "textposition": "top center",
         "type": "scatter",
         "x": [
          0.911
         ],
         "xaxis": "x",
         "y": [
          14
         ],
         "yaxis": "y"
        },
        {
         "hovertemplate": "STATE=GA<br>HDI (Human Development Index)=%{x}<br>Suicide Rate=%{marker.size}<extra></extra>",
         "legendgroup": "GA",
         "marker": {
          "color": "#FECB52",
          "opacity": 0.7,
          "size": [
           15.3
          ],
          "sizemode": "area",
          "sizeref": 0.08074999999999999,
          "symbol": "circle"
         },
         "mode": "markers",
         "name": "GA",
         "orientation": "v",
         "showlegend": true,
         "textposition": "top center",
         "type": "scatter",
         "x": [
          0.904
         ],
         "xaxis": "x",
         "y": [
          15.3
         ],
         "yaxis": "y"
        },
        {
         "hovertemplate": "STATE=HI<br>HDI (Human Development Index)=%{x}<br>Suicide Rate=%{marker.size}<extra></extra>",
         "legendgroup": "HI",
         "marker": {
          "color": "#636efa",
          "opacity": 0.7,
          "size": [
           13.7
          ],
          "sizemode": "area",
          "sizeref": 0.08074999999999999,
          "symbol": "circle"
         },
         "mode": "markers",
         "name": "HI",
         "orientation": "v",
         "showlegend": true,
         "textposition": "top center",
         "type": "scatter",
         "x": [
          0.94
         ],
         "xaxis": "x",
         "y": [
          13.7
         ],
         "yaxis": "y"
        },
        {
         "hovertemplate": "STATE=ID<br>HDI (Human Development Index)=%{x}<br>Suicide Rate=%{marker.size}<extra></extra>",
         "legendgroup": "ID",
         "marker": {
          "color": "#EF553B",
          "opacity": 0.7,
          "size": [
           20.5
          ],
          "sizemode": "area",
          "sizeref": 0.08074999999999999,
          "symbol": "circle"
         },
         "mode": "markers",
         "name": "ID",
         "orientation": "v",
         "showlegend": true,
         "textposition": "top center",
         "type": "scatter",
         "x": [
          0.907
         ],
         "xaxis": "x",
         "y": [
          20.5
         ],
         "yaxis": "y"
        },
        {
         "hovertemplate": "STATE=IL<br>HDI (Human Development Index)=%{x}<br>Suicide Rate=%{marker.size}<extra></extra>",
         "legendgroup": "IL",
         "marker": {
          "color": "#00cc96",
          "opacity": 0.7,
          "size": [
           11.1
          ],
          "sizemode": "area",
          "sizeref": 0.08074999999999999,
          "symbol": "circle"
         },
         "mode": "markers",
         "name": "IL",
         "orientation": "v",
         "showlegend": true,
         "textposition": "top center",
         "type": "scatter",
         "x": [
          0.929
         ],
         "xaxis": "x",
         "y": [
          11.1
         ],
         "yaxis": "y"
        },
        {
         "hovertemplate": "STATE=IN<br>HDI (Human Development Index)=%{x}<br>Suicide Rate=%{marker.size}<extra></extra>",
         "legendgroup": "IN",
         "marker": {
          "color": "#ab63fa",
          "opacity": 0.7,
          "size": [
           16.4
          ],
          "sizemode": "area",
          "sizeref": 0.08074999999999999,
          "symbol": "circle"
         },
         "mode": "markers",
         "name": "IN",
         "orientation": "v",
         "showlegend": true,
         "textposition": "top center",
         "type": "scatter",
         "x": [
          0.907
         ],
         "xaxis": "x",
         "y": [
          16.4
         ],
         "yaxis": "y"
        },
        {
         "hovertemplate": "STATE=IA<br>HDI (Human Development Index)=%{x}<br>Suicide Rate=%{marker.size}<extra></extra>",
         "legendgroup": "IA",
         "marker": {
          "color": "#FFA15A",
          "opacity": 0.7,
          "size": [
           17.5
          ],
          "sizemode": "area",
          "sizeref": 0.08074999999999999,
          "symbol": "circle"
         },
         "mode": "markers",
         "name": "IA",
         "orientation": "v",
         "showlegend": true,
         "textposition": "top center",
         "type": "scatter",
         "x": [
          0.93
         ],
         "xaxis": "x",
         "y": [
          17.5
         ],
         "yaxis": "y"
        },
        {
         "hovertemplate": "STATE=KS<br>HDI (Human Development Index)=%{x}<br>Suicide Rate=%{marker.size}<extra></extra>",
         "legendgroup": "KS",
         "marker": {
          "color": "#19d3f3",
          "opacity": 0.7,
          "size": [
           19.4
          ],
          "sizemode": "area",
          "sizeref": 0.08074999999999999,
          "symbol": "circle"
         },
         "mode": "markers",
         "name": "KS",
         "orientation": "v",
         "showlegend": true,
         "textposition": "top center",
         "type": "scatter",
         "x": [
          0.922
         ],
         "xaxis": "x",
         "y": [
          19.4
         ],
         "yaxis": "y"
        },
        {
         "hovertemplate": "STATE=KY<br>HDI (Human Development Index)=%{x}<br>Suicide Rate=%{marker.size}<extra></extra>",
         "legendgroup": "KY",
         "marker": {
          "color": "#FF6692",
          "opacity": 0.7,
          "size": [
           17.9
          ],
          "sizemode": "area",
          "sizeref": 0.08074999999999999,
          "symbol": "circle"
         },
         "mode": "markers",
         "name": "KY",
         "orientation": "v",
         "showlegend": true,
         "textposition": "top center",
         "type": "scatter",
         "x": [
          0.884
         ],
         "xaxis": "x",
         "y": [
          17.9
         ],
         "yaxis": "y"
        },
        {
         "hovertemplate": "STATE=LA<br>HDI (Human Development Index)=%{x}<br>Suicide Rate=%{marker.size}<extra></extra>",
         "legendgroup": "LA",
         "marker": {
          "color": "#B6E880",
          "opacity": 0.7,
          "size": [
           14.8
          ],
          "sizemode": "area",
          "sizeref": 0.08074999999999999,
          "symbol": "circle"
         },
         "mode": "markers",
         "name": "LA",
         "orientation": "v",
         "showlegend": true,
         "textposition": "top center",
         "type": "scatter",
         "x": [
          0.888
         ],
         "xaxis": "x",
         "y": [
          14.8
         ],
         "yaxis": "y"
        },
        {
         "hovertemplate": "STATE=ME<br>HDI (Human Development Index)=%{x}<br>Suicide Rate=%{marker.size}<extra></extra>",
         "legendgroup": "ME",
         "marker": {
          "color": "#FF97FF",
          "opacity": 0.7,
          "size": [
           19.5
          ],
          "sizemode": "area",
          "sizeref": 0.08074999999999999,
          "symbol": "circle"
         },
         "mode": "markers",
         "name": "ME",
         "orientation": "v",
         "showlegend": true,
         "textposition": "top center",
         "type": "scatter",
         "x": [
          0.917
         ],
         "xaxis": "x",
         "y": [
          19.5
         ],
         "yaxis": "y"
        },
        {
         "hovertemplate": "STATE=MD<br>HDI (Human Development Index)=%{x}<br>Suicide Rate=%{marker.size}<extra></extra>",
         "legendgroup": "MD",
         "marker": {
          "color": "#FECB52",
          "opacity": 0.7,
          "size": [
           9.7
          ],
          "sizemode": "area",
          "sizeref": 0.08074999999999999,
          "symbol": "circle"
         },
         "mode": "markers",
         "name": "MD",
         "orientation": "v",
         "showlegend": true,
         "textposition": "top center",
         "type": "scatter",
         "x": [
          0.936
         ],
         "xaxis": "x",
         "y": [
          9.7
         ],
         "yaxis": "y"
        },
        {
         "hovertemplate": "STATE=MA<br>HDI (Human Development Index)=%{x}<br>Suicide Rate=%{marker.size}<extra></extra>",
         "legendgroup": "MA",
         "marker": {
          "color": "#636efa",
          "opacity": 0.7,
          "size": [
           8
          ],
          "sizemode": "area",
          "sizeref": 0.08074999999999999,
          "symbol": "circle"
         },
         "mode": "markers",
         "name": "MA",
         "orientation": "v",
         "showlegend": true,
         "textposition": "top center",
         "type": "scatter",
         "x": [
          0.949
         ],
         "xaxis": "x",
         "y": [
          8
         ],
         "yaxis": "y"
        },
        {
         "hovertemplate": "STATE=MI<br>HDI (Human Development Index)=%{x}<br>Suicide Rate=%{marker.size}<extra></extra>",
         "legendgroup": "MI",
         "marker": {
          "color": "#EF553B",
          "opacity": 0.7,
          "size": [
           14.3
          ],
          "sizemode": "area",
          "sizeref": 0.08074999999999999,
          "symbol": "circle"
         },
         "mode": "markers",
         "name": "MI",
         "orientation": "v",
         "showlegend": true,
         "textposition": "top center",
         "type": "scatter",
         "x": [
          0.913
         ],
         "xaxis": "x",
         "y": [
          14.3
         ],
         "yaxis": "y"
        },
        {
         "hovertemplate": "STATE=MN<br>HDI (Human Development Index)=%{x}<br>Suicide Rate=%{marker.size}<extra></extra>",
         "legendgroup": "MN",
         "marker": {
          "color": "#00cc96",
          "opacity": 0.7,
          "size": [
           13.9
          ],
          "sizemode": "area",
          "sizeref": 0.08074999999999999,
          "symbol": "circle"
         },
         "mode": "markers",
         "name": "MN",
         "orientation": "v",
         "showlegend": true,
         "textposition": "top center",
         "type": "scatter",
         "x": [
          0.947
         ],
         "xaxis": "x",
         "y": [
          13.9
         ],
         "yaxis": "y"
        },
        {
         "hovertemplate": "STATE=MS<br>HDI (Human Development Index)=%{x}<br>Suicide Rate=%{marker.size}<extra></extra>",
         "legendgroup": "MS",
         "marker": {
          "color": "#ab63fa",
          "opacity": 0.7,
          "size": [
           16.2
          ],
          "sizemode": "area",
          "sizeref": 0.08074999999999999,
          "symbol": "circle"
         },
         "mode": "markers",
         "name": "MS",
         "orientation": "v",
         "showlegend": true,
         "textposition": "top center",
         "type": "scatter",
         "x": [
          0.866
         ],
         "xaxis": "x",
         "y": [
          16.2
         ],
         "yaxis": "y"
        },
        {
         "hovertemplate": "STATE=MO<br>HDI (Human Development Index)=%{x}<br>Suicide Rate=%{marker.size}<extra></extra>",
         "legendgroup": "MO",
         "marker": {
          "color": "#FFA15A",
          "opacity": 0.7,
          "size": [
           18.7
          ],
          "sizemode": "area",
          "sizeref": 0.08074999999999999,
          "symbol": "circle"
         },
         "mode": "markers",
         "name": "MO",
         "orientation": "v",
         "showlegend": true,
         "textposition": "top center",
         "type": "scatter",
         "x": [
          0.907
         ],
         "xaxis": "x",
         "y": [
          18.7
         ],
         "yaxis": "y"
        },
        {
         "hovertemplate": "STATE=MT<br>HDI (Human Development Index)=%{x}<br>Suicide Rate=%{marker.size}<extra></extra>",
         "legendgroup": "MT",
         "marker": {
          "color": "#19d3f3",
          "opacity": 0.7,
          "size": [
           32
          ],
          "sizemode": "area",
          "sizeref": 0.08074999999999999,
          "symbol": "circle"
         },
         "mode": "markers",
         "name": "MT",
         "orientation": "v",
         "showlegend": true,
         "textposition": "top center",
         "type": "scatter",
         "x": [
          0.916
         ],
         "xaxis": "x",
         "y": [
          32
         ],
         "yaxis": "y"
        },
        {
         "hovertemplate": "STATE=NE<br>HDI (Human Development Index)=%{x}<br>Suicide Rate=%{marker.size}<extra></extra>",
         "legendgroup": "NE",
         "marker": {
          "color": "#FF6692",
          "opacity": 0.7,
          "size": [
           15
          ],
          "sizemode": "area",
          "sizeref": 0.08074999999999999,
          "symbol": "circle"
         },
         "mode": "markers",
         "name": "NE",
         "orientation": "v",
         "showlegend": true,
         "textposition": "top center",
         "type": "scatter",
         "x": [
          0.933
         ],
         "xaxis": "x",
         "y": [
          15
         ],
         "yaxis": "y"
        },
        {
         "hovertemplate": "STATE=NV<br>HDI (Human Development Index)=%{x}<br>Suicide Rate=%{marker.size}<extra></extra>",
         "legendgroup": "NV",
         "marker": {
          "color": "#B6E880",
          "opacity": 0.7,
          "size": [
           21.5
          ],
          "sizemode": "area",
          "sizeref": 0.08074999999999999,
          "symbol": "circle"
         },
         "mode": "markers",
         "name": "NV",
         "orientation": "v",
         "showlegend": true,
         "textposition": "top center",
         "type": "scatter",
         "x": [
          0.904
         ],
         "xaxis": "x",
         "y": [
          21.5
         ],
         "yaxis": "y"
        },
        {
         "hovertemplate": "STATE=NH<br>HDI (Human Development Index)=%{x}<br>Suicide Rate=%{marker.size}<extra></extra>",
         "legendgroup": "NH",
         "marker": {
          "color": "#FF97FF",
          "opacity": 0.7,
          "size": [
           15.1
          ],
          "sizemode": "area",
          "sizeref": 0.08074999999999999,
          "symbol": "circle"
         },
         "mode": "markers",
         "name": "NH",
         "orientation": "v",
         "showlegend": true,
         "textposition": "top center",
         "type": "scatter",
         "x": [
          0.943
         ],
         "xaxis": "x",
         "y": [
          15.1
         ],
         "yaxis": "y"
        },
        {
         "hovertemplate": "STATE=NJ<br>HDI (Human Development Index)=%{x}<br>Suicide Rate=%{marker.size}<extra></extra>",
         "legendgroup": "NJ",
         "marker": {
          "color": "#FECB52",
          "opacity": 0.7,
          "size": [
           7.1
          ],
          "sizemode": "area",
          "sizeref": 0.08074999999999999,
          "symbol": "circle"
         },
         "mode": "markers",
         "name": "NJ",
         "orientation": "v",
         "showlegend": true,
         "textposition": "top center",
         "type": "scatter",
         "x": [
          0.943
         ],
         "xaxis": "x",
         "y": [
          7.1
         ],
         "yaxis": "y"
        },
        {
         "hovertemplate": "STATE=NM<br>HDI (Human Development Index)=%{x}<br>Suicide Rate=%{marker.size}<extra></extra>",
         "legendgroup": "NM",
         "marker": {
          "color": "#636efa",
          "opacity": 0.7,
          "size": [
           25
          ],
          "sizemode": "area",
          "sizeref": 0.08074999999999999,
          "symbol": "circle"
         },
         "mode": "markers",
         "name": "NM",
         "orientation": "v",
         "showlegend": true,
         "textposition": "top center",
         "type": "scatter",
         "x": [
          0.901
         ],
         "xaxis": "x",
         "y": [
          25
         ],
         "yaxis": "y"
        },
        {
         "hovertemplate": "STATE=NY<br>HDI (Human Development Index)=%{x}<br>Suicide Rate=%{marker.size}<extra></extra>",
         "legendgroup": "NY",
         "marker": {
          "color": "#EF553B",
          "opacity": 0.7,
          "size": [
           7.9
          ],
          "sizemode": "area",
          "sizeref": 0.08074999999999999,
          "symbol": "circle"
         },
         "mode": "markers",
         "name": "NY",
         "orientation": "v",
         "showlegend": true,
         "textposition": "top center",
         "type": "scatter",
         "x": [
          0.938
         ],
         "xaxis": "x",
         "y": [
          7.9
         ],
         "yaxis": "y"
        },
        {
         "hovertemplate": "STATE=NC<br>HDI (Human Development Index)=%{x}<br>Suicide Rate=%{marker.size}<extra></extra>",
         "legendgroup": "NC",
         "marker": {
          "color": "#00cc96",
          "opacity": 0.7,
          "size": [
           13.2
          ],
          "sizemode": "area",
          "sizeref": 0.08074999999999999,
          "symbol": "circle"
         },
         "mode": "markers",
         "name": "NC",
         "orientation": "v",
         "showlegend": true,
         "textposition": "top center",
         "type": "scatter",
         "x": [
          0.907
         ],
         "xaxis": "x",
         "y": [
          13.2
         ],
         "yaxis": "y"
        },
        {
         "hovertemplate": "STATE=ND<br>HDI (Human Development Index)=%{x}<br>Suicide Rate=%{marker.size}<extra></extra>",
         "legendgroup": "ND",
         "marker": {
          "color": "#ab63fa",
          "opacity": 0.7,
          "size": [
           20.8
          ],
          "sizemode": "area",
          "sizeref": 0.08074999999999999,
          "symbol": "circle"
         },
         "mode": "markers",
         "name": "ND",
         "orientation": "v",
         "showlegend": true,
         "textposition": "top center",
         "type": "scatter",
         "x": [
          0.94
         ],
         "xaxis": "x",
         "y": [
          20.8
         ],
         "yaxis": "y"
        },
        {
         "hovertemplate": "STATE=OH<br>HDI (Human Development Index)=%{x}<br>Suicide Rate=%{marker.size}<extra></extra>",
         "legendgroup": "OH",
         "marker": {
          "color": "#FFA15A",
          "opacity": 0.7,
          "size": [
           14.6
          ],
          "sizemode": "area",
          "sizeref": 0.08074999999999999,
          "symbol": "circle"
         },
         "mode": "markers",
         "name": "OH",
         "orientation": "v",
         "showlegend": true,
         "textposition": "top center",
         "type": "scatter",
         "x": [
          0.914
         ],
         "xaxis": "x",
         "y": [
          14.6
         ],
         "yaxis": "y"
        },
        {
         "hovertemplate": "STATE=OK<br>HDI (Human Development Index)=%{x}<br>Suicide Rate=%{marker.size}<extra></extra>",
         "legendgroup": "OK",
         "marker": {
          "color": "#19d3f3",
          "opacity": 0.7,
          "size": [
           22.1
          ],
          "sizemode": "area",
          "sizeref": 0.08074999999999999,
          "symbol": "circle"
         },
         "mode": "markers",
         "name": "OK",
         "orientation": "v",
         "showlegend": true,
         "textposition": "top center",
         "type": "scatter",
         "x": [
          0.896
         ],
         "xaxis": "x",
         "y": [
          22.1
         ],
         "yaxis": "y"
        },
        {
         "hovertemplate": "STATE=OR<br>HDI (Human Development Index)=%{x}<br>Suicide Rate=%{marker.size}<extra></extra>",
         "legendgroup": "OR",
         "marker": {
          "color": "#FF6692",
          "opacity": 0.7,
          "size": [
           19.5
          ],
          "sizemode": "area",
          "sizeref": 0.08074999999999999,
          "symbol": "circle"
         },
         "mode": "markers",
         "name": "OR",
         "orientation": "v",
         "showlegend": true,
         "textposition": "top center",
         "type": "scatter",
         "x": [
          0.93
         ],
         "xaxis": "x",
         "y": [
          19.5
         ],
         "yaxis": "y"
        },
        {
         "hovertemplate": "STATE=PA<br>HDI (Human Development Index)=%{x}<br>Suicide Rate=%{marker.size}<extra></extra>",
         "legendgroup": "PA",
         "marker": {
          "color": "#B6E880",
          "opacity": 0.7,
          "size": [
           13.9
          ],
          "sizemode": "area",
          "sizeref": 0.08074999999999999,
          "symbol": "circle"
         },
         "mode": "markers",
         "name": "PA",
         "orientation": "v",
         "showlegend": true,
         "textposition": "top center",
         "type": "scatter",
         "x": [
          0.923
         ],
         "xaxis": "x",
         "y": [
          13.9
         ],
         "yaxis": "y"
        },
        {
         "hovertemplate": "STATE=RI<br>HDI (Human Development Index)=%{x}<br>Suicide Rate=%{marker.size}<extra></extra>",
         "legendgroup": "RI",
         "marker": {
          "color": "#FF97FF",
          "opacity": 0.7,
          "size": [
           10.3
          ],
          "sizemode": "area",
          "sizeref": 0.08074999999999999,
          "symbol": "circle"
         },
         "mode": "markers",
         "name": "RI",
         "orientation": "v",
         "showlegend": true,
         "textposition": "top center",
         "type": "scatter",
         "x": [
          0.925
         ],
         "xaxis": "x",
         "y": [
          10.3
         ],
         "yaxis": "y"
        },
        {
         "hovertemplate": "STATE=SC<br>HDI (Human Development Index)=%{x}<br>Suicide Rate=%{marker.size}<extra></extra>",
         "legendgroup": "SC",
         "marker": {
          "color": "#FECB52",
          "opacity": 0.7,
          "size": [
           15.2
          ],
          "sizemode": "area",
          "sizeref": 0.08074999999999999,
          "symbol": "circle"
         },
         "mode": "markers",
         "name": "SC",
         "orientation": "v",
         "showlegend": true,
         "textposition": "top center",
         "type": "scatter",
         "x": [
          0.893
         ],
         "xaxis": "x",
         "y": [
          15.2
         ],
         "yaxis": "y"
        },
        {
         "hovertemplate": "STATE=SD<br>HDI (Human Development Index)=%{x}<br>Suicide Rate=%{marker.size}<extra></extra>",
         "legendgroup": "SD",
         "marker": {
          "color": "#636efa",
          "opacity": 0.7,
          "size": [
           23.2
          ],
          "sizemode": "area",
          "sizeref": 0.08074999999999999,
          "symbol": "circle"
         },
         "mode": "markers",
         "name": "SD",
         "orientation": "v",
         "showlegend": true,
         "textposition": "top center",
         "type": "scatter",
         "x": [
          0.927
         ],
         "xaxis": "x",
         "y": [
          23.2
         ],
         "yaxis": "y"
        },
        {
         "hovertemplate": "STATE=TN<br>HDI (Human Development Index)=%{x}<br>Suicide Rate=%{marker.size}<extra></extra>",
         "legendgroup": "TN",
         "marker": {
          "color": "#EF553B",
          "opacity": 0.7,
          "size": [
           17
          ],
          "sizemode": "area",
          "sizeref": 0.08074999999999999,
          "symbol": "circle"
         },
         "mode": "markers",
         "name": "TN",
         "orientation": "v",
         "showlegend": true,
         "textposition": "top center",
         "type": "scatter",
         "x": [
          0.895
         ],
         "xaxis": "x",
         "y": [
          17
         ],
         "yaxis": "y"
        },
        {
         "hovertemplate": "STATE=TX<br>HDI (Human Development Index)=%{x}<br>Suicide Rate=%{marker.size}<extra></extra>",
         "legendgroup": "TX",
         "marker": {
          "color": "#00cc96",
          "opacity": 0.7,
          "size": [
           14.2
          ],
          "sizemode": "area",
          "sizeref": 0.08074999999999999,
          "symbol": "circle"
         },
         "mode": "markers",
         "name": "TX",
         "orientation": "v",
         "showlegend": true,
         "textposition": "top center",
         "type": "scatter",
         "x": [
          0.911
         ],
         "xaxis": "x",
         "y": [
          14.2
         ],
         "yaxis": "y"
        },
        {
         "hovertemplate": "STATE=UT<br>HDI (Human Development Index)=%{x}<br>Suicide Rate=%{marker.size}<extra></extra>",
         "legendgroup": "UT",
         "marker": {
          "color": "#ab63fa",
          "opacity": 0.7,
          "size": [
           20.1
          ],
          "sizemode": "area",
          "sizeref": 0.08074999999999999,
          "symbol": "circle"
         },
         "mode": "markers",
         "name": "UT",
         "orientation": "v",
         "showlegend": true,
         "textposition": "top center",
         "type": "scatter",
         "x": [
          0.93
         ],
         "xaxis": "x",
         "y": [
          20.1
         ],
         "yaxis": "y"
        },
        {
         "hovertemplate": "STATE=VT<br>HDI (Human Development Index)=%{x}<br>Suicide Rate=%{marker.size}<extra></extra>",
         "legendgroup": "VT",
         "marker": {
          "color": "#FFA15A",
          "opacity": 0.7,
          "size": [
           20.3
          ],
          "sizemode": "area",
          "sizeref": 0.08074999999999999,
          "symbol": "circle"
         },
         "mode": "markers",
         "name": "VT",
         "orientation": "v",
         "showlegend": true,
         "textposition": "top center",
         "type": "scatter",
         "x": [
          0.935
         ],
         "xaxis": "x",
         "y": [
          20.3
         ],
         "yaxis": "y"
        },
        {
         "hovertemplate": "STATE=VA<br>HDI (Human Development Index)=%{x}<br>Suicide Rate=%{marker.size}<extra></extra>",
         "legendgroup": "VA",
         "marker": {
          "color": "#19d3f3",
          "opacity": 0.7,
          "size": [
           13.2
          ],
          "sizemode": "area",
          "sizeref": 0.08074999999999999,
          "symbol": "circle"
         },
         "mode": "markers",
         "name": "VA",
         "orientation": "v",
         "showlegend": true,
         "textposition": "top center",
         "type": "scatter",
         "x": [
          0.93
         ],
         "xaxis": "x",
         "y": [
          13.2
         ],
         "yaxis": "y"
        },
        {
         "hovertemplate": "STATE=WA<br>HDI (Human Development Index)=%{x}<br>Suicide Rate=%{marker.size}<extra></extra>",
         "legendgroup": "WA",
         "marker": {
          "color": "#FF6692",
          "opacity": 0.7,
          "size": [
           15.3
          ],
          "sizemode": "area",
          "sizeref": 0.08074999999999999,
          "symbol": "circle"
         },
         "mode": "markers",
         "name": "WA",
         "orientation": "v",
         "showlegend": true,
         "textposition": "top center",
         "type": "scatter",
         "x": [
          0.94
         ],
         "xaxis": "x",
         "y": [
          15.3
         ],
         "yaxis": "y"
        },
        {
         "hovertemplate": "STATE=WV<br>HDI (Human Development Index)=%{x}<br>Suicide Rate=%{marker.size}<extra></extra>",
         "legendgroup": "WV",
         "marker": {
          "color": "#B6E880",
          "opacity": 0.7,
          "size": [
           20.6
          ],
          "sizemode": "area",
          "sizeref": 0.08074999999999999,
          "symbol": "circle"
         },
         "mode": "markers",
         "name": "WV",
         "orientation": "v",
         "showlegend": true,
         "textposition": "top center",
         "type": "scatter",
         "x": [
          0.877
         ],
         "xaxis": "x",
         "y": [
          20.6
         ],
         "yaxis": "y"
        },
        {
         "hovertemplate": "STATE=WI<br>HDI (Human Development Index)=%{x}<br>Suicide Rate=%{marker.size}<extra></extra>",
         "legendgroup": "WI",
         "marker": {
          "color": "#FF97FF",
          "opacity": 0.7,
          "size": [
           15.1
          ],
          "sizemode": "area",
          "sizeref": 0.08074999999999999,
          "symbol": "circle"
         },
         "mode": "markers",
         "name": "WI",
         "orientation": "v",
         "showlegend": true,
         "textposition": "top center",
         "type": "scatter",
         "x": [
          0.929
         ],
         "xaxis": "x",
         "y": [
          15.1
         ],
         "yaxis": "y"
        },
        {
         "hovertemplate": "STATE=WY<br>HDI (Human Development Index)=%{x}<br>Suicide Rate=%{marker.size}<extra></extra>",
         "legendgroup": "WY",
         "marker": {
          "color": "#FECB52",
          "opacity": 0.7,
          "size": [
           32.3
          ],
          "sizemode": "area",
          "sizeref": 0.08074999999999999,
          "symbol": "circle"
         },
         "mode": "markers",
         "name": "WY",
         "orientation": "v",
         "showlegend": true,
         "textposition": "top center",
         "type": "scatter",
         "x": [
          0.932
         ],
         "xaxis": "x",
         "y": [
          32.3
         ],
         "yaxis": "y"
        }
       ],
       "layout": {
        "legend": {
         "itemsizing": "constant",
         "title": {
          "text": "STATE"
         },
         "tracegroupgap": 0
        },
        "template": {
         "data": {
          "bar": [
           {
            "error_x": {
             "color": "#2a3f5f"
            },
            "error_y": {
             "color": "#2a3f5f"
            },
            "marker": {
             "line": {
              "color": "#E5ECF6",
              "width": 0.5
             },
             "pattern": {
              "fillmode": "overlay",
              "size": 10,
              "solidity": 0.2
             }
            },
            "type": "bar"
           }
          ],
          "barpolar": [
           {
            "marker": {
             "line": {
              "color": "#E5ECF6",
              "width": 0.5
             },
             "pattern": {
              "fillmode": "overlay",
              "size": 10,
              "solidity": 0.2
             }
            },
            "type": "barpolar"
           }
          ],
          "carpet": [
           {
            "aaxis": {
             "endlinecolor": "#2a3f5f",
             "gridcolor": "white",
             "linecolor": "white",
             "minorgridcolor": "white",
             "startlinecolor": "#2a3f5f"
            },
            "baxis": {
             "endlinecolor": "#2a3f5f",
             "gridcolor": "white",
             "linecolor": "white",
             "minorgridcolor": "white",
             "startlinecolor": "#2a3f5f"
            },
            "type": "carpet"
           }
          ],
          "choropleth": [
           {
            "colorbar": {
             "outlinewidth": 0,
             "ticks": ""
            },
            "type": "choropleth"
           }
          ],
          "contour": [
           {
            "colorbar": {
             "outlinewidth": 0,
             "ticks": ""
            },
            "colorscale": [
             [
              0,
              "#0d0887"
             ],
             [
              0.1111111111111111,
              "#46039f"
             ],
             [
              0.2222222222222222,
              "#7201a8"
             ],
             [
              0.3333333333333333,
              "#9c179e"
             ],
             [
              0.4444444444444444,
              "#bd3786"
             ],
             [
              0.5555555555555556,
              "#d8576b"
             ],
             [
              0.6666666666666666,
              "#ed7953"
             ],
             [
              0.7777777777777778,
              "#fb9f3a"
             ],
             [
              0.8888888888888888,
              "#fdca26"
             ],
             [
              1,
              "#f0f921"
             ]
            ],
            "type": "contour"
           }
          ],
          "contourcarpet": [
           {
            "colorbar": {
             "outlinewidth": 0,
             "ticks": ""
            },
            "type": "contourcarpet"
           }
          ],
          "heatmap": [
           {
            "colorbar": {
             "outlinewidth": 0,
             "ticks": ""
            },
            "colorscale": [
             [
              0,
              "#0d0887"
             ],
             [
              0.1111111111111111,
              "#46039f"
             ],
             [
              0.2222222222222222,
              "#7201a8"
             ],
             [
              0.3333333333333333,
              "#9c179e"
             ],
             [
              0.4444444444444444,
              "#bd3786"
             ],
             [
              0.5555555555555556,
              "#d8576b"
             ],
             [
              0.6666666666666666,
              "#ed7953"
             ],
             [
              0.7777777777777778,
              "#fb9f3a"
             ],
             [
              0.8888888888888888,
              "#fdca26"
             ],
             [
              1,
              "#f0f921"
             ]
            ],
            "type": "heatmap"
           }
          ],
          "heatmapgl": [
           {
            "colorbar": {
             "outlinewidth": 0,
             "ticks": ""
            },
            "colorscale": [
             [
              0,
              "#0d0887"
             ],
             [
              0.1111111111111111,
              "#46039f"
             ],
             [
              0.2222222222222222,
              "#7201a8"
             ],
             [
              0.3333333333333333,
              "#9c179e"
             ],
             [
              0.4444444444444444,
              "#bd3786"
             ],
             [
              0.5555555555555556,
              "#d8576b"
             ],
             [
              0.6666666666666666,
              "#ed7953"
             ],
             [
              0.7777777777777778,
              "#fb9f3a"
             ],
             [
              0.8888888888888888,
              "#fdca26"
             ],
             [
              1,
              "#f0f921"
             ]
            ],
            "type": "heatmapgl"
           }
          ],
          "histogram": [
           {
            "marker": {
             "pattern": {
              "fillmode": "overlay",
              "size": 10,
              "solidity": 0.2
             }
            },
            "type": "histogram"
           }
          ],
          "histogram2d": [
           {
            "colorbar": {
             "outlinewidth": 0,
             "ticks": ""
            },
            "colorscale": [
             [
              0,
              "#0d0887"
             ],
             [
              0.1111111111111111,
              "#46039f"
             ],
             [
              0.2222222222222222,
              "#7201a8"
             ],
             [
              0.3333333333333333,
              "#9c179e"
             ],
             [
              0.4444444444444444,
              "#bd3786"
             ],
             [
              0.5555555555555556,
              "#d8576b"
             ],
             [
              0.6666666666666666,
              "#ed7953"
             ],
             [
              0.7777777777777778,
              "#fb9f3a"
             ],
             [
              0.8888888888888888,
              "#fdca26"
             ],
             [
              1,
              "#f0f921"
             ]
            ],
            "type": "histogram2d"
           }
          ],
          "histogram2dcontour": [
           {
            "colorbar": {
             "outlinewidth": 0,
             "ticks": ""
            },
            "colorscale": [
             [
              0,
              "#0d0887"
             ],
             [
              0.1111111111111111,
              "#46039f"
             ],
             [
              0.2222222222222222,
              "#7201a8"
             ],
             [
              0.3333333333333333,
              "#9c179e"
             ],
             [
              0.4444444444444444,
              "#bd3786"
             ],
             [
              0.5555555555555556,
              "#d8576b"
             ],
             [
              0.6666666666666666,
              "#ed7953"
             ],
             [
              0.7777777777777778,
              "#fb9f3a"
             ],
             [
              0.8888888888888888,
              "#fdca26"
             ],
             [
              1,
              "#f0f921"
             ]
            ],
            "type": "histogram2dcontour"
           }
          ],
          "mesh3d": [
           {
            "colorbar": {
             "outlinewidth": 0,
             "ticks": ""
            },
            "type": "mesh3d"
           }
          ],
          "parcoords": [
           {
            "line": {
             "colorbar": {
              "outlinewidth": 0,
              "ticks": ""
             }
            },
            "type": "parcoords"
           }
          ],
          "pie": [
           {
            "automargin": true,
            "type": "pie"
           }
          ],
          "scatter": [
           {
            "fillpattern": {
             "fillmode": "overlay",
             "size": 10,
             "solidity": 0.2
            },
            "type": "scatter"
           }
          ],
          "scatter3d": [
           {
            "line": {
             "colorbar": {
              "outlinewidth": 0,
              "ticks": ""
             }
            },
            "marker": {
             "colorbar": {
              "outlinewidth": 0,
              "ticks": ""
             }
            },
            "type": "scatter3d"
           }
          ],
          "scattercarpet": [
           {
            "marker": {
             "colorbar": {
              "outlinewidth": 0,
              "ticks": ""
             }
            },
            "type": "scattercarpet"
           }
          ],
          "scattergeo": [
           {
            "marker": {
             "colorbar": {
              "outlinewidth": 0,
              "ticks": ""
             }
            },
            "type": "scattergeo"
           }
          ],
          "scattergl": [
           {
            "marker": {
             "colorbar": {
              "outlinewidth": 0,
              "ticks": ""
             }
            },
            "type": "scattergl"
           }
          ],
          "scattermapbox": [
           {
            "marker": {
             "colorbar": {
              "outlinewidth": 0,
              "ticks": ""
             }
            },
            "type": "scattermapbox"
           }
          ],
          "scatterpolar": [
           {
            "marker": {
             "colorbar": {
              "outlinewidth": 0,
              "ticks": ""
             }
            },
            "type": "scatterpolar"
           }
          ],
          "scatterpolargl": [
           {
            "marker": {
             "colorbar": {
              "outlinewidth": 0,
              "ticks": ""
             }
            },
            "type": "scatterpolargl"
           }
          ],
          "scatterternary": [
           {
            "marker": {
             "colorbar": {
              "outlinewidth": 0,
              "ticks": ""
             }
            },
            "type": "scatterternary"
           }
          ],
          "surface": [
           {
            "colorbar": {
             "outlinewidth": 0,
             "ticks": ""
            },
            "colorscale": [
             [
              0,
              "#0d0887"
             ],
             [
              0.1111111111111111,
              "#46039f"
             ],
             [
              0.2222222222222222,
              "#7201a8"
             ],
             [
              0.3333333333333333,
              "#9c179e"
             ],
             [
              0.4444444444444444,
              "#bd3786"
             ],
             [
              0.5555555555555556,
              "#d8576b"
             ],
             [
              0.6666666666666666,
              "#ed7953"
             ],
             [
              0.7777777777777778,
              "#fb9f3a"
             ],
             [
              0.8888888888888888,
              "#fdca26"
             ],
             [
              1,
              "#f0f921"
             ]
            ],
            "type": "surface"
           }
          ],
          "table": [
           {
            "cells": {
             "fill": {
              "color": "#EBF0F8"
             },
             "line": {
              "color": "white"
             }
            },
            "header": {
             "fill": {
              "color": "#C8D4E3"
             },
             "line": {
              "color": "white"
             }
            },
            "type": "table"
           }
          ]
         },
         "layout": {
          "annotationdefaults": {
           "arrowcolor": "#2a3f5f",
           "arrowhead": 0,
           "arrowwidth": 1
          },
          "autotypenumbers": "strict",
          "coloraxis": {
           "colorbar": {
            "outlinewidth": 0,
            "ticks": ""
           }
          },
          "colorscale": {
           "diverging": [
            [
             0,
             "#8e0152"
            ],
            [
             0.1,
             "#c51b7d"
            ],
            [
             0.2,
             "#de77ae"
            ],
            [
             0.3,
             "#f1b6da"
            ],
            [
             0.4,
             "#fde0ef"
            ],
            [
             0.5,
             "#f7f7f7"
            ],
            [
             0.6,
             "#e6f5d0"
            ],
            [
             0.7,
             "#b8e186"
            ],
            [
             0.8,
             "#7fbc41"
            ],
            [
             0.9,
             "#4d9221"
            ],
            [
             1,
             "#276419"
            ]
           ],
           "sequential": [
            [
             0,
             "#0d0887"
            ],
            [
             0.1111111111111111,
             "#46039f"
            ],
            [
             0.2222222222222222,
             "#7201a8"
            ],
            [
             0.3333333333333333,
             "#9c179e"
            ],
            [
             0.4444444444444444,
             "#bd3786"
            ],
            [
             0.5555555555555556,
             "#d8576b"
            ],
            [
             0.6666666666666666,
             "#ed7953"
            ],
            [
             0.7777777777777778,
             "#fb9f3a"
            ],
            [
             0.8888888888888888,
             "#fdca26"
            ],
            [
             1,
             "#f0f921"
            ]
           ],
           "sequentialminus": [
            [
             0,
             "#0d0887"
            ],
            [
             0.1111111111111111,
             "#46039f"
            ],
            [
             0.2222222222222222,
             "#7201a8"
            ],
            [
             0.3333333333333333,
             "#9c179e"
            ],
            [
             0.4444444444444444,
             "#bd3786"
            ],
            [
             0.5555555555555556,
             "#d8576b"
            ],
            [
             0.6666666666666666,
             "#ed7953"
            ],
            [
             0.7777777777777778,
             "#fb9f3a"
            ],
            [
             0.8888888888888888,
             "#fdca26"
            ],
            [
             1,
             "#f0f921"
            ]
           ]
          },
          "colorway": [
           "#636efa",
           "#EF553B",
           "#00cc96",
           "#ab63fa",
           "#FFA15A",
           "#19d3f3",
           "#FF6692",
           "#B6E880",
           "#FF97FF",
           "#FECB52"
          ],
          "font": {
           "color": "#2a3f5f"
          },
          "geo": {
           "bgcolor": "white",
           "lakecolor": "white",
           "landcolor": "#E5ECF6",
           "showlakes": true,
           "showland": true,
           "subunitcolor": "white"
          },
          "hoverlabel": {
           "align": "left"
          },
          "hovermode": "closest",
          "mapbox": {
           "style": "light"
          },
          "paper_bgcolor": "white",
          "plot_bgcolor": "#E5ECF6",
          "polar": {
           "angularaxis": {
            "gridcolor": "white",
            "linecolor": "white",
            "ticks": ""
           },
           "bgcolor": "#E5ECF6",
           "radialaxis": {
            "gridcolor": "white",
            "linecolor": "white",
            "ticks": ""
           }
          },
          "scene": {
           "xaxis": {
            "backgroundcolor": "#E5ECF6",
            "gridcolor": "white",
            "gridwidth": 2,
            "linecolor": "white",
            "showbackground": true,
            "ticks": "",
            "zerolinecolor": "white"
           },
           "yaxis": {
            "backgroundcolor": "#E5ECF6",
            "gridcolor": "white",
            "gridwidth": 2,
            "linecolor": "white",
            "showbackground": true,
            "ticks": "",
            "zerolinecolor": "white"
           },
           "zaxis": {
            "backgroundcolor": "#E5ECF6",
            "gridcolor": "white",
            "gridwidth": 2,
            "linecolor": "white",
            "showbackground": true,
            "ticks": "",
            "zerolinecolor": "white"
           }
          },
          "shapedefaults": {
           "line": {
            "color": "#2a3f5f"
           }
          },
          "ternary": {
           "aaxis": {
            "gridcolor": "white",
            "linecolor": "white",
            "ticks": ""
           },
           "baxis": {
            "gridcolor": "white",
            "linecolor": "white",
            "ticks": ""
           },
           "bgcolor": "#E5ECF6",
           "caxis": {
            "gridcolor": "white",
            "linecolor": "white",
            "ticks": ""
           }
          },
          "title": {
           "x": 0.05
          },
          "xaxis": {
           "automargin": true,
           "gridcolor": "white",
           "linecolor": "white",
           "ticks": "",
           "title": {
            "standoff": 15
           },
           "zerolinecolor": "white",
           "zerolinewidth": 2
          },
          "yaxis": {
           "automargin": true,
           "gridcolor": "white",
           "linecolor": "white",
           "ticks": "",
           "title": {
            "standoff": 15
           },
           "zerolinecolor": "white",
           "zerolinewidth": 2
          }
         }
        },
        "title": {
         "text": "State-wise HDI vs Suicide Rate (Bubble Plot)"
        },
        "xaxis": {
         "anchor": "y",
         "domain": [
          0,
          1
         ],
         "title": {
          "text": "HDI (Human Development Index)"
         }
        },
        "yaxis": {
         "anchor": "x",
         "domain": [
          0,
          1
         ],
         "title": {
          "text": "Suicide Rate"
         }
        }
       }
      },
      "text/html": [
       "<div>                            <div id=\"22e7994a-07ab-4f74-b853-9da713273503\" class=\"plotly-graph-div\" style=\"height:525px; width:100%;\"></div>            <script type=\"text/javascript\">                require([\"plotly\"], function(Plotly) {                    window.PLOTLYENV=window.PLOTLYENV || {};                                    if (document.getElementById(\"22e7994a-07ab-4f74-b853-9da713273503\")) {                    Plotly.newPlot(                        \"22e7994a-07ab-4f74-b853-9da713273503\",                        [{\"hovertemplate\":\"STATE=AL<br>HDI (Human Development Index)=%{x}<br>Suicide Rate=%{marker.size}<extra></extra>\",\"legendgroup\":\"AL\",\"marker\":{\"color\":\"#636efa\",\"size\":[15.8],\"sizemode\":\"area\",\"sizeref\":0.08074999999999999,\"symbol\":\"circle\",\"opacity\":0.7},\"mode\":\"markers\",\"name\":\"AL\",\"orientation\":\"v\",\"showlegend\":true,\"x\":[0.881],\"xaxis\":\"x\",\"y\":[15.8],\"yaxis\":\"y\",\"type\":\"scatter\",\"textposition\":\"top center\"},{\"hovertemplate\":\"STATE=AK<br>HDI (Human Development Index)=%{x}<br>Suicide Rate=%{marker.size}<extra></extra>\",\"legendgroup\":\"AK\",\"marker\":{\"color\":\"#EF553B\",\"size\":[30.8],\"sizemode\":\"area\",\"sizeref\":0.08074999999999999,\"symbol\":\"circle\",\"opacity\":0.7},\"mode\":\"markers\",\"name\":\"AK\",\"orientation\":\"v\",\"showlegend\":true,\"x\":[0.93],\"xaxis\":\"x\",\"y\":[30.8],\"yaxis\":\"y\",\"type\":\"scatter\",\"textposition\":\"top center\"},{\"hovertemplate\":\"STATE=AZ<br>HDI (Human Development Index)=%{x}<br>Suicide Rate=%{marker.size}<extra></extra>\",\"legendgroup\":\"AZ\",\"marker\":{\"color\":\"#00cc96\",\"size\":[19.5],\"sizemode\":\"area\",\"sizeref\":0.08074999999999999,\"symbol\":\"circle\",\"opacity\":0.7},\"mode\":\"markers\",\"name\":\"AZ\",\"orientation\":\"v\",\"showlegend\":true,\"x\":[0.908],\"xaxis\":\"x\",\"y\":[19.5],\"yaxis\":\"y\",\"type\":\"scatter\",\"textposition\":\"top center\"},{\"hovertemplate\":\"STATE=AR<br>HDI (Human Development Index)=%{x}<br>Suicide Rate=%{marker.size}<extra></extra>\",\"legendgroup\":\"AR\",\"marker\":{\"color\":\"#ab63fa\",\"size\":[20.6],\"sizemode\":\"area\",\"sizeref\":0.08074999999999999,\"symbol\":\"circle\",\"opacity\":0.7},\"mode\":\"markers\",\"name\":\"AR\",\"orientation\":\"v\",\"showlegend\":true,\"x\":[0.881],\"xaxis\":\"x\",\"y\":[20.6],\"yaxis\":\"y\",\"type\":\"scatter\",\"textposition\":\"top center\"},{\"hovertemplate\":\"STATE=CA<br>HDI (Human Development Index)=%{x}<br>Suicide Rate=%{marker.size}<extra></extra>\",\"legendgroup\":\"CA\",\"marker\":{\"color\":\"#FFA15A\",\"size\":[10.1],\"sizemode\":\"area\",\"sizeref\":0.08074999999999999,\"symbol\":\"circle\",\"opacity\":0.7},\"mode\":\"markers\",\"name\":\"CA\",\"orientation\":\"v\",\"showlegend\":true,\"x\":[0.931],\"xaxis\":\"x\",\"y\":[10.1],\"yaxis\":\"y\",\"type\":\"scatter\",\"textposition\":\"top center\"},{\"hovertemplate\":\"STATE=CO<br>HDI (Human Development Index)=%{x}<br>Suicide Rate=%{marker.size}<extra></extra>\",\"legendgroup\":\"CO\",\"marker\":{\"color\":\"#19d3f3\",\"size\":[22.8],\"sizemode\":\"area\",\"sizeref\":0.08074999999999999,\"symbol\":\"circle\",\"opacity\":0.7},\"mode\":\"markers\",\"name\":\"CO\",\"orientation\":\"v\",\"showlegend\":true,\"x\":[0.942],\"xaxis\":\"x\",\"y\":[22.8],\"yaxis\":\"y\",\"type\":\"scatter\",\"textposition\":\"top center\"},{\"hovertemplate\":\"STATE=CT<br>HDI (Human Development Index)=%{x}<br>Suicide Rate=%{marker.size}<extra></extra>\",\"legendgroup\":\"CT\",\"marker\":{\"color\":\"#FF6692\",\"size\":[10.0],\"sizemode\":\"area\",\"sizeref\":0.08074999999999999,\"symbol\":\"circle\",\"opacity\":0.7},\"mode\":\"markers\",\"name\":\"CT\",\"orientation\":\"v\",\"showlegend\":true,\"x\":[0.948],\"xaxis\":\"x\",\"y\":[10.0],\"yaxis\":\"y\",\"type\":\"scatter\",\"textposition\":\"top center\"},{\"hovertemplate\":\"STATE=DE<br>HDI (Human Development Index)=%{x}<br>Suicide Rate=%{marker.size}<extra></extra>\",\"legendgroup\":\"DE\",\"marker\":{\"color\":\"#B6E880\",\"size\":[13.6],\"sizemode\":\"area\",\"sizeref\":0.08074999999999999,\"symbol\":\"circle\",\"opacity\":0.7},\"mode\":\"markers\",\"name\":\"DE\",\"orientation\":\"v\",\"showlegend\":true,\"x\":[0.929],\"xaxis\":\"x\",\"y\":[13.6],\"yaxis\":\"y\",\"type\":\"scatter\",\"textposition\":\"top center\"},{\"hovertemplate\":\"STATE=FL<br>HDI (Human Development Index)=%{x}<br>Suicide Rate=%{marker.size}<extra></extra>\",\"legendgroup\":\"FL\",\"marker\":{\"color\":\"#FF97FF\",\"size\":[14.0],\"sizemode\":\"area\",\"sizeref\":0.08074999999999999,\"symbol\":\"circle\",\"opacity\":0.7},\"mode\":\"markers\",\"name\":\"FL\",\"orientation\":\"v\",\"showlegend\":true,\"x\":[0.911],\"xaxis\":\"x\",\"y\":[14.0],\"yaxis\":\"y\",\"type\":\"scatter\",\"textposition\":\"top center\"},{\"hovertemplate\":\"STATE=GA<br>HDI (Human Development Index)=%{x}<br>Suicide Rate=%{marker.size}<extra></extra>\",\"legendgroup\":\"GA\",\"marker\":{\"color\":\"#FECB52\",\"size\":[15.3],\"sizemode\":\"area\",\"sizeref\":0.08074999999999999,\"symbol\":\"circle\",\"opacity\":0.7},\"mode\":\"markers\",\"name\":\"GA\",\"orientation\":\"v\",\"showlegend\":true,\"x\":[0.904],\"xaxis\":\"x\",\"y\":[15.3],\"yaxis\":\"y\",\"type\":\"scatter\",\"textposition\":\"top center\"},{\"hovertemplate\":\"STATE=HI<br>HDI (Human Development Index)=%{x}<br>Suicide Rate=%{marker.size}<extra></extra>\",\"legendgroup\":\"HI\",\"marker\":{\"color\":\"#636efa\",\"size\":[13.7],\"sizemode\":\"area\",\"sizeref\":0.08074999999999999,\"symbol\":\"circle\",\"opacity\":0.7},\"mode\":\"markers\",\"name\":\"HI\",\"orientation\":\"v\",\"showlegend\":true,\"x\":[0.94],\"xaxis\":\"x\",\"y\":[13.7],\"yaxis\":\"y\",\"type\":\"scatter\",\"textposition\":\"top center\"},{\"hovertemplate\":\"STATE=ID<br>HDI (Human Development Index)=%{x}<br>Suicide Rate=%{marker.size}<extra></extra>\",\"legendgroup\":\"ID\",\"marker\":{\"color\":\"#EF553B\",\"size\":[20.5],\"sizemode\":\"area\",\"sizeref\":0.08074999999999999,\"symbol\":\"circle\",\"opacity\":0.7},\"mode\":\"markers\",\"name\":\"ID\",\"orientation\":\"v\",\"showlegend\":true,\"x\":[0.907],\"xaxis\":\"x\",\"y\":[20.5],\"yaxis\":\"y\",\"type\":\"scatter\",\"textposition\":\"top center\"},{\"hovertemplate\":\"STATE=IL<br>HDI (Human Development Index)=%{x}<br>Suicide Rate=%{marker.size}<extra></extra>\",\"legendgroup\":\"IL\",\"marker\":{\"color\":\"#00cc96\",\"size\":[11.1],\"sizemode\":\"area\",\"sizeref\":0.08074999999999999,\"symbol\":\"circle\",\"opacity\":0.7},\"mode\":\"markers\",\"name\":\"IL\",\"orientation\":\"v\",\"showlegend\":true,\"x\":[0.929],\"xaxis\":\"x\",\"y\":[11.1],\"yaxis\":\"y\",\"type\":\"scatter\",\"textposition\":\"top center\"},{\"hovertemplate\":\"STATE=IN<br>HDI (Human Development Index)=%{x}<br>Suicide Rate=%{marker.size}<extra></extra>\",\"legendgroup\":\"IN\",\"marker\":{\"color\":\"#ab63fa\",\"size\":[16.4],\"sizemode\":\"area\",\"sizeref\":0.08074999999999999,\"symbol\":\"circle\",\"opacity\":0.7},\"mode\":\"markers\",\"name\":\"IN\",\"orientation\":\"v\",\"showlegend\":true,\"x\":[0.907],\"xaxis\":\"x\",\"y\":[16.4],\"yaxis\":\"y\",\"type\":\"scatter\",\"textposition\":\"top center\"},{\"hovertemplate\":\"STATE=IA<br>HDI (Human Development Index)=%{x}<br>Suicide Rate=%{marker.size}<extra></extra>\",\"legendgroup\":\"IA\",\"marker\":{\"color\":\"#FFA15A\",\"size\":[17.5],\"sizemode\":\"area\",\"sizeref\":0.08074999999999999,\"symbol\":\"circle\",\"opacity\":0.7},\"mode\":\"markers\",\"name\":\"IA\",\"orientation\":\"v\",\"showlegend\":true,\"x\":[0.93],\"xaxis\":\"x\",\"y\":[17.5],\"yaxis\":\"y\",\"type\":\"scatter\",\"textposition\":\"top center\"},{\"hovertemplate\":\"STATE=KS<br>HDI (Human Development Index)=%{x}<br>Suicide Rate=%{marker.size}<extra></extra>\",\"legendgroup\":\"KS\",\"marker\":{\"color\":\"#19d3f3\",\"size\":[19.4],\"sizemode\":\"area\",\"sizeref\":0.08074999999999999,\"symbol\":\"circle\",\"opacity\":0.7},\"mode\":\"markers\",\"name\":\"KS\",\"orientation\":\"v\",\"showlegend\":true,\"x\":[0.922],\"xaxis\":\"x\",\"y\":[19.4],\"yaxis\":\"y\",\"type\":\"scatter\",\"textposition\":\"top center\"},{\"hovertemplate\":\"STATE=KY<br>HDI (Human Development Index)=%{x}<br>Suicide Rate=%{marker.size}<extra></extra>\",\"legendgroup\":\"KY\",\"marker\":{\"color\":\"#FF6692\",\"size\":[17.9],\"sizemode\":\"area\",\"sizeref\":0.08074999999999999,\"symbol\":\"circle\",\"opacity\":0.7},\"mode\":\"markers\",\"name\":\"KY\",\"orientation\":\"v\",\"showlegend\":true,\"x\":[0.884],\"xaxis\":\"x\",\"y\":[17.9],\"yaxis\":\"y\",\"type\":\"scatter\",\"textposition\":\"top center\"},{\"hovertemplate\":\"STATE=LA<br>HDI (Human Development Index)=%{x}<br>Suicide Rate=%{marker.size}<extra></extra>\",\"legendgroup\":\"LA\",\"marker\":{\"color\":\"#B6E880\",\"size\":[14.8],\"sizemode\":\"area\",\"sizeref\":0.08074999999999999,\"symbol\":\"circle\",\"opacity\":0.7},\"mode\":\"markers\",\"name\":\"LA\",\"orientation\":\"v\",\"showlegend\":true,\"x\":[0.888],\"xaxis\":\"x\",\"y\":[14.8],\"yaxis\":\"y\",\"type\":\"scatter\",\"textposition\":\"top center\"},{\"hovertemplate\":\"STATE=ME<br>HDI (Human Development Index)=%{x}<br>Suicide Rate=%{marker.size}<extra></extra>\",\"legendgroup\":\"ME\",\"marker\":{\"color\":\"#FF97FF\",\"size\":[19.5],\"sizemode\":\"area\",\"sizeref\":0.08074999999999999,\"symbol\":\"circle\",\"opacity\":0.7},\"mode\":\"markers\",\"name\":\"ME\",\"orientation\":\"v\",\"showlegend\":true,\"x\":[0.917],\"xaxis\":\"x\",\"y\":[19.5],\"yaxis\":\"y\",\"type\":\"scatter\",\"textposition\":\"top center\"},{\"hovertemplate\":\"STATE=MD<br>HDI (Human Development Index)=%{x}<br>Suicide Rate=%{marker.size}<extra></extra>\",\"legendgroup\":\"MD\",\"marker\":{\"color\":\"#FECB52\",\"size\":[9.7],\"sizemode\":\"area\",\"sizeref\":0.08074999999999999,\"symbol\":\"circle\",\"opacity\":0.7},\"mode\":\"markers\",\"name\":\"MD\",\"orientation\":\"v\",\"showlegend\":true,\"x\":[0.936],\"xaxis\":\"x\",\"y\":[9.7],\"yaxis\":\"y\",\"type\":\"scatter\",\"textposition\":\"top center\"},{\"hovertemplate\":\"STATE=MA<br>HDI (Human Development Index)=%{x}<br>Suicide Rate=%{marker.size}<extra></extra>\",\"legendgroup\":\"MA\",\"marker\":{\"color\":\"#636efa\",\"size\":[8.0],\"sizemode\":\"area\",\"sizeref\":0.08074999999999999,\"symbol\":\"circle\",\"opacity\":0.7},\"mode\":\"markers\",\"name\":\"MA\",\"orientation\":\"v\",\"showlegend\":true,\"x\":[0.949],\"xaxis\":\"x\",\"y\":[8.0],\"yaxis\":\"y\",\"type\":\"scatter\",\"textposition\":\"top center\"},{\"hovertemplate\":\"STATE=MI<br>HDI (Human Development Index)=%{x}<br>Suicide Rate=%{marker.size}<extra></extra>\",\"legendgroup\":\"MI\",\"marker\":{\"color\":\"#EF553B\",\"size\":[14.3],\"sizemode\":\"area\",\"sizeref\":0.08074999999999999,\"symbol\":\"circle\",\"opacity\":0.7},\"mode\":\"markers\",\"name\":\"MI\",\"orientation\":\"v\",\"showlegend\":true,\"x\":[0.913],\"xaxis\":\"x\",\"y\":[14.3],\"yaxis\":\"y\",\"type\":\"scatter\",\"textposition\":\"top center\"},{\"hovertemplate\":\"STATE=MN<br>HDI (Human Development Index)=%{x}<br>Suicide Rate=%{marker.size}<extra></extra>\",\"legendgroup\":\"MN\",\"marker\":{\"color\":\"#00cc96\",\"size\":[13.9],\"sizemode\":\"area\",\"sizeref\":0.08074999999999999,\"symbol\":\"circle\",\"opacity\":0.7},\"mode\":\"markers\",\"name\":\"MN\",\"orientation\":\"v\",\"showlegend\":true,\"x\":[0.947],\"xaxis\":\"x\",\"y\":[13.9],\"yaxis\":\"y\",\"type\":\"scatter\",\"textposition\":\"top center\"},{\"hovertemplate\":\"STATE=MS<br>HDI (Human Development Index)=%{x}<br>Suicide Rate=%{marker.size}<extra></extra>\",\"legendgroup\":\"MS\",\"marker\":{\"color\":\"#ab63fa\",\"size\":[16.2],\"sizemode\":\"area\",\"sizeref\":0.08074999999999999,\"symbol\":\"circle\",\"opacity\":0.7},\"mode\":\"markers\",\"name\":\"MS\",\"orientation\":\"v\",\"showlegend\":true,\"x\":[0.866],\"xaxis\":\"x\",\"y\":[16.2],\"yaxis\":\"y\",\"type\":\"scatter\",\"textposition\":\"top center\"},{\"hovertemplate\":\"STATE=MO<br>HDI (Human Development Index)=%{x}<br>Suicide Rate=%{marker.size}<extra></extra>\",\"legendgroup\":\"MO\",\"marker\":{\"color\":\"#FFA15A\",\"size\":[18.7],\"sizemode\":\"area\",\"sizeref\":0.08074999999999999,\"symbol\":\"circle\",\"opacity\":0.7},\"mode\":\"markers\",\"name\":\"MO\",\"orientation\":\"v\",\"showlegend\":true,\"x\":[0.907],\"xaxis\":\"x\",\"y\":[18.7],\"yaxis\":\"y\",\"type\":\"scatter\",\"textposition\":\"top center\"},{\"hovertemplate\":\"STATE=MT<br>HDI (Human Development Index)=%{x}<br>Suicide Rate=%{marker.size}<extra></extra>\",\"legendgroup\":\"MT\",\"marker\":{\"color\":\"#19d3f3\",\"size\":[32.0],\"sizemode\":\"area\",\"sizeref\":0.08074999999999999,\"symbol\":\"circle\",\"opacity\":0.7},\"mode\":\"markers\",\"name\":\"MT\",\"orientation\":\"v\",\"showlegend\":true,\"x\":[0.916],\"xaxis\":\"x\",\"y\":[32.0],\"yaxis\":\"y\",\"type\":\"scatter\",\"textposition\":\"top center\"},{\"hovertemplate\":\"STATE=NE<br>HDI (Human Development Index)=%{x}<br>Suicide Rate=%{marker.size}<extra></extra>\",\"legendgroup\":\"NE\",\"marker\":{\"color\":\"#FF6692\",\"size\":[15.0],\"sizemode\":\"area\",\"sizeref\":0.08074999999999999,\"symbol\":\"circle\",\"opacity\":0.7},\"mode\":\"markers\",\"name\":\"NE\",\"orientation\":\"v\",\"showlegend\":true,\"x\":[0.933],\"xaxis\":\"x\",\"y\":[15.0],\"yaxis\":\"y\",\"type\":\"scatter\",\"textposition\":\"top center\"},{\"hovertemplate\":\"STATE=NV<br>HDI (Human Development Index)=%{x}<br>Suicide Rate=%{marker.size}<extra></extra>\",\"legendgroup\":\"NV\",\"marker\":{\"color\":\"#B6E880\",\"size\":[21.5],\"sizemode\":\"area\",\"sizeref\":0.08074999999999999,\"symbol\":\"circle\",\"opacity\":0.7},\"mode\":\"markers\",\"name\":\"NV\",\"orientation\":\"v\",\"showlegend\":true,\"x\":[0.904],\"xaxis\":\"x\",\"y\":[21.5],\"yaxis\":\"y\",\"type\":\"scatter\",\"textposition\":\"top center\"},{\"hovertemplate\":\"STATE=NH<br>HDI (Human Development Index)=%{x}<br>Suicide Rate=%{marker.size}<extra></extra>\",\"legendgroup\":\"NH\",\"marker\":{\"color\":\"#FF97FF\",\"size\":[15.1],\"sizemode\":\"area\",\"sizeref\":0.08074999999999999,\"symbol\":\"circle\",\"opacity\":0.7},\"mode\":\"markers\",\"name\":\"NH\",\"orientation\":\"v\",\"showlegend\":true,\"x\":[0.943],\"xaxis\":\"x\",\"y\":[15.1],\"yaxis\":\"y\",\"type\":\"scatter\",\"textposition\":\"top center\"},{\"hovertemplate\":\"STATE=NJ<br>HDI (Human Development Index)=%{x}<br>Suicide Rate=%{marker.size}<extra></extra>\",\"legendgroup\":\"NJ\",\"marker\":{\"color\":\"#FECB52\",\"size\":[7.1],\"sizemode\":\"area\",\"sizeref\":0.08074999999999999,\"symbol\":\"circle\",\"opacity\":0.7},\"mode\":\"markers\",\"name\":\"NJ\",\"orientation\":\"v\",\"showlegend\":true,\"x\":[0.943],\"xaxis\":\"x\",\"y\":[7.1],\"yaxis\":\"y\",\"type\":\"scatter\",\"textposition\":\"top center\"},{\"hovertemplate\":\"STATE=NM<br>HDI (Human Development Index)=%{x}<br>Suicide Rate=%{marker.size}<extra></extra>\",\"legendgroup\":\"NM\",\"marker\":{\"color\":\"#636efa\",\"size\":[25.0],\"sizemode\":\"area\",\"sizeref\":0.08074999999999999,\"symbol\":\"circle\",\"opacity\":0.7},\"mode\":\"markers\",\"name\":\"NM\",\"orientation\":\"v\",\"showlegend\":true,\"x\":[0.901],\"xaxis\":\"x\",\"y\":[25.0],\"yaxis\":\"y\",\"type\":\"scatter\",\"textposition\":\"top center\"},{\"hovertemplate\":\"STATE=NY<br>HDI (Human Development Index)=%{x}<br>Suicide Rate=%{marker.size}<extra></extra>\",\"legendgroup\":\"NY\",\"marker\":{\"color\":\"#EF553B\",\"size\":[7.9],\"sizemode\":\"area\",\"sizeref\":0.08074999999999999,\"symbol\":\"circle\",\"opacity\":0.7},\"mode\":\"markers\",\"name\":\"NY\",\"orientation\":\"v\",\"showlegend\":true,\"x\":[0.938],\"xaxis\":\"x\",\"y\":[7.9],\"yaxis\":\"y\",\"type\":\"scatter\",\"textposition\":\"top center\"},{\"hovertemplate\":\"STATE=NC<br>HDI (Human Development Index)=%{x}<br>Suicide Rate=%{marker.size}<extra></extra>\",\"legendgroup\":\"NC\",\"marker\":{\"color\":\"#00cc96\",\"size\":[13.2],\"sizemode\":\"area\",\"sizeref\":0.08074999999999999,\"symbol\":\"circle\",\"opacity\":0.7},\"mode\":\"markers\",\"name\":\"NC\",\"orientation\":\"v\",\"showlegend\":true,\"x\":[0.907],\"xaxis\":\"x\",\"y\":[13.2],\"yaxis\":\"y\",\"type\":\"scatter\",\"textposition\":\"top center\"},{\"hovertemplate\":\"STATE=ND<br>HDI (Human Development Index)=%{x}<br>Suicide Rate=%{marker.size}<extra></extra>\",\"legendgroup\":\"ND\",\"marker\":{\"color\":\"#ab63fa\",\"size\":[20.8],\"sizemode\":\"area\",\"sizeref\":0.08074999999999999,\"symbol\":\"circle\",\"opacity\":0.7},\"mode\":\"markers\",\"name\":\"ND\",\"orientation\":\"v\",\"showlegend\":true,\"x\":[0.94],\"xaxis\":\"x\",\"y\":[20.8],\"yaxis\":\"y\",\"type\":\"scatter\",\"textposition\":\"top center\"},{\"hovertemplate\":\"STATE=OH<br>HDI (Human Development Index)=%{x}<br>Suicide Rate=%{marker.size}<extra></extra>\",\"legendgroup\":\"OH\",\"marker\":{\"color\":\"#FFA15A\",\"size\":[14.6],\"sizemode\":\"area\",\"sizeref\":0.08074999999999999,\"symbol\":\"circle\",\"opacity\":0.7},\"mode\":\"markers\",\"name\":\"OH\",\"orientation\":\"v\",\"showlegend\":true,\"x\":[0.914],\"xaxis\":\"x\",\"y\":[14.6],\"yaxis\":\"y\",\"type\":\"scatter\",\"textposition\":\"top center\"},{\"hovertemplate\":\"STATE=OK<br>HDI (Human Development Index)=%{x}<br>Suicide Rate=%{marker.size}<extra></extra>\",\"legendgroup\":\"OK\",\"marker\":{\"color\":\"#19d3f3\",\"size\":[22.1],\"sizemode\":\"area\",\"sizeref\":0.08074999999999999,\"symbol\":\"circle\",\"opacity\":0.7},\"mode\":\"markers\",\"name\":\"OK\",\"orientation\":\"v\",\"showlegend\":true,\"x\":[0.896],\"xaxis\":\"x\",\"y\":[22.1],\"yaxis\":\"y\",\"type\":\"scatter\",\"textposition\":\"top center\"},{\"hovertemplate\":\"STATE=OR<br>HDI (Human Development Index)=%{x}<br>Suicide Rate=%{marker.size}<extra></extra>\",\"legendgroup\":\"OR\",\"marker\":{\"color\":\"#FF6692\",\"size\":[19.5],\"sizemode\":\"area\",\"sizeref\":0.08074999999999999,\"symbol\":\"circle\",\"opacity\":0.7},\"mode\":\"markers\",\"name\":\"OR\",\"orientation\":\"v\",\"showlegend\":true,\"x\":[0.93],\"xaxis\":\"x\",\"y\":[19.5],\"yaxis\":\"y\",\"type\":\"scatter\",\"textposition\":\"top center\"},{\"hovertemplate\":\"STATE=PA<br>HDI (Human Development Index)=%{x}<br>Suicide Rate=%{marker.size}<extra></extra>\",\"legendgroup\":\"PA\",\"marker\":{\"color\":\"#B6E880\",\"size\":[13.9],\"sizemode\":\"area\",\"sizeref\":0.08074999999999999,\"symbol\":\"circle\",\"opacity\":0.7},\"mode\":\"markers\",\"name\":\"PA\",\"orientation\":\"v\",\"showlegend\":true,\"x\":[0.923],\"xaxis\":\"x\",\"y\":[13.9],\"yaxis\":\"y\",\"type\":\"scatter\",\"textposition\":\"top center\"},{\"hovertemplate\":\"STATE=RI<br>HDI (Human Development Index)=%{x}<br>Suicide Rate=%{marker.size}<extra></extra>\",\"legendgroup\":\"RI\",\"marker\":{\"color\":\"#FF97FF\",\"size\":[10.3],\"sizemode\":\"area\",\"sizeref\":0.08074999999999999,\"symbol\":\"circle\",\"opacity\":0.7},\"mode\":\"markers\",\"name\":\"RI\",\"orientation\":\"v\",\"showlegend\":true,\"x\":[0.925],\"xaxis\":\"x\",\"y\":[10.3],\"yaxis\":\"y\",\"type\":\"scatter\",\"textposition\":\"top center\"},{\"hovertemplate\":\"STATE=SC<br>HDI (Human Development Index)=%{x}<br>Suicide Rate=%{marker.size}<extra></extra>\",\"legendgroup\":\"SC\",\"marker\":{\"color\":\"#FECB52\",\"size\":[15.2],\"sizemode\":\"area\",\"sizeref\":0.08074999999999999,\"symbol\":\"circle\",\"opacity\":0.7},\"mode\":\"markers\",\"name\":\"SC\",\"orientation\":\"v\",\"showlegend\":true,\"x\":[0.893],\"xaxis\":\"x\",\"y\":[15.2],\"yaxis\":\"y\",\"type\":\"scatter\",\"textposition\":\"top center\"},{\"hovertemplate\":\"STATE=SD<br>HDI (Human Development Index)=%{x}<br>Suicide Rate=%{marker.size}<extra></extra>\",\"legendgroup\":\"SD\",\"marker\":{\"color\":\"#636efa\",\"size\":[23.2],\"sizemode\":\"area\",\"sizeref\":0.08074999999999999,\"symbol\":\"circle\",\"opacity\":0.7},\"mode\":\"markers\",\"name\":\"SD\",\"orientation\":\"v\",\"showlegend\":true,\"x\":[0.927],\"xaxis\":\"x\",\"y\":[23.2],\"yaxis\":\"y\",\"type\":\"scatter\",\"textposition\":\"top center\"},{\"hovertemplate\":\"STATE=TN<br>HDI (Human Development Index)=%{x}<br>Suicide Rate=%{marker.size}<extra></extra>\",\"legendgroup\":\"TN\",\"marker\":{\"color\":\"#EF553B\",\"size\":[17.0],\"sizemode\":\"area\",\"sizeref\":0.08074999999999999,\"symbol\":\"circle\",\"opacity\":0.7},\"mode\":\"markers\",\"name\":\"TN\",\"orientation\":\"v\",\"showlegend\":true,\"x\":[0.895],\"xaxis\":\"x\",\"y\":[17.0],\"yaxis\":\"y\",\"type\":\"scatter\",\"textposition\":\"top center\"},{\"hovertemplate\":\"STATE=TX<br>HDI (Human Development Index)=%{x}<br>Suicide Rate=%{marker.size}<extra></extra>\",\"legendgroup\":\"TX\",\"marker\":{\"color\":\"#00cc96\",\"size\":[14.2],\"sizemode\":\"area\",\"sizeref\":0.08074999999999999,\"symbol\":\"circle\",\"opacity\":0.7},\"mode\":\"markers\",\"name\":\"TX\",\"orientation\":\"v\",\"showlegend\":true,\"x\":[0.911],\"xaxis\":\"x\",\"y\":[14.2],\"yaxis\":\"y\",\"type\":\"scatter\",\"textposition\":\"top center\"},{\"hovertemplate\":\"STATE=UT<br>HDI (Human Development Index)=%{x}<br>Suicide Rate=%{marker.size}<extra></extra>\",\"legendgroup\":\"UT\",\"marker\":{\"color\":\"#ab63fa\",\"size\":[20.1],\"sizemode\":\"area\",\"sizeref\":0.08074999999999999,\"symbol\":\"circle\",\"opacity\":0.7},\"mode\":\"markers\",\"name\":\"UT\",\"orientation\":\"v\",\"showlegend\":true,\"x\":[0.93],\"xaxis\":\"x\",\"y\":[20.1],\"yaxis\":\"y\",\"type\":\"scatter\",\"textposition\":\"top center\"},{\"hovertemplate\":\"STATE=VT<br>HDI (Human Development Index)=%{x}<br>Suicide Rate=%{marker.size}<extra></extra>\",\"legendgroup\":\"VT\",\"marker\":{\"color\":\"#FFA15A\",\"size\":[20.3],\"sizemode\":\"area\",\"sizeref\":0.08074999999999999,\"symbol\":\"circle\",\"opacity\":0.7},\"mode\":\"markers\",\"name\":\"VT\",\"orientation\":\"v\",\"showlegend\":true,\"x\":[0.935],\"xaxis\":\"x\",\"y\":[20.3],\"yaxis\":\"y\",\"type\":\"scatter\",\"textposition\":\"top center\"},{\"hovertemplate\":\"STATE=VA<br>HDI (Human Development Index)=%{x}<br>Suicide Rate=%{marker.size}<extra></extra>\",\"legendgroup\":\"VA\",\"marker\":{\"color\":\"#19d3f3\",\"size\":[13.2],\"sizemode\":\"area\",\"sizeref\":0.08074999999999999,\"symbol\":\"circle\",\"opacity\":0.7},\"mode\":\"markers\",\"name\":\"VA\",\"orientation\":\"v\",\"showlegend\":true,\"x\":[0.93],\"xaxis\":\"x\",\"y\":[13.2],\"yaxis\":\"y\",\"type\":\"scatter\",\"textposition\":\"top center\"},{\"hovertemplate\":\"STATE=WA<br>HDI (Human Development Index)=%{x}<br>Suicide Rate=%{marker.size}<extra></extra>\",\"legendgroup\":\"WA\",\"marker\":{\"color\":\"#FF6692\",\"size\":[15.3],\"sizemode\":\"area\",\"sizeref\":0.08074999999999999,\"symbol\":\"circle\",\"opacity\":0.7},\"mode\":\"markers\",\"name\":\"WA\",\"orientation\":\"v\",\"showlegend\":true,\"x\":[0.94],\"xaxis\":\"x\",\"y\":[15.3],\"yaxis\":\"y\",\"type\":\"scatter\",\"textposition\":\"top center\"},{\"hovertemplate\":\"STATE=WV<br>HDI (Human Development Index)=%{x}<br>Suicide Rate=%{marker.size}<extra></extra>\",\"legendgroup\":\"WV\",\"marker\":{\"color\":\"#B6E880\",\"size\":[20.6],\"sizemode\":\"area\",\"sizeref\":0.08074999999999999,\"symbol\":\"circle\",\"opacity\":0.7},\"mode\":\"markers\",\"name\":\"WV\",\"orientation\":\"v\",\"showlegend\":true,\"x\":[0.877],\"xaxis\":\"x\",\"y\":[20.6],\"yaxis\":\"y\",\"type\":\"scatter\",\"textposition\":\"top center\"},{\"hovertemplate\":\"STATE=WI<br>HDI (Human Development Index)=%{x}<br>Suicide Rate=%{marker.size}<extra></extra>\",\"legendgroup\":\"WI\",\"marker\":{\"color\":\"#FF97FF\",\"size\":[15.1],\"sizemode\":\"area\",\"sizeref\":0.08074999999999999,\"symbol\":\"circle\",\"opacity\":0.7},\"mode\":\"markers\",\"name\":\"WI\",\"orientation\":\"v\",\"showlegend\":true,\"x\":[0.929],\"xaxis\":\"x\",\"y\":[15.1],\"yaxis\":\"y\",\"type\":\"scatter\",\"textposition\":\"top center\"},{\"hovertemplate\":\"STATE=WY<br>HDI (Human Development Index)=%{x}<br>Suicide Rate=%{marker.size}<extra></extra>\",\"legendgroup\":\"WY\",\"marker\":{\"color\":\"#FECB52\",\"size\":[32.3],\"sizemode\":\"area\",\"sizeref\":0.08074999999999999,\"symbol\":\"circle\",\"opacity\":0.7},\"mode\":\"markers\",\"name\":\"WY\",\"orientation\":\"v\",\"showlegend\":true,\"x\":[0.932],\"xaxis\":\"x\",\"y\":[32.3],\"yaxis\":\"y\",\"type\":\"scatter\",\"textposition\":\"top center\"}],                        {\"template\":{\"data\":{\"histogram2dcontour\":[{\"type\":\"histogram2dcontour\",\"colorbar\":{\"outlinewidth\":0,\"ticks\":\"\"},\"colorscale\":[[0.0,\"#0d0887\"],[0.1111111111111111,\"#46039f\"],[0.2222222222222222,\"#7201a8\"],[0.3333333333333333,\"#9c179e\"],[0.4444444444444444,\"#bd3786\"],[0.5555555555555556,\"#d8576b\"],[0.6666666666666666,\"#ed7953\"],[0.7777777777777778,\"#fb9f3a\"],[0.8888888888888888,\"#fdca26\"],[1.0,\"#f0f921\"]]}],\"choropleth\":[{\"type\":\"choropleth\",\"colorbar\":{\"outlinewidth\":0,\"ticks\":\"\"}}],\"histogram2d\":[{\"type\":\"histogram2d\",\"colorbar\":{\"outlinewidth\":0,\"ticks\":\"\"},\"colorscale\":[[0.0,\"#0d0887\"],[0.1111111111111111,\"#46039f\"],[0.2222222222222222,\"#7201a8\"],[0.3333333333333333,\"#9c179e\"],[0.4444444444444444,\"#bd3786\"],[0.5555555555555556,\"#d8576b\"],[0.6666666666666666,\"#ed7953\"],[0.7777777777777778,\"#fb9f3a\"],[0.8888888888888888,\"#fdca26\"],[1.0,\"#f0f921\"]]}],\"heatmap\":[{\"type\":\"heatmap\",\"colorbar\":{\"outlinewidth\":0,\"ticks\":\"\"},\"colorscale\":[[0.0,\"#0d0887\"],[0.1111111111111111,\"#46039f\"],[0.2222222222222222,\"#7201a8\"],[0.3333333333333333,\"#9c179e\"],[0.4444444444444444,\"#bd3786\"],[0.5555555555555556,\"#d8576b\"],[0.6666666666666666,\"#ed7953\"],[0.7777777777777778,\"#fb9f3a\"],[0.8888888888888888,\"#fdca26\"],[1.0,\"#f0f921\"]]}],\"heatmapgl\":[{\"type\":\"heatmapgl\",\"colorbar\":{\"outlinewidth\":0,\"ticks\":\"\"},\"colorscale\":[[0.0,\"#0d0887\"],[0.1111111111111111,\"#46039f\"],[0.2222222222222222,\"#7201a8\"],[0.3333333333333333,\"#9c179e\"],[0.4444444444444444,\"#bd3786\"],[0.5555555555555556,\"#d8576b\"],[0.6666666666666666,\"#ed7953\"],[0.7777777777777778,\"#fb9f3a\"],[0.8888888888888888,\"#fdca26\"],[1.0,\"#f0f921\"]]}],\"contourcarpet\":[{\"type\":\"contourcarpet\",\"colorbar\":{\"outlinewidth\":0,\"ticks\":\"\"}}],\"contour\":[{\"type\":\"contour\",\"colorbar\":{\"outlinewidth\":0,\"ticks\":\"\"},\"colorscale\":[[0.0,\"#0d0887\"],[0.1111111111111111,\"#46039f\"],[0.2222222222222222,\"#7201a8\"],[0.3333333333333333,\"#9c179e\"],[0.4444444444444444,\"#bd3786\"],[0.5555555555555556,\"#d8576b\"],[0.6666666666666666,\"#ed7953\"],[0.7777777777777778,\"#fb9f3a\"],[0.8888888888888888,\"#fdca26\"],[1.0,\"#f0f921\"]]}],\"surface\":[{\"type\":\"surface\",\"colorbar\":{\"outlinewidth\":0,\"ticks\":\"\"},\"colorscale\":[[0.0,\"#0d0887\"],[0.1111111111111111,\"#46039f\"],[0.2222222222222222,\"#7201a8\"],[0.3333333333333333,\"#9c179e\"],[0.4444444444444444,\"#bd3786\"],[0.5555555555555556,\"#d8576b\"],[0.6666666666666666,\"#ed7953\"],[0.7777777777777778,\"#fb9f3a\"],[0.8888888888888888,\"#fdca26\"],[1.0,\"#f0f921\"]]}],\"mesh3d\":[{\"type\":\"mesh3d\",\"colorbar\":{\"outlinewidth\":0,\"ticks\":\"\"}}],\"scatter\":[{\"fillpattern\":{\"fillmode\":\"overlay\",\"size\":10,\"solidity\":0.2},\"type\":\"scatter\"}],\"parcoords\":[{\"type\":\"parcoords\",\"line\":{\"colorbar\":{\"outlinewidth\":0,\"ticks\":\"\"}}}],\"scatterpolargl\":[{\"type\":\"scatterpolargl\",\"marker\":{\"colorbar\":{\"outlinewidth\":0,\"ticks\":\"\"}}}],\"bar\":[{\"error_x\":{\"color\":\"#2a3f5f\"},\"error_y\":{\"color\":\"#2a3f5f\"},\"marker\":{\"line\":{\"color\":\"#E5ECF6\",\"width\":0.5},\"pattern\":{\"fillmode\":\"overlay\",\"size\":10,\"solidity\":0.2}},\"type\":\"bar\"}],\"scattergeo\":[{\"type\":\"scattergeo\",\"marker\":{\"colorbar\":{\"outlinewidth\":0,\"ticks\":\"\"}}}],\"scatterpolar\":[{\"type\":\"scatterpolar\",\"marker\":{\"colorbar\":{\"outlinewidth\":0,\"ticks\":\"\"}}}],\"histogram\":[{\"marker\":{\"pattern\":{\"fillmode\":\"overlay\",\"size\":10,\"solidity\":0.2}},\"type\":\"histogram\"}],\"scattergl\":[{\"type\":\"scattergl\",\"marker\":{\"colorbar\":{\"outlinewidth\":0,\"ticks\":\"\"}}}],\"scatter3d\":[{\"type\":\"scatter3d\",\"line\":{\"colorbar\":{\"outlinewidth\":0,\"ticks\":\"\"}},\"marker\":{\"colorbar\":{\"outlinewidth\":0,\"ticks\":\"\"}}}],\"scattermapbox\":[{\"type\":\"scattermapbox\",\"marker\":{\"colorbar\":{\"outlinewidth\":0,\"ticks\":\"\"}}}],\"scatterternary\":[{\"type\":\"scatterternary\",\"marker\":{\"colorbar\":{\"outlinewidth\":0,\"ticks\":\"\"}}}],\"scattercarpet\":[{\"type\":\"scattercarpet\",\"marker\":{\"colorbar\":{\"outlinewidth\":0,\"ticks\":\"\"}}}],\"carpet\":[{\"aaxis\":{\"endlinecolor\":\"#2a3f5f\",\"gridcolor\":\"white\",\"linecolor\":\"white\",\"minorgridcolor\":\"white\",\"startlinecolor\":\"#2a3f5f\"},\"baxis\":{\"endlinecolor\":\"#2a3f5f\",\"gridcolor\":\"white\",\"linecolor\":\"white\",\"minorgridcolor\":\"white\",\"startlinecolor\":\"#2a3f5f\"},\"type\":\"carpet\"}],\"table\":[{\"cells\":{\"fill\":{\"color\":\"#EBF0F8\"},\"line\":{\"color\":\"white\"}},\"header\":{\"fill\":{\"color\":\"#C8D4E3\"},\"line\":{\"color\":\"white\"}},\"type\":\"table\"}],\"barpolar\":[{\"marker\":{\"line\":{\"color\":\"#E5ECF6\",\"width\":0.5},\"pattern\":{\"fillmode\":\"overlay\",\"size\":10,\"solidity\":0.2}},\"type\":\"barpolar\"}],\"pie\":[{\"automargin\":true,\"type\":\"pie\"}]},\"layout\":{\"autotypenumbers\":\"strict\",\"colorway\":[\"#636efa\",\"#EF553B\",\"#00cc96\",\"#ab63fa\",\"#FFA15A\",\"#19d3f3\",\"#FF6692\",\"#B6E880\",\"#FF97FF\",\"#FECB52\"],\"font\":{\"color\":\"#2a3f5f\"},\"hovermode\":\"closest\",\"hoverlabel\":{\"align\":\"left\"},\"paper_bgcolor\":\"white\",\"plot_bgcolor\":\"#E5ECF6\",\"polar\":{\"bgcolor\":\"#E5ECF6\",\"angularaxis\":{\"gridcolor\":\"white\",\"linecolor\":\"white\",\"ticks\":\"\"},\"radialaxis\":{\"gridcolor\":\"white\",\"linecolor\":\"white\",\"ticks\":\"\"}},\"ternary\":{\"bgcolor\":\"#E5ECF6\",\"aaxis\":{\"gridcolor\":\"white\",\"linecolor\":\"white\",\"ticks\":\"\"},\"baxis\":{\"gridcolor\":\"white\",\"linecolor\":\"white\",\"ticks\":\"\"},\"caxis\":{\"gridcolor\":\"white\",\"linecolor\":\"white\",\"ticks\":\"\"}},\"coloraxis\":{\"colorbar\":{\"outlinewidth\":0,\"ticks\":\"\"}},\"colorscale\":{\"sequential\":[[0.0,\"#0d0887\"],[0.1111111111111111,\"#46039f\"],[0.2222222222222222,\"#7201a8\"],[0.3333333333333333,\"#9c179e\"],[0.4444444444444444,\"#bd3786\"],[0.5555555555555556,\"#d8576b\"],[0.6666666666666666,\"#ed7953\"],[0.7777777777777778,\"#fb9f3a\"],[0.8888888888888888,\"#fdca26\"],[1.0,\"#f0f921\"]],\"sequentialminus\":[[0.0,\"#0d0887\"],[0.1111111111111111,\"#46039f\"],[0.2222222222222222,\"#7201a8\"],[0.3333333333333333,\"#9c179e\"],[0.4444444444444444,\"#bd3786\"],[0.5555555555555556,\"#d8576b\"],[0.6666666666666666,\"#ed7953\"],[0.7777777777777778,\"#fb9f3a\"],[0.8888888888888888,\"#fdca26\"],[1.0,\"#f0f921\"]],\"diverging\":[[0,\"#8e0152\"],[0.1,\"#c51b7d\"],[0.2,\"#de77ae\"],[0.3,\"#f1b6da\"],[0.4,\"#fde0ef\"],[0.5,\"#f7f7f7\"],[0.6,\"#e6f5d0\"],[0.7,\"#b8e186\"],[0.8,\"#7fbc41\"],[0.9,\"#4d9221\"],[1,\"#276419\"]]},\"xaxis\":{\"gridcolor\":\"white\",\"linecolor\":\"white\",\"ticks\":\"\",\"title\":{\"standoff\":15},\"zerolinecolor\":\"white\",\"automargin\":true,\"zerolinewidth\":2},\"yaxis\":{\"gridcolor\":\"white\",\"linecolor\":\"white\",\"ticks\":\"\",\"title\":{\"standoff\":15},\"zerolinecolor\":\"white\",\"automargin\":true,\"zerolinewidth\":2},\"scene\":{\"xaxis\":{\"backgroundcolor\":\"#E5ECF6\",\"gridcolor\":\"white\",\"linecolor\":\"white\",\"showbackground\":true,\"ticks\":\"\",\"zerolinecolor\":\"white\",\"gridwidth\":2},\"yaxis\":{\"backgroundcolor\":\"#E5ECF6\",\"gridcolor\":\"white\",\"linecolor\":\"white\",\"showbackground\":true,\"ticks\":\"\",\"zerolinecolor\":\"white\",\"gridwidth\":2},\"zaxis\":{\"backgroundcolor\":\"#E5ECF6\",\"gridcolor\":\"white\",\"linecolor\":\"white\",\"showbackground\":true,\"ticks\":\"\",\"zerolinecolor\":\"white\",\"gridwidth\":2}},\"shapedefaults\":{\"line\":{\"color\":\"#2a3f5f\"}},\"annotationdefaults\":{\"arrowcolor\":\"#2a3f5f\",\"arrowhead\":0,\"arrowwidth\":1},\"geo\":{\"bgcolor\":\"white\",\"landcolor\":\"#E5ECF6\",\"subunitcolor\":\"white\",\"showland\":true,\"showlakes\":true,\"lakecolor\":\"white\"},\"title\":{\"x\":0.05},\"mapbox\":{\"style\":\"light\"}}},\"xaxis\":{\"anchor\":\"y\",\"domain\":[0.0,1.0],\"title\":{\"text\":\"HDI (Human Development Index)\"}},\"yaxis\":{\"anchor\":\"x\",\"domain\":[0.0,1.0],\"title\":{\"text\":\"Suicide Rate\"}},\"legend\":{\"title\":{\"text\":\"STATE\"},\"tracegroupgap\":0,\"itemsizing\":\"constant\"},\"title\":{\"text\":\"State-wise HDI vs Suicide Rate (Bubble Plot)\"}},                        {\"responsive\": true}                    ).then(function(){\n",
       "                            \n",
       "var gd = document.getElementById('22e7994a-07ab-4f74-b853-9da713273503');\n",
       "var x = new MutationObserver(function (mutations, observer) {{\n",
       "        var display = window.getComputedStyle(gd).display;\n",
       "        if (!display || display === 'none') {{\n",
       "            console.log([gd, 'removed!']);\n",
       "            Plotly.purge(gd);\n",
       "            observer.disconnect();\n",
       "        }}\n",
       "}});\n",
       "\n",
       "// Listen for the removal of the full notebook cells\n",
       "var notebookContainer = gd.closest('#notebook-container');\n",
       "if (notebookContainer) {{\n",
       "    x.observe(notebookContainer, {childList: true});\n",
       "}}\n",
       "\n",
       "// Listen for the clearing of the current output cell\n",
       "var outputEl = gd.closest('.output');\n",
       "if (outputEl) {{\n",
       "    x.observe(outputEl, {childList: true});\n",
       "}}\n",
       "\n",
       "                        })                };                });            </script>        </div>"
      ]
     },
     "metadata": {},
     "output_type": "display_data"
    }
   ],
   "source": [
    "import pandas as pd\n",
    "import plotly.express as px\n",
    "\n",
    "# Load the data into a DataFrame named 'df'\n",
    "df = pd.read_csv(\"CSV_DATA/HDI/HDI_vs_RATE.csv\", delimiter=';')\n",
    "\n",
    "# Create a bubble plot with Plotly Express\n",
    "fig = px.scatter(\n",
    "    df,\n",
    "    x='Value',      # HDI column name\n",
    "    y='RATE',       # Suicide Rate column name\n",
    "    #text='STATE',   # State column name for hover text\n",
    "    labels={'Value': 'HDI (Human Development Index)', 'RATE': 'Suicide Rate'},\n",
    "    title='State-wise HDI vs Suicide Rate (Bubble Plot)',\n",
    "    size='RATE',    # Size of the bubble based on suicide rate\n",
    "    color='STATE'   # Color each bubble by state\n",
    ")\n",
    "\n",
    "# Customize the appearance of the plot\n",
    "fig.update_traces(marker=dict(opacity=0.7),\n",
    "                  textposition='top center')\n",
    "\n",
    "# Show the plot\n",
    "fig.show()"
   ]
  },
  {
   "cell_type": "markdown",
   "id": "03e3dafe-96c4-4cc2-b1d5-f3dd736483d9",
   "metadata": {},
   "source": [
    "The disparity in suicide rates among high HDI (Human Development Index) states in the USA, with states like New York(HDI =0.93), New Jersey(HDI = =0.94), and Massachusetts(HDI = 0.94) showing lower rates, compared to states like Montana, Alaska and Wyoming with higher rates, is a complex observation. While high HDI states generally benefit from better access to healthcare, education, and economic opportunities, this result highlights that the relationship between development and suicide risk is complicated. \n",
    "\n",
    "Several factors may contribute to these variations, including regional demographics, social support systems, and mental health service availability. In high HDI states with lower suicide rates, robust mental health infrastructure and supportive communities may contribute to better outcomes. Conversely, in high HDI states with higher suicide rates, other factors such as isolation, improper mental health infrastructure or unique regional stressors may play a role in elevating the risk. This result states the importance of recognizing that high development levels alone may not fully mitigate suicide risk, and that targeted, region-specific suicide prevention strategies and resources are essential to address the complex factors influencing suicide rates within high HDI states.\n"
   ]
  },
  {
   "cell_type": "markdown",
   "id": "320cc7e9",
   "metadata": {},
   "source": [
    "---------------------------------------\n",
    "**Suicide helpline answer rates vs suicide rates (month wise)**\n",
    "---------------------------------------\n",
    "---------------------------------------"
   ]
  },
  {
   "cell_type": "markdown",
   "id": "aeccb0a2-3d24-4f24-bf02-a006051470d7",
   "metadata": {},
   "source": [
    "Suicide helplines play an indispensable role in suicide prevention efforts, providing a lifeline for individuals in crisis. They play a crucial role in bridging the gap between those in need and professional mental health services. They contribute to reducing the overall suicide rate by providing support, and assistance to those who need it most.\n",
    "In the context of suicide prevention, these helplines are indispensable, providing immediate help, hope for those in despair, and their role remains pivotal in saving lives and reducing the devastating impact of suicide on individuals and communities."
   ]
  },
  {
   "cell_type": "code",
   "execution_count": 55,
   "id": "6127b5d9",
   "metadata": {
    "scrolled": false,
    "tags": []
   },
   "outputs": [
    {
     "data": {
      "application/vnd.jupyter.widget-view+json": {
       "model_id": "a3c9719bc4574aa08c4cf5a07a5b6422",
       "version_major": 2,
       "version_minor": 0
      },
      "text/plain": [
       "Dropdown(description='Select File:', options=('AUGUST-2021.csv', 'DECEMBER-2021.csv', 'JULY-2021.csv', 'NOVEMB…"
      ]
     },
     "metadata": {},
     "output_type": "display_data"
    },
    {
     "data": {
      "application/vnd.jupyter.widget-view+json": {
       "model_id": "0568aeaeccfa45168dc313d9d045934e",
       "version_major": 2,
       "version_minor": 0
      },
      "text/plain": [
       "Output()"
      ]
     },
     "metadata": {},
     "output_type": "display_data"
    }
   ],
   "source": [
    "import ipywidgets as widgets\n",
    "from IPython.display import display, clear_output\n",
    "import pandas as pd\n",
    "import plotly.express as px\n",
    "import os\n",
    "\n",
    "# Directory where your monthly data files are located\n",
    "data_directory = \"CSV_DATA/Suicide helpline answer rates vs suicide rates\"\n",
    "\n",
    "# List of file names for each month (assuming you have data for multiple months)\n",
    "file_names = os.listdir(data_directory)\n",
    "\n",
    "# Dropdown widget for file selection\n",
    "file_dropdown = widgets.Dropdown(options=file_names, description='Select File:')\n",
    "\n",
    "# Output area for displaying graphs\n",
    "output_area = widgets.Output()\n",
    "\n",
    "# Initialize the figures as None\n",
    "fig = None\n",
    "\n",
    "# Function to generate Plotly graphs\n",
    "def generate_graph(selected_file):\n",
    "    global fig  # Access the global figure\n",
    "    \n",
    "    # Construct the full file path\n",
    "    file_path = os.path.join(data_directory, selected_file)\n",
    "    \n",
    "    # Read the dataset (assuming Excel format)\n",
    "    df = pd.read_csv(file_path, delimiter=';')\n",
    "\n",
    "    # Create a scatter plot for \"In-State Answer Rate\" vs. \"RATE\" with hover text as state names\n",
    "    fig = px.scatter(df, \n",
    "                     x='In-State Answer Rate',\n",
    "                     y='RATE', \n",
    "                     color='In-State Answer Rate',\n",
    "                     color_continuous_scale=\"viridis\",\n",
    "                     title=f'Suicide Helpline Answer Rate vs. Suicide Rates ({selected_file})',\n",
    "                     hover_name='State'  # Include state names in hover text\n",
    "                    )\n",
    "    fig.update_traces(marker=dict(size=12))\n",
    "    \n",
    "    # Clear the previous plot and display the new one\n",
    "    with output_area:\n",
    "        clear_output()\n",
    "        fig.show()\n",
    "\n",
    "# Event handler for dropdown change\n",
    "def handle_dropdown_change(change):\n",
    "    selected_file = change.new\n",
    "    generate_graph(selected_file)\n",
    "\n",
    "# Link the dropdown widget to the event handler\n",
    "file_dropdown.observe(handle_dropdown_change, names='value')\n",
    "\n",
    "# Display widgets\n",
    "display(file_dropdown)\n",
    "display(output_area)\n"
   ]
  },
  {
   "cell_type": "markdown",
   "id": "852d29a4-3fcb-4c50-adf1-a8e62aed4fab",
   "metadata": {},
   "source": [
    "The states like Wyoming (WY) and Alaska (AK) exhibit lower suicide helpline answer rates alongside higher suicide rates, showing a concerning pattern in these regions. The lower answer rates suggest that individuals in these states may face challenges in accessing immediate crisis intervention, potentially contributing to the elevated suicide rates. To improve suicide helpline answer rates in the states with higher suicide rates, such as Wyoming and Alaska, a comprehensive approach is necessary. This includes securing increased funding and resources to support helpline capacity, recruiting and training more volunteers to handle crisis calls effectively, ensuring 24/7 availability of services and providing cultural competency training to helpline staff to better address the unique needs of diverse populations."
   ]
  },
  {
   "cell_type": "markdown",
   "id": "1cb7719c",
   "metadata": {},
   "source": [
    "---------------------------------------\n",
    "**ASA vs abandoned calls**\n",
    "---------------------------------------\n",
    "---------------------------------------"
   ]
  },
  {
   "cell_type": "markdown",
   "id": "c87bb04f-97fc-43df-967b-9e836b9830d5",
   "metadata": {},
   "source": [
    "In the context of helplines and crisis intervention, the Average Speed of Answer (ASA) holds profound significance. ASA measures the amount of time a caller must wait before their call is answered by a trained professional or volunteer. Abandoned Call Rate is a measure of the percentage of calls that are disconnected by callers before they can be answered by a helpline operator.\n",
    "These metrics directly reflect the accessibility and efficiency of the helpline's response system. These metrics are essential for optimizing helpline performance and ensuring that individuals in distress receive the support they need promptly. A shorter ASA is vital because it signifies swift access to critical support for individuals in distress.\n"
   ]
  },
  {
   "cell_type": "code",
   "execution_count": 56,
   "id": "b3c4f14b",
   "metadata": {
    "tags": []
   },
   "outputs": [
    {
     "data": {
      "application/vnd.jupyter.widget-view+json": {
       "model_id": "e7bc8e18bd354878834a3b8847566b9c",
       "version_major": 2,
       "version_minor": 0
      },
      "text/plain": [
       "Dropdown(description='Select Dataset:', options=('APRIL-2022.csv', 'AUGUST-2021.csv', 'DECEMBER-2021.csv', 'FE…"
      ]
     },
     "metadata": {},
     "output_type": "display_data"
    },
    {
     "data": {
      "application/vnd.jupyter.widget-view+json": {
       "model_id": "62b960d784b54319b8d8773a11c6e6bc",
       "version_major": 2,
       "version_minor": 0
      },
      "text/plain": [
       "Output()"
      ]
     },
     "metadata": {},
     "output_type": "display_data"
    }
   ],
   "source": [
    "import pandas as pd\n",
    "import plotly.express as px\n",
    "import os\n",
    "import ipywidgets as widgets\n",
    "from IPython.display import display, clear_output, HTML\n",
    "\n",
    "# Directory containing the monthly datasets\n",
    "data_dir = \"CSV_DATA/DATA\"\n",
    "\n",
    "# List of files in the directory\n",
    "file_list = os.listdir(data_dir)\n",
    "\n",
    "# Dropdown widget for selecting a dataset\n",
    "dataset_dropdown = widgets.Dropdown(\n",
    "    options=file_list,\n",
    "    description='Select Dataset:',\n",
    "    disabled=False,\n",
    ")\n",
    "\n",
    "# Output area for displaying the scatter plot\n",
    "output_area = widgets.Output()\n",
    "\n",
    "# Function to generate and display the scatter plot based on user selection\n",
    "def generate_scatter_plot(change):\n",
    "    with output_area:\n",
    "        clear_output()  # Clear the output area\n",
    "        file_name = change.new\n",
    "        file_path = os.path.join(data_dir, file_name)\n",
    "\n",
    "        # Read the dataset\n",
    "        df = pd.read_csv(file_path, delimiter=';')\n",
    "\n",
    "        # Check for missing values in 'ASA In-State' and 'Abandoned In-State' columns\n",
    "        if df['ASA In-State'].isnull().any() or df['Abandoned In-State'].isnull().any():\n",
    "            raise ValueError(f\"There are missing values in 'ASA In-State' or 'Abandoned In-State' columns in {file_name}.\")\n",
    "\n",
    "        # Prepare data\n",
    "        #data['DEATHS'] = data['DEATHS'].str.replace(',', '').astype(int)\n",
    "        df['Abandoned In-State'] = df['Abandoned In-State'].str.replace(',', '').astype(int)  # Ensure it's in integer format\n",
    "        df['ASA In-State'] = df['ASA In-State'].str.split(':').apply(lambda x: int(x[0]) * 60 + int(x[1]))\n",
    "\n",
    "        # Create an interactive scatter plot with hover functionality using Plotly Express\n",
    "        fig = px.scatter(\n",
    "            df,\n",
    "            x='ASA In-State',\n",
    "            y='Abandoned In-State',  # Use 'Abandoned In-State' for the y-axis\n",
    "            color='State',  # Use 'State' column for color\n",
    "            color_discrete_sequence=px.colors.qualitative.Set1,  # Set a color sequence\n",
    "            labels={'ASA In-State': 'Average Speed of Answer (Minutes)', 'Abandoned In-State': 'Abandoned Call Count'},\n",
    "            title=f'State Trends for Abandoned Calls vs Average Speed of Answer - {file_name}'\n",
    "        )\n",
    "\n",
    "        # Customize hover text\n",
    "        hover_text = [f\"State: {state}<br>ASA: {asa} minutes<br>Abandoned Calls: {abandoned}\" for state, asa, abandoned in\n",
    "                      zip(df['State'], df['ASA In-State'], df['Abandoned In-State'])]\n",
    "        fig.update_traces(text=hover_text, hoverinfo='text')\n",
    "\n",
    "        # Show the plot\n",
    "        fig.show()\n",
    "\n",
    "# Attach the callback to the dropdown widget\n",
    "dataset_dropdown.observe(generate_scatter_plot, names='value')\n",
    "\n",
    "# Display the dropdown widget initially\n",
    "display(dataset_dropdown)\n",
    "\n",
    "# Display the output area for the scatter plot\n",
    "display(output_area)\n"
   ]
  },
  {
   "cell_type": "markdown",
   "id": "f8c27302-5ed6-4fa9-b77d-32ec4ac6b894",
   "metadata": {},
   "source": [
    "The observed improvement in the Average Speed of Answer (ASA) for Virginia (VA) from August 2021 to February 2022 is a positive trend that suggests enhanced efficiency in addressing calls and reducing waiting times for individuals in crisis. This improvement may reflect investments in staffing, technology, or training that have enabled VA's helpline to respond more promptly to callers.\n",
    "\n",
    "On the other hand, the states of Florida (FL), New York (NY), and California (CA) present a contrasting pattern with high abandoned call rates despite having ASA values that lie in the middle range. This result is notable as it indicates a potential issue with call handling capacity or other operational factors in these states. The high abandonment rate suggests that callers in FL, NY, and CA may be facing extended wait times or challenges in connecting with helpline operators, which could be a barrier to accessing critical support during their moments of crisis. Addressing this discrepancy between ASA and abandonment rates in these states is essential to ensure that individuals receive the timely assistance they need, emphasizing the importance of improving operational efficiency and resource allocation."
   ]
  },
  {
   "cell_type": "markdown",
   "id": "484dce5d",
   "metadata": {},
   "source": [
    "---------------------------------------\n",
    "**Talktime vs number of calls**\n",
    "---------------------------------------\n",
    "---------------------------------------"
   ]
  },
  {
   "cell_type": "markdown",
   "id": "03880a59-6305-4973-8abc-24b020f84a8f",
   "metadata": {},
   "source": [
    "The relationship between talk time and the number of calls handled by a helpline is a critical aspect of understanding the helpline's operational dynamics. \n",
    "When a helpline experiences an increased number of calls, it often leads to shorter talk times per call, as operators need to manage the volume efficiently. Conversely, during periods of lower call volume, operators may have more time to engage in longer, more in-depth conversations with callers. Finding the right equilibrium between these factors is a challenge faced by helpline administrators. \n",
    "Analyzing this relationship can offer insights into the helpline's capacity to manage varying call volumes while maintaining the quality of support provided, contributing to its overall effectiveness in crisis intervention.  \n",
    "  "
   ]
  },
  {
   "cell_type": "code",
   "execution_count": 57,
   "id": "5bd4d211",
   "metadata": {
    "scrolled": false,
    "tags": []
   },
   "outputs": [
    {
     "data": {
      "application/vnd.jupyter.widget-view+json": {
       "model_id": "d218df1aa2804e878eb3d386356af0f1",
       "version_major": 2,
       "version_minor": 0
      },
      "text/plain": [
       "Dropdown(description='Select File:', options=('APRIL-2022.csv', 'AUGUST-2021.csv', 'DECEMBER-2021.csv', 'FEBRU…"
      ]
     },
     "metadata": {},
     "output_type": "display_data"
    },
    {
     "data": {
      "application/vnd.jupyter.widget-view+json": {
       "model_id": "b9f46555fd6545048f5bfaac49f790be",
       "version_major": 2,
       "version_minor": 0
      },
      "text/plain": [
       "Output()"
      ]
     },
     "metadata": {},
     "output_type": "display_data"
    }
   ],
   "source": [
    "import ipywidgets as widgets\n",
    "from IPython.display import display, clear_output\n",
    "import pandas as pd\n",
    "import plotly.express as px\n",
    "import plotly.graph_objects as go\n",
    "import os\n",
    "\n",
    "# Directory where your monthly data files are located\n",
    "data_directory = \"CSV_DATA/DATA\"\n",
    "\n",
    "# List of file names for each month (assuming you have data for multiple months)\n",
    "file_names = os.listdir(data_directory)\n",
    "\n",
    "# Dropdown widget\n",
    "file_dropdown = widgets.Dropdown(options=file_names, description='Select File:')\n",
    "\n",
    "# Output area for displaying graphs\n",
    "output_area = widgets.Output()\n",
    "\n",
    "# Initialize the figures as None\n",
    "fig = None\n",
    "scatter_fig = None\n",
    "\n",
    "# Function to generate Plotly graphs\n",
    "def generate_graphs(selected_file):\n",
    "    global fig, scatter_fig  # Access the global figures\n",
    "    \n",
    "    # Construct the full file path\n",
    "    file_path = os.path.join(data_directory, selected_file)\n",
    "    \n",
    "    # Read the dataset (assuming Excel format)\n",
    "    df = pd.read_csv(file_path, delimiter=';')\n",
    "    df['Received'] = df['Received'].str.replace(',', '').astype(int)\n",
    "    df['Avg. Talk Time In-State'] = df['Avg. Talk Time In-State'].apply(lambda x: int(x.split(':')[0]) * 60 + int(x.split(':')[1]))\n",
    "\n",
    "    # Calculate statistics for the \"Received\" column\n",
    "    lowest_value = df['Received'].min()\n",
    "    highest_value = df['Received'].max()\n",
    "    mean_value = round(df['Received'].mean(), 1)\n",
    "    state_with_highest_received = df.loc[df['Received'].idxmax(), 'State']\n",
    "    state_with_lowest_received = df.loc[df['Received'].idxmin(), 'State']\n",
    "    \n",
    "    # Create bar graph for the statistics\n",
    "    bar_fig = go.Figure()\n",
    "    \n",
    "    bar_fig.add_trace(go.Bar(\n",
    "        x=['Lowest Number of Calls', 'Highest Number of Calls', 'Mean Number of Calls'],\n",
    "        y=[lowest_value, highest_value, mean_value],\n",
    "        text=[lowest_value, highest_value, mean_value],\n",
    "        hovertext=['State with Lowest Calls: ' + state_with_lowest_received, \n",
    "                   'State with Highest Calls: ' + state_with_highest_received, \n",
    "                   'Mean Calls'],\n",
    "    ))\n",
    "\n",
    "    bar_fig.update_layout(\n",
    "        title=f'Statistics for Number of Calls in {selected_file}',\n",
    "        xaxis_title='Statistic',\n",
    "        yaxis_title='Number of Calls',\n",
    "        yaxis_type='log'\n",
    "    )\n",
    "    def convert_to_seconds(time_str):\n",
    "        if isinstance(time_str, int):\n",
    "            return time_str\n",
    "        else:\n",
    "            time_str = str(time_str)  # Convert to string if it's not already\n",
    "            minutes, seconds = map(int, time_str.split(':'))\n",
    "            return minutes * 60 + seconds\n",
    "    \n",
    "    # Create a Plotly scatter plot for Talktime vs. Number of Calls\n",
    "    df['Avg. Talk Time In-State'] = df['Avg. Talk Time In-State'].apply(convert_to_seconds)\n",
    "    #df['Minutes'] = df['Avg. Talk Time In-State'].apply(lambda x: int(x.split(':')[0]) * 60 + int(x.split(':')[1]))\n",
    "\n",
    "    # Create a Plotly scatter plot for Talktime vs. Number of Calls\n",
    "    scatter_fig = px.scatter(df,\n",
    "                             x='Avg. Talk Time In-State',  # X-axis now represents minutes\n",
    "                             y='Received', \n",
    "                             color='State',  # Use the State column for coloring\n",
    "                             title=f'Talktime vs. Number of Calls for {selected_file}'\n",
    "                            )\n",
    "    scatter_fig.update_xaxes(title_text='Avg. Talk Time (Seconds)')  # Update the X-axis label\n",
    "    scatter_fig.update_yaxes(title_text='Number of Calls')\n",
    "\n",
    "    # Clear the previous plots and display the new ones\n",
    "    with output_area:\n",
    "        clear_output()\n",
    "        bar_fig.show()\n",
    "        scatter_fig.show()\n",
    "\n",
    "# Event handler for dropdown change\n",
    "def handle_dropdown_change(change):\n",
    "    selected_file = change.new\n",
    "    generate_graphs(selected_file)\n",
    "\n",
    "# Link the dropdown widget to the event handler\n",
    "file_dropdown.observe(handle_dropdown_change, names='value')\n",
    "\n",
    "# Display widgets\n",
    "display(file_dropdown)\n",
    "display(output_area)"
   ]
  },
  {
   "cell_type": "markdown",
   "id": "acdef444",
   "metadata": {},
   "source": [
    "**Key Findings:**  \n",
    "  \n",
    "  - Consistently low talk times observed in CA, AZ, FL, along with lack of improvement in NC over the year.  \n",
    "    \n",
    "**Challenges Identified:**  \n",
    "  \n",
    "  - Potential difficulties in managing call volumes effectively.\n",
    "  - Limited time, operators can spend with each caller which would affect the quality of service.  \n",
    "   \n",
    "**Possible Causes:** \n",
    "  \n",
    "  - Heavy call traffic in the mentioned states.\n",
    "  - Existing resources may be stretched thin.  \n",
    "    \n",
    "**Recommended Actions:**\n",
    "\n",
    "  - Investment in increased staffing and additional training.\n",
    "  - Dedicating more resources and attention to identified states.\n",
    "  - Need for adequate personnel and infrastructure."
   ]
  },
  {
   "cell_type": "markdown",
   "id": "ef7e41b0",
   "metadata": {},
   "source": [
    "---------------------------------------\n",
    "**States-wise backup calls**\n",
    "---------------------------------------\n",
    "---------------------------------------"
   ]
  },
  {
   "cell_type": "markdown",
   "id": "f1bb2543-ac66-4b9d-bd00-503b383ab6e9",
   "metadata": {},
   "source": [
    "Backup calls are a vital resource in the context of helplines, serving as additional support during periods of high demand or surges in call volume. \n",
    "The concept of backup calls is crucial because it ensures that individuals in crisis do not face extended wait times, and their calls are not left unanswered. This mechanism allows helplines to effectively manage fluctuations in call volume, maintain responsiveness, and prevent callers from becoming discouraged or disconnected during peak periods. \n",
    "By offering immediate support or information, backup calls are a strategic component of a helpline's crisis intervention strategy, ensuring that help is accessible precisely when it is needed most.  \n",
    " \n"
   ]
  },
  {
   "cell_type": "code",
   "execution_count": 58,
   "id": "fa08ecea",
   "metadata": {
    "tags": []
   },
   "outputs": [
    {
     "data": {
      "application/vnd.jupyter.widget-view+json": {
       "model_id": "89f878d9e4f74c4787e1af5c4e2df7de",
       "version_major": 2,
       "version_minor": 0
      },
      "text/plain": [
       "Dropdown(description='Select File:', options=('APRIL-2022.csv', 'AUGUST-2021.csv', 'DECEMBER-2021.csv', 'FEBRU…"
      ]
     },
     "metadata": {},
     "output_type": "display_data"
    },
    {
     "data": {
      "application/vnd.jupyter.widget-view+json": {
       "model_id": "5f13d7e14ac74072981ec6932cc36d05",
       "version_major": 2,
       "version_minor": 0
      },
      "text/plain": [
       "Output()"
      ]
     },
     "metadata": {},
     "output_type": "display_data"
    }
   ],
   "source": [
    "import os\n",
    "import pandas as pd\n",
    "import plotly.express as px\n",
    "import ipywidgets as widgets\n",
    "import plotly.graph_objects as go\n",
    "from IPython.display import display, clear_output\n",
    "from datetime import datetime\n",
    "\n",
    "# Directory where your monthly data files are located\n",
    "data_directory = \"CSV_DATA/DATA\"\n",
    "\n",
    "# List of file names for each month (assuming you have data for multiple months)\n",
    "file_names = os.listdir(data_directory)\n",
    "\n",
    "# Create a dropdown widget for selecting the month\n",
    "file_dropdown = widgets.Dropdown(\n",
    "    options=file_names,\n",
    "    description='Select File:',\n",
    ")\n",
    "\n",
    "# Output area for displaying plots\n",
    "output_area = widgets.Output()\n",
    "\n",
    "# Function to generate and display the choropleth map and the bar chart based on the selected month\n",
    "def generate_choropleth(selected_file):\n",
    "    file_path = os.path.join(data_directory, selected_file)\n",
    "    df = pd.read_csv(file_path, delimiter=';')\n",
    "    df['Flowout to Backup'] = df['Flowout to Backup'].str.replace(',', '').astype(int)\n",
    "\n",
    "    # Extract the date from the selected file name (assuming the format \"FINAL-YYYY-MM...\")\n",
    "    file_parts = selected_file.split(\"-\")\n",
    "    file_date = file_parts[1]  # Extract the date part (YYYY-MM)\n",
    "    \n",
    "    # Calculate statistics for the \"Flowout to Backup\" column\n",
    "    lowest_value = df['Flowout to Backup'].min()\n",
    "    highest_value = df['Flowout to Backup'].max()\n",
    "    mean_value = round(df['Flowout to Backup'].mean(), 1)\n",
    "    state_with_highest_received = df.loc[df['Flowout to Backup'].idxmax(), 'State']\n",
    "    \n",
    "    # Create a list of states with zero calls\n",
    "    states_with_zero_calls = df.loc[df['Flowout to Backup'] == 0, 'State'].tolist()\n",
    "    \n",
    "    # Create bar graph for the statistics\n",
    "    bar_fig = go.Figure()\n",
    "    \n",
    "    bar_fig.add_trace(go.Bar(\n",
    "        x=['Lowest Number of Calls', 'Highest Number of Calls', 'Mean Number of Calls'],\n",
    "        y=[lowest_value, highest_value, mean_value],\n",
    "        text=[lowest_value, highest_value, mean_value],\n",
    "        hovertext=['State with Lowest Calls: ' + state_with_highest_received, \n",
    "                   'State with Highest Calls: ' + state_with_highest_received, \n",
    "                   'Mean Calls'],\n",
    "    ))\n",
    "\n",
    "    bar_fig.update_layout(\n",
    "        title=f'Statistics for Number of Calls in {selected_file}',\n",
    "        xaxis_title='Statistic',\n",
    "        yaxis_title='Number of Calls'\n",
    "    )\n",
    "\n",
    "    # Create a choropleth map for the month's data\n",
    "    fig = px.choropleth(\n",
    "        df,\n",
    "        locations='State',\n",
    "        locationmode='USA-states',\n",
    "        color='Flowout to Backup',  # Use the \"Flowout to Backup\" column for coloring\n",
    "        hover_name='State',\n",
    "        hover_data=['Flowout to Backup'],  # Include the original data\n",
    "        color_continuous_scale='plasma_r',\n",
    "         #color_continuous_scale=\"plasma,inferno,magma,cividis,jet,viridis\"\n",
    "        scope='usa',\n",
    "        title=f'States-wise Flowout to Backup for {selected_file}'\n",
    "    )\n",
    "     # Add a text annotation to the bar chart listing states with zero calls at the top with larger font size\n",
    "    if states_with_zero_calls:\n",
    "        zero_calls_text = \"States with Zero Backup Call:\\n\" + \"\\n\".join(states_with_zero_calls)\n",
    "        bar_fig.add_trace(go.Scatter(\n",
    "            x=['Lowest Number of Calls'],\n",
    "            y=[highest_value * 1.2],  # Adjust the Y position to be above the highest bar\n",
    "            text=[zero_calls_text],\n",
    "            mode='text',\n",
    "            textposition='top center',\n",
    "            textfont=dict(size=14)  # Increase font size to make it bold\n",
    "        ))\n",
    "    else:\n",
    "        zero_calls_text = \"No States with Zero Backup Calls\"\n",
    "        bar_fig.add_trace(go.Scatter(\n",
    "            x=['Lowest Number of Calls'],\n",
    "            y=[highest_value * 1.2],  # Adjust the Y position to be above the highest bar\n",
    "            text=[zero_calls_text],\n",
    "            mode='text',\n",
    "            textposition='top center',\n",
    "            textfont=dict(size=14)  # Increase font size to make it bold\n",
    "        ))\n",
    "\n",
    "    # Display both the choropleth map and the bar chart\n",
    "    with output_area:\n",
    "        clear_output()\n",
    "        display(fig, bar_fig)\n",
    "\n",
    "# Event handler for dropdown change\n",
    "def handle_dropdown_change(change):\n",
    "    selected_file = change.new\n",
    "    generate_choropleth(selected_file)\n",
    "\n",
    "# Link the dropdown widget to the event handler\n",
    "file_dropdown.observe(handle_dropdown_change, names='value')\n",
    "\n",
    "# Display widgets\n",
    "display(file_dropdown)\n",
    "display(output_area)\n"
   ]
  },
  {
   "cell_type": "markdown",
   "id": "ac4c440c",
   "metadata": {},
   "source": [
    "**Key Findings:**  \n",
    "    \n",
    "  - TX, IL, and NY consistently show higher flow-out to backup calls.\n",
    "   \n",
    "**Interpretation:**  \n",
    "  \n",
    "  - High flow-out suggests redirection of calls to backup resources.\n",
    "  - Indicate an inability to handle call volume effectively. \n",
    "  - No sufficient staff count in proportion to number of calls recieved.\n",
    "    \n",
    "**Recommended Actions:**  \n",
    "To reduce reliance on backup calls.\n",
    "  - Allocation of better resource in these states.\n",
    "  - Enhanced investment in improvement of call management strategies.\n",
    "     - Investment in:\n",
    "       - Additional staffing.\n",
    "       - Extensive Training programs.\n",
    "       - Technology upgrades (Quick IVR systems, Call Queuing Algorithms)\n",
    "       - Predictive Analytics to forecast peak time."
   ]
  },
  {
   "cell_type": "markdown",
   "id": "a261a7ef-91dc-4d3d-83d5-77de52ed4429",
   "metadata": {},
   "source": [
    "---------------------------------------\n",
    "**States-wise talktime month by month**\n",
    "---------------------------------------\n",
    "--------------------------------------"
   ]
  },
  {
   "cell_type": "markdown",
   "id": "6054ac74-16a5-4e76-aaf5-4306a1b00f18",
   "metadata": {},
   "source": [
    "Talk time in helpline interactions holds immense significance as it serves as a key indicator of the quality and depth of support provided to callers. Longer talk times often correlate with a more supportive response from helpline staff. Longer talk times also provide more time for helpline staff to assess the caller's emotional state and offer appropriate guidance and resources.\n",
    "\n",
    "Ultimately, talk time reflects the helpline's commitment to providing effective support, ensuring that individuals in distress receive the attention and care they need during their critical moments of crisis.\n",
    "\n",
    "To get better insights, lets's head into the Choropleth of the USA and bar graph chart.\n"
   ]
  },
  {
   "cell_type": "code",
   "execution_count": 59,
   "id": "80ab181c",
   "metadata": {
    "tags": []
   },
   "outputs": [
    {
     "data": {
      "application/vnd.jupyter.widget-view+json": {
       "model_id": "f0fedd2195c4439eb3834dc18b888bff",
       "version_major": 2,
       "version_minor": 0
      },
      "text/plain": [
       "Dropdown(description='Select Month:', options=('FINAL-2021-07_988-Monthly-State-Report.csv', 'FINAL-2021-08_98…"
      ]
     },
     "metadata": {},
     "output_type": "display_data"
    },
    {
     "data": {
      "application/vnd.jupyter.widget-view+json": {
       "model_id": "f87b6f495bee44539a9b23c64f4252ef",
       "version_major": 2,
       "version_minor": 0
      },
      "text/plain": [
       "Output()"
      ]
     },
     "metadata": {},
     "output_type": "display_data"
    }
   ],
   "source": [
    "import os\n",
    "import pandas as pd\n",
    "import plotly.express as px\n",
    "import plotly.graph_objects as go\n",
    "import ipywidgets as widgets\n",
    "from IPython.display import display\n",
    "from ipywidgets import interactive_output\n",
    "\n",
    "# Directory where your monthly data files are located\n",
    "data_directory = \"CSV_DATA/DATA_1\"\n",
    "\n",
    "# List of file names for each month (assuming you have data for multiple months)\n",
    "file_names = os.listdir(data_directory)\n",
    "\n",
    "# Create a dropdown widget for selecting the month\n",
    "month_dropdown = widgets.Dropdown(\n",
    "    options=file_names,\n",
    "    description='Select Month:',\n",
    ")\n",
    "\n",
    "# Function to generate and display the choropleth map and bar chart based on the selected month\n",
    "def generate_choropleth(month):\n",
    "    file_path = os.path.join(data_directory, month)\n",
    "    df = pd.read_csv(file_path, delimiter=';')\n",
    "    \n",
    "\n",
    "    # Extract the \"Avg. Talk Time In-State\" column and add a new column for the month\n",
    "    month_name = month.split(\"-\")[2]\n",
    "    df['Month'] = month_name[0:1]\n",
    "\n",
    "    # Convert \"Avg. Talk Time In-State\" to total minutes as an integer\n",
    "    df['Seconds'] = df['Avg. Talk Time In-State'].apply(lambda x: int(x.split(':')[0]) * 60 + int(x.split(':')[1]))\n",
    "\n",
    "    # Calculate the lowest, highest, and mean values\n",
    "    lowest_value = df['Seconds'].min()\n",
    "    highest_value = df['Seconds'].max()\n",
    "    mean_value = df['Seconds'].mean()\n",
    "    state_with_highest_received = df.loc[df['Seconds'].idxmax(), 'State']\n",
    "    states_with_zero_calls = df.loc[df['Seconds'] == 0, 'State'].tolist()\n",
    "\n",
    "    # Create bar graphs for lowest, highest, and mean values\n",
    "    bar_fig = go.Figure()\n",
    "\n",
    "    bar_fig.add_trace(go.Bar(\n",
    "        x=['Lowest', 'Highest', 'Mean'],\n",
    "        y=[lowest_value, highest_value, mean_value],\n",
    "        text=[f\"{lowest_value:.1f}\", f\"{highest_value:.1f}\", f\"{mean_value:.1f}\"],  # Format the text with one decimal place\n",
    "        hovertext=['State with Highest Average Talktime: ' + state_with_highest_received,\n",
    "                    'State with Highest Average Talktime: ' + state_with_highest_received,\n",
    "                    'Mean Calls'],\n",
    "        textposition='auto',\n",
    "    ))\n",
    "\n",
    "    bar_fig.update_layout(\n",
    "        title=f'Statistics for Avg. Talk Time In-State in {month[6:13]}',\n",
    "        xaxis_title='Statistic',\n",
    "        yaxis_title='Seconds',\n",
    "    )\n",
    "\n",
    "    # Create a choropleth map for the month's data\n",
    "    choropleth_fig = px.choropleth(\n",
    "        df,\n",
    "        locations='State',\n",
    "        locationmode='USA-states',\n",
    "        color='Seconds',  # Use 'Minutes' column for coloring\n",
    "        hover_name='State',  # Display state names on hover\n",
    "        hover_data=['Avg. Talk Time In-State'],\n",
    "        color_continuous_scale='cividis',  # Use the 'Cividis' color scale\n",
    "        scope='usa',\n",
    "        title=f'States-wise Avg. Talk Time In-State for {month[6:13]}'\n",
    "    )\n",
    "\n",
    "    # Set custom hovertemplate to display state names and 'Avg. Talk Time In-State'\n",
    "    choropleth_fig.update_traces(\n",
    "        hovertemplate='%{hovertext}<br>Avg. Talk Time In-State: %{customdata}',\n",
    "        customdata=df['Avg. Talk Time In-State']  # Include 'Avg. Talk Time In-State' in customdata\n",
    "    )\n",
    "\n",
    "    # Add a text annotation to the bar chart listing states with zero calls at the top with larger font size\n",
    "    if states_with_zero_calls:\n",
    "        zero_calls_text = \"States with Zero Avg. Talk Time:\\n\" + \"\\n\".join(states_with_zero_calls)\n",
    "        bar_fig.add_trace(go.Scatter(\n",
    "            x=['Lowest Number of Calls'],\n",
    "            y=[highest_value * 1.2],  # Adjust the Y position to be above the highest bar\n",
    "            text=[zero_calls_text],\n",
    "            mode='text',\n",
    "            textposition='top left',\n",
    "            textfont=dict(size=14)  # Increase font size to make it bold\n",
    "        ))\n",
    "    else:\n",
    "        zero_calls_text = \"No States with Zero Avg. Talk Time\"\n",
    "        bar_fig.add_trace(go.Scatter(\n",
    "            x=['Lowest Value'],\n",
    "            y=[highest_value * 1.2],  # Adjust the Y position to be above the highest bar\n",
    "            text=[zero_calls_text],\n",
    "            mode='text',\n",
    "            textposition='top center',\n",
    "            textfont=dict(size=14)  # Increase font size to make it bold\n",
    "        ))\n",
    "\n",
    "    # Display the choropleth map and bar chart\n",
    "    display(choropleth_fig, bar_fig)\n",
    "\n",
    "# Link the dropdown widget to the plot generation function using interactive_output\n",
    "output = interactive_output(generate_choropleth, {'month': month_dropdown})\n",
    "\n",
    "# Display the widgets and the output\n",
    "display(month_dropdown, output)\n"
   ]
  },
  {
   "cell_type": "markdown",
   "id": "460acf17-21c8-4874-8808-28ad650bf502",
   "metadata": {},
   "source": [
    "The graphs here reveal that in states like New York (NY), Illinois (IL), and Texas (TX), where there is high flow-out to backup calls also have high average talk times. While the high flow-out to backup calls indicates that backup resources are frequently deployed to manage the call volume effectively, the high average talk times suggest that helpline operators are dedicating substantial time and attention to each caller.\n",
    "This indicates a commitment to providing comprehensive and empathetic support despite the challenges posed by heavy call traffic. It also highlights the dedication of helpline staff in these states to ensure that individuals in crisis receive the time and assistance they need. \n",
    "\n",
    "To further enhance these efforts, they could invest in increased staffing levels, ensuring that there are enough operators available to handle the demand effectively. This would help reduce the reliance on backup calls while allowing operators to allocate more time and attention to each caller. "
   ]
  },
  {
   "cell_type": "markdown",
   "id": "85775459-a05a-4420-8703-c527a4c409e1",
   "metadata": {},
   "source": [
    "---------------------------------------\n",
    "**Backup calls vs received calls**\n",
    "---------------------------------------\n",
    "---------------------------------------"
   ]
  },
  {
   "cell_type": "markdown",
   "id": "d1bd7347-e634-4f9b-ac93-7b4dfdbe0730",
   "metadata": {},
   "source": [
    "The relationship between the number of calls answered by a helpline and backup call usage is dynamic and interconnected. These backup calls help bridge the gap between high demand and limited operator availability. As more backup calls are utilized, the helpline can manage a larger number of incoming calls effectively, thus increasing the total number of calls answered. By strategically deploying backup call resources, helplines can optimize their responsiveness and, ultimately, contribute to the effectiveness of their crisis intervention efforts."
   ]
  },
  {
   "cell_type": "code",
   "execution_count": 60,
   "id": "0a9462f6",
   "metadata": {
    "scrolled": false
   },
   "outputs": [
    {
     "data": {
      "application/vnd.jupyter.widget-view+json": {
       "model_id": "c8a2b313c665426ea991d03c79c9f157",
       "version_major": 2,
       "version_minor": 0
      },
      "text/plain": [
       "interactive(children=(Dropdown(description='Select Dataset:', options=('JUL-2021', 'AUG-2021', 'SEP-2021', 'OC…"
      ]
     },
     "metadata": {},
     "output_type": "display_data"
    },
    {
     "data": {
      "text/plain": [
       "<function __main__.generate_proportional_map(dataset_name)>"
      ]
     },
     "execution_count": 60,
     "metadata": {},
     "output_type": "execute_result"
    }
   ],
   "source": [
    "import pandas as pd\n",
    "import plotly.express as px\n",
    "import ipywidgets as widgets\n",
    "from IPython.display import display\n",
    "\n",
    "# Load your datasets into a dictionary\n",
    "datasets = {\n",
    "    \"JUL-2021\": pd.read_csv(\"CSV_DATA/DATA_1/FINAL-2021-07_988-Monthly-State-Report.csv\", delimiter=';'),\n",
    "    \"AUG-2021\": pd.read_csv(\"CSV_DATA/DATA_1/FINAL-2021-08_988-Monthly-State-Report.csv\", delimiter=';'),\n",
    "    \"SEP-2021\": pd.read_csv(\"CSV_DATA/DATA_1/FINAL-2021-09_988-Monthly-State-Report.csv\", delimiter=';'),\n",
    "    \"OCT-2021\": pd.read_csv(\"CSV_DATA/DATA_1/FINAL-2021-10_988-Monthly-State-Report.csv\", delimiter=';'),\n",
    "    \"NOV-2021\": pd.read_csv(\"CSV_DATA/DATA_1/FINAL-2021-11_988-Monthly-State-Report.csv\", delimiter=';'),\n",
    "    \"DEC-2021\": pd.read_csv(\"CSV_DATA/DATA_1/FINAL-2021-12_988-Monthly-State-Report.csv\", delimiter=';'),\n",
    "    \"JAN-2022\": pd.read_csv(\"CSV_DATA/DATA_1/FINAL-2022-01_988-Monthly-State-Report.csv\", delimiter=';'),\n",
    "    \"FEB-2022\": pd.read_csv(\"CSV_DATA/DATA_1/FINAL-2022-02_988-Monthly-State-Report.csv\", delimiter=';'),\n",
    "    \"MAR-2022\": pd.read_csv(\"CSV_DATA/DATA_1/FINAL-2022-03_988-Monthly-State-Report.csv\", delimiter=';'),\n",
    "    \"APR-2022\": pd.read_csv(\"CSV_DATA/DATA_1/FINAL-2022-04_988-Monthly-State-Report.csv\", delimiter=';'),\n",
    "    \"MAY-2022\": pd.read_csv(\"CSV_DATA/DATA_1/FINAL-2022-05_988-Monthly-State-Report.csv\", delimiter=';'),\n",
    "    \"JUN-2022\": pd.read_csv(\"CSV_DATA/DATA_1/FINAL-2022-06_988-Monthly-State-Report.csv\", delimiter=';'),\n",
    "    \"JUL-2022\": pd.read_csv(\"CSV_DATA/DATA_1/FINAL-2022-07_988-Monthly-State-Report.csv\", delimiter=';'),\n",
    "}\n",
    "\n",
    "# Create a function to generate the proportional map using Plotly\n",
    "def generate_proportional_map(dataset_name):\n",
    "    data = datasets.get(dataset_name)\n",
    "    data['Flowout to Backup'] = data['Flowout to Backup'].str.replace(',', '').astype(int)\n",
    "    data['Received'] = data['Received'].str.replace(',', '').astype(int)\n",
    "    proportion = data['Flowout to Backup'] / data['Received']\n",
    "    \n",
    "    if data is None:\n",
    "        print(\"Dataset not found.\")\n",
    "        return\n",
    "    \n",
    "    data['Proportion'] = data['Flowout to Backup'] / data['Received']*100\n",
    "\n",
    "    # Create a choropleth map using Plotly Express\n",
    "    fig = px.choropleth(\n",
    "    data,\n",
    "    locations=\"State\",  # Column with state names\n",
    "    locationmode=\"USA-states\",  # Set location mode to USA-states\n",
    "    color=\"Proportion\",  # Color scale based on the proportion\n",
    "    range_color=(0, 100),  # Specify the color range\n",
    "    hover_name=\"State\",  # Display state name on hover\n",
    "    custom_data=[\"Flowout to Backup\", \"Received\"],  # Custom data for hover\n",
    "    title=f\"Percentage of Received Calls gone to Backup - Statewise for {dataset_name}\"\n",
    "    )\n",
    "    fig.update_geos(\n",
    "        visible=False,\n",
    "        resolution=110,\n",
    "        showcoastlines=True,\n",
    "        coastlinecolor=\"Black\",\n",
    "        showland=True,\n",
    "        landcolor=\"white\",\n",
    "    )\n",
    "\n",
    "    \n",
    "    fig.update_traces(\n",
    "    hovertemplate=\"<b>%{hovertext}</b><br>\" +\n",
    "                  \"Flowout to Backup: %{customdata[0]}<br>\" +\n",
    "                  \"Received: %{customdata[1]}<br>\" +\n",
    "                  \"Proportion: %{z:.2f}\"\n",
    ")\n",
    "\n",
    "    fig.show()\n",
    " \n",
    "\n",
    "# Create a dropdown widget with dataset names as options\n",
    "dataset_dropdown = widgets.Dropdown(\n",
    "    options=list(datasets.keys()),\n",
    "    description='Select Dataset:',\n",
    ")\n",
    "\n",
    "# Use the interact function to connect the dropdown to the map generation function\n",
    "widgets.interact(generate_proportional_map, dataset_name=dataset_dropdown)\n"
   ]
  },
  {
   "cell_type": "code",
   "execution_count": 4,
   "id": "ffc845d9",
   "metadata": {
    "tags": []
   },
   "outputs": [
    {
     "data": {
      "application/vnd.jupyter.widget-view+json": {
       "model_id": "8540d32442fb43ad9dcb162f22dbe6fb",
       "version_major": 2,
       "version_minor": 0
      },
      "text/plain": [
       "interactive(children=(Dropdown(description='Select Dataset:', options=('JUL-2021', 'AUG-2021', 'SEP-2021', 'OC…"
      ]
     },
     "metadata": {},
     "output_type": "display_data"
    },
    {
     "data": {
      "text/plain": [
       "<function __main__.generate_proportional_map(dataset_name)>"
      ]
     },
     "execution_count": 4,
     "metadata": {},
     "output_type": "execute_result"
    }
   ],
   "source": [
    "import pandas as pd\n",
    "import folium\n",
    "from geopy.geocoders import Nominatim\n",
    "import ipywidgets as widgets\n",
    "from IPython.display import display\n",
    "\n",
    "\n",
    "# Load your datasets into a dictionary\n",
    "datasets = {\n",
    "    \"JUL-2021\": pd.read_csv(\"CSV_DATA/DATA_1/FINAL-2021-07_988-Monthly-State-Report.csv\", delimiter=';'),\n",
    "    \"AUG-2021\": pd.read_csv(\"CSV_DATA/DATA_1/FINAL-2021-08_988-Monthly-State-Report.csv\", delimiter=';'),\n",
    "    \"SEP-2021\": pd.read_csv(\"CSV_DATA/DATA_1/FINAL-2021-09_988-Monthly-State-Report.csv\", delimiter=';'),\n",
    "    \"OCT-2021\": pd.read_csv(\"CSV_DATA/DATA_1/FINAL-2021-10_988-Monthly-State-Report.csv\", delimiter=';'),\n",
    "    \"NOV-2021\": pd.read_csv(\"CSV_DATA/DATA_1/FINAL-2021-11_988-Monthly-State-Report.csv\", delimiter=';'),\n",
    "    \"DEC-2021\": pd.read_csv(\"CSV_DATA/DATA_1/FINAL-2021-12_988-Monthly-State-Report.csv\", delimiter=';'),\n",
    "    \"JAN-2022\": pd.read_csv(\"CSV_DATA/DATA_1/FINAL-2022-01_988-Monthly-State-Report.csv\", delimiter=';'),\n",
    "    \"FEB-2022\": pd.read_csv(\"CSV_DATA/DATA_1/FINAL-2022-02_988-Monthly-State-Report.csv\", delimiter=';'),\n",
    "    \"MAR-2022\": pd.read_csv(\"CSV_DATA/DATA_1/FINAL-2022-03_988-Monthly-State-Report.csv\", delimiter=';'),\n",
    "    \"APR-2022\": pd.read_csv(\"CSV_DATA/DATA_1/FINAL-2022-04_988-Monthly-State-Report.csv\", delimiter=';'),\n",
    "    \"MAY-2022\": pd.read_csv(\"CSV_DATA/DATA_1/FINAL-2022-05_988-Monthly-State-Report.csv\", delimiter=';'),\n",
    "    \"JUN-2022\": pd.read_csv(\"CSV_DATA/DATA_1/FINAL-2022-06_988-Monthly-State-Report.csv\", delimiter=';'),\n",
    "    \"JUL-2022\": pd.read_csv(\"CSV_DATA/DATA_1/FINAL-2022-07_988-Monthly-State-Report.csv\", delimiter=';'),\n",
    "    \n",
    "    # Add more datasets as needed\n",
    "}\n",
    "\n",
    "# Initialize Geopy's Nominatim geocoder with a custom user agent\n",
    "geolocator = Nominatim(user_agent=\"my_geocoder\")\n",
    "\n",
    "# Create a function to generate the proportional map\n",
    "def generate_proportional_map(dataset_name):\n",
    "    data = datasets.get(dataset_name)\n",
    "    data['Flowout to Backup'] = data['Flowout to Backup'].str.replace(',', '').astype(int)\n",
    "    data['Received'] = data['Received'].str.replace(',', '').astype(int)\n",
    "    if data is None:\n",
    "        print(\"Dataset not found.\")\n",
    "        return\n",
    "\n",
    "    # Create a Folium map centered around the contiguous U.S.\n",
    "    m = folium.Map(location=[37.0902, -95.7129], zoom_start=4)\n",
    "\n",
    "    # Add proportional circles for each contiguous state\n",
    "    for _, row in data.iterrows():\n",
    "        state = row['State']\n",
    "        proportion = row['Flowout to Backup'] / row['Received']\n",
    "\n",
    "        # Use Geopy to fetch coordinates for the state or territory\n",
    "        location = geolocator.geocode(state, exactly_one=True)\n",
    "\n",
    "        if location:\n",
    "            latitude = location.latitude\n",
    "            longitude = location.longitude\n",
    "\n",
    "            # Adjust the circle size based on the proportion\n",
    "            radius = proportion * 20\n",
    "\n",
    "            folium.CircleMarker(\n",
    "                location=[latitude, longitude],\n",
    "                radius=radius,\n",
    "                color='red',\n",
    "                fill=True,\n",
    "                fill_color='red',\n",
    "                fill_opacity=0.6,\n",
    "                popup=f\"{state}: {proportion:.2%}\",\n",
    "            ).add_to(m)\n",
    "\n",
    "    # Display the map\n",
    "    display(m)\n",
    "\n",
    "# Create a dropdown widget with dataset names as options\n",
    "dataset_dropdown = widgets.Dropdown(\n",
    "    options=list(datasets.keys()),\n",
    "    description='Select Dataset:',\n",
    ")\n",
    "\n",
    "# Use the interact function to connect the dropdown to the map generation function\n",
    "widgets.interact(generate_proportional_map, dataset_name=dataset_dropdown)\n"
   ]
  },
  {
   "cell_type": "code",
   "execution_count": null,
   "id": "6c41b81c",
   "metadata": {},
   "outputs": [],
   "source": []
  },
  {
   "cell_type": "markdown",
   "id": "c9da715d-628f-41e0-8aa4-2ea8acee635f",
   "metadata": {},
   "source": [
    "As can be seen, Illinois(IL) has the highest rate of calls going to backup among all received call in mainland USA. this indicates a need for higher staffing in the main offices in the state.\n",
    "The above visualization is slightly erroneous due to the difficulty in rendering it.\n",
    "\n",
    "It was also found that U.S. territories outside the mainland, such as American Samoa (AS), Northern Mariana Islands (MP), Virgin Islands (VI), and Puerto Rico (PR), exhibit a high rate of backup calls compared to received calls in the Backup Calls vs. Received Calls graph is a significant observation. This suggests that these territories may face unique challenges in managing their call volumes and providing immediate crisis intervention. It's possible that these regions have limited access to trained helpline operators, or infrastructure constraints that result in a higher reliance on backup call resources.\n",
    "\n",
    "To address this, it's crucial to prioritize investment in these territories, enhancing staffing, training, and technological support to ensure that individuals in crisis receive timely and comprehensive assistance."
   ]
  },
  {
   "cell_type": "markdown",
   "id": "5a8b6359-9d2e-4a9b-a4ba-07ff997a2002",
   "metadata": {
    "tags": []
   },
   "source": [
    "---------------------------------------\n",
    "**ASA vs Backup Calls**\n",
    "---------------------------------------\n",
    "---------------------------------------"
   ]
  },
  {
   "cell_type": "code",
   "execution_count": 61,
   "id": "d78a1f26",
   "metadata": {
    "tags": []
   },
   "outputs": [
    {
     "data": {
      "application/vnd.jupyter.widget-view+json": {
       "model_id": "eb2686d7d3d6420699046bf6acb93c63",
       "version_major": 2,
       "version_minor": 0
      },
      "text/plain": [
       "Dropdown(description='Select Dataset:', options=('APRIL-2022.csv', 'AUGUST-2021.csv', 'DECEMBER-2021.csv', 'FE…"
      ]
     },
     "metadata": {},
     "output_type": "display_data"
    },
    {
     "data": {
      "application/vnd.jupyter.widget-view+json": {
       "model_id": "485a5fde35e9438982470dd3214d20f1",
       "version_major": 2,
       "version_minor": 0
      },
      "text/plain": [
       "Button(description='Clear Output', style=ButtonStyle())"
      ]
     },
     "metadata": {},
     "output_type": "display_data"
    },
    {
     "data": {
      "application/vnd.jupyter.widget-view+json": {
       "model_id": "a49743e7c41445fba42c36d1770d78cd",
       "version_major": 2,
       "version_minor": 0
      },
      "text/plain": [
       "Output()"
      ]
     },
     "metadata": {},
     "output_type": "display_data"
    }
   ],
   "source": [
    "import pandas as pd\n",
    "import plotly.express as px\n",
    "import os\n",
    "import ipywidgets as widgets\n",
    "from IPython.display import display, clear_output\n",
    "\n",
    "# Directory containing the monthly datasets\n",
    "data_dir = \"CSV_DATA/DATA\"\n",
    "\n",
    "# List of files in the directory\n",
    "file_list = os.listdir(data_dir)\n",
    "\n",
    "# Dropdown widget for selecting a dataset\n",
    "dataset_dropdown = widgets.Dropdown(\n",
    "    options=file_list,\n",
    "    description='Select Dataset:',\n",
    "    disabled=False,\n",
    ")\n",
    "\n",
    "# Button to manually clear the output\n",
    "clear_button = widgets.Button(description=\"Clear Output\")\n",
    "\n",
    "# Output widget for displaying the biplot\n",
    "output = widgets.Output()\n",
    "\n",
    "# Function to generate and display the biplot based on user selection\n",
    "def generate_biplot(file_name):\n",
    "    with output:\n",
    "        clear_output(wait=True)  # Clear the output area without closing the dropdown\n",
    "        file_path = os.path.join(data_dir, file_name)\n",
    "\n",
    "        # Read the dataset\n",
    "        df = pd.read_csv(file_path, delimiter=';')\n",
    "\n",
    "        # Check for missing values in 'ASA In-State' and 'Abandoned In-State' columns\n",
    "        if df['ASA In-State'].isnull().any() or df['Abandoned In-State'].isnull().any():\n",
    "            raise ValueError(f\"There are missing values in 'ASA In-State' or 'Abandoned In-State' columns in {file_name}.\")\n",
    "\n",
    "        # Prepare data\n",
    "        df['ASA In-State'] = df['ASA In-State'].str.split(':').apply(lambda x: int(x[0]) * 60 + int(x[1]))\n",
    "\n",
    "        # Create a biplot using Plotly Express\n",
    "        fig = px.scatter(df, x='ASA In-State', y='Flowout to Backup', color='State',\n",
    "                         labels={'ASA In-State': 'Average Speed of Answer (Seconds)', 'Flowout to Backup': 'Backup Calls'},\n",
    "                         title=f'Biplot of ASA vs. Backup Calls - {file_name}',)\n",
    "\n",
    "        # Show the plot\n",
    "        fig.show()\n",
    "\n",
    "# Define a callback function to generate the plot when the dropdown value changes\n",
    "def on_dropdown_change(change):\n",
    "    if change['type'] == 'change' and change['name'] == 'value':\n",
    "        generate_biplot(change['new'])\n",
    "\n",
    "# Attach the callback to the dropdown widget\n",
    "dataset_dropdown.observe(on_dropdown_change)\n",
    "\n",
    "# Function to manually clear the output\n",
    "def clear_output_button(b):\n",
    "    with output:\n",
    "        clear_output()\n",
    "        display(dataset_dropdown, clear_button, output)\n",
    "\n",
    "# Attach the clear_output_button callback\n",
    "clear_button.on_click(clear_output_button)\n",
    "\n",
    "# Display the dropdown widget initially\n",
    "display(dataset_dropdown, clear_button, output)"
   ]
  },
  {
   "cell_type": "markdown",
   "id": "45fc3c36-b7a2-43a4-8a58-804d44e3e30a",
   "metadata": {},
   "source": [
    "It was observed that Florida (FL) and Minnesota (MN) have experienced a worsening trend in Average Speed of Answer (ASA) over a year while simultaneously witnessing a significant increase in backup calls, whereas Illinois (IL) has shown improvement. \n",
    "\n",
    "The ASA values in FL and MN coupled with surge in backup calls could indicate a growing demand for crisis helpline services in these states, potentially outpacing their capacity to respond promptly. This situation can strain the capacity of the helpline to provide immediate assistance. \n",
    "\n",
    "Conversely, IL's improved number of backup calls indicates enhanced call management and responsiveness to callers' needs. To optimize helpline operations, FL and MN may consider strategies such as increased staffing, enhanced training, and process improvements."
   ]
  },
  {
   "cell_type": "markdown",
   "id": "0ff10533",
   "metadata": {},
   "source": [
    "---------------------------------------\n",
    "### References:\n",
    "---------------------------------------\n",
    "  - https://www.forbes.com/sites/anafaguy/2023/08/10/suicide-rate-reaches-all-time-high-in-2022-cdc-data-suggests/?sh=6a6d8d3d58b8  \n",
    "  \n",
    "  \n",
    " - https://www.nytimes.com/2023/07/13/well/mind/988-suicide-crisis-hotline.html  \n",
    "  \n",
    "  - https://www.npr.org/sections/health-shots/2022/08/11/1116769071/social-media-posts-warn-people-not-to-call-988-heres-what-you-need-to-know  \n",
    "  \n",
    "  - https://hdr.undp.org/data-center/human-development-index#/indicies/HDI\n"
   ]
  },
  {
   "cell_type": "markdown",
   "id": "cb90b364",
   "metadata": {},
   "source": [
    "###  Thank you\n",
    "----------------------------------------------------------------------\n",
    "\n",
    "- [GitHub](https://github.com/mohdUwaish59/)\n",
    "-  [LinkedIn](https://www.linkedin.com/in/mohd-uwaish-72b779282/)  \n",
    "-  [Xing](https://www.xing.com/profile/Mohd_Uwaish/cv)\n",
    "\n"
   ]
  }
 ],
 "metadata": {
  "kernelspec": {
   "display_name": "Python 3 (ipykernel)",
   "language": "python",
   "name": "python3"
  },
  "language_info": {
   "codemirror_mode": {
    "name": "ipython",
    "version": 3
   },
   "file_extension": ".py",
   "mimetype": "text/x-python",
   "name": "python",
   "nbconvert_exporter": "python",
   "pygments_lexer": "ipython3",
   "version": "3.10.9"
  }
 },
 "nbformat": 4,
 "nbformat_minor": 5
}
